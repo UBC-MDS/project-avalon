{
 "cells": [
  {
   "cell_type": "markdown",
   "id": "69293354-1852-4df2-938e-1b7b83c87399",
   "metadata": {},
   "source": [
    "# Crime Forecast in Vancouver"
   ]
  },
  {
   "cell_type": "markdown",
   "id": "66b3dbf0-2158-4bc2-a0dd-b2685d8dfc48",
   "metadata": {},
   "source": [
    "by Ben Chen, Mo Norouzi, Orix Au Yeung, Yiwei Zhang"
   ]
  },
  {
   "cell_type": "code",
   "execution_count": 1,
   "id": "0bc1fadf-357e-4aac-8345-1c5322d2bdab",
   "metadata": {
    "tags": [
     "remove-input"
    ]
   },
   "outputs": [],
   "source": [
    "import pandas as pd\n",
    "import warnings\n",
    "from myst_nb import glue\n",
    "warnings.filterwarnings(\"ignore\")"
   ]
  },
  {
   "cell_type": "code",
   "execution_count": 39,
   "id": "913eebc4",
   "metadata": {
    "tags": [
     "remove-input"
    ]
   },
   "outputs": [
    {
     "ename": "NameError",
     "evalue": "name 'glue' is not defined",
     "output_type": "error",
     "traceback": [
      "\u001b[0;31m---------------------------------------------------------------------------\u001b[0m",
      "\u001b[0;31mNameError\u001b[0m                                 Traceback (most recent call last)",
      "\u001b[1;32m/Users/benchen/git/522/project-avalon/report/crime_forecasting.ipynb Cell 4\u001b[0m line \u001b[0;36m1\n\u001b[1;32m      <a href='vscode-notebook-cell:/Users/benchen/git/522/project-avalon/report/crime_forecasting.ipynb#W3sZmlsZQ%3D%3D?line=1'>2</a>\u001b[0m data_head \u001b[39m=\u001b[39m data\u001b[39m.\u001b[39mhead()\u001b[39m.\u001b[39mstyle\u001b[39m.\u001b[39mset_properties(\u001b[39m*\u001b[39m\u001b[39m*\u001b[39m{\u001b[39m'\u001b[39m\u001b[39mfont-size\u001b[39m\u001b[39m'\u001b[39m: \u001b[39m'\u001b[39m\u001b[39m7pt\u001b[39m\u001b[39m'\u001b[39m})\n\u001b[1;32m      <a href='vscode-notebook-cell:/Users/benchen/git/522/project-avalon/report/crime_forecasting.ipynb#W3sZmlsZQ%3D%3D?line=2'>3</a>\u001b[0m data_head\u001b[39m.\u001b[39mset_table_styles([{\n\u001b[1;32m      <a href='vscode-notebook-cell:/Users/benchen/git/522/project-avalon/report/crime_forecasting.ipynb#W3sZmlsZQ%3D%3D?line=3'>4</a>\u001b[0m     \u001b[39m'\u001b[39m\u001b[39mselector\u001b[39m\u001b[39m'\u001b[39m: \u001b[39m'\u001b[39m\u001b[39mth\u001b[39m\u001b[39m'\u001b[39m,\n\u001b[1;32m      <a href='vscode-notebook-cell:/Users/benchen/git/522/project-avalon/report/crime_forecasting.ipynb#W3sZmlsZQ%3D%3D?line=4'>5</a>\u001b[0m     \u001b[39m'\u001b[39m\u001b[39mprops\u001b[39m\u001b[39m'\u001b[39m: [(\u001b[39m'\u001b[39m\u001b[39mfont-size\u001b[39m\u001b[39m'\u001b[39m, \u001b[39m'\u001b[39m\u001b[39m7pt\u001b[39m\u001b[39m'\u001b[39m)]\n\u001b[0;32m   (...)\u001b[0m\n\u001b[1;32m      <a href='vscode-notebook-cell:/Users/benchen/git/522/project-avalon/report/crime_forecasting.ipynb#W3sZmlsZQ%3D%3D?line=7'>8</a>\u001b[0m     \u001b[39m'\u001b[39m\u001b[39mprops\u001b[39m\u001b[39m'\u001b[39m: [(\u001b[39m'\u001b[39m\u001b[39mfont-size\u001b[39m\u001b[39m'\u001b[39m, \u001b[39m'\u001b[39m\u001b[39m7pt\u001b[39m\u001b[39m'\u001b[39m)]\n\u001b[1;32m      <a href='vscode-notebook-cell:/Users/benchen/git/522/project-avalon/report/crime_forecasting.ipynb#W3sZmlsZQ%3D%3D?line=8'>9</a>\u001b[0m }])                                          \n\u001b[0;32m---> <a href='vscode-notebook-cell:/Users/benchen/git/522/project-avalon/report/crime_forecasting.ipynb#W3sZmlsZQ%3D%3D?line=9'>10</a>\u001b[0m glue(\u001b[39m\"\u001b[39m\u001b[39mdata_head\u001b[39m\u001b[39m\"\u001b[39m, data_head, display\u001b[39m=\u001b[39m\u001b[39mFalse\u001b[39;00m)\n\u001b[1;32m     <a href='vscode-notebook-cell:/Users/benchen/git/522/project-avalon/report/crime_forecasting.ipynb#W3sZmlsZQ%3D%3D?line=10'>11</a>\u001b[0m glue(\u001b[39m\"\u001b[39m\u001b[39mdata_no_cols\u001b[39m\u001b[39m\"\u001b[39m, data\u001b[39m.\u001b[39mshape[\u001b[39m1\u001b[39m], display\u001b[39m=\u001b[39m\u001b[39mFalse\u001b[39;00m)\n\u001b[1;32m     <a href='vscode-notebook-cell:/Users/benchen/git/522/project-avalon/report/crime_forecasting.ipynb#W3sZmlsZQ%3D%3D?line=11'>12</a>\u001b[0m glue(\u001b[39m\"\u001b[39m\u001b[39mdata_no_rows\u001b[39m\u001b[39m\"\u001b[39m, data\u001b[39m.\u001b[39mshape[\u001b[39m0\u001b[39m], display\u001b[39m=\u001b[39m\u001b[39mFalse\u001b[39;00m)\n",
      "\u001b[0;31mNameError\u001b[0m: name 'glue' is not defined"
     ]
    }
   ],
   "source": [
    "data = pd.read_csv(\"../data/raw/crimedata_csv_AllNeighbourhoods_AllYears.csv\", encoding=\"utf-8\").round(2)\n",
    "data_head = data.head().style.set_properties(**{'font-size': '8pt'}).hide()\n",
    "data_head.set_table_styles([{'selector': 'th','props': [('font-size', '9pt'), ('border', '1px solid black')]}, {'selector': 'td', 'props': [('border', '1px solid black'), ('padding', '2px')]}])                                       \n",
    "glue(\"data_head\", data_head, display=False)\n",
    "glue(\"data_no_cols\", data.shape[1], display=False)\n",
    "glue(\"data_no_rows\", data.shape[0], display=False)\n",
    "glue(\"no_year_unique\", max(data[\"YEAR\"]) - min(data[\"YEAR\"]), display=False)\n",
    "\n",
    "data_description = pd.read_csv(\"../results/tables/description.csv\", encoding=\"utf-8\", index_col=0).round(2)\n",
    "glue(\"data_description\", data_description.style.format('{:.1f}'), display=False)\n",
    "\n",
    "missing_data = pd.read_csv(\"../results/tables/missing_values.csv\", encoding=\"utf-8\").round(2)\n",
    "glue(\"missing_values\", missing_data.style.format().hide(), display=False)\n",
    "\n",
    "correlation = pd.read_csv(\"../results/tables/correlation.csv\", encoding=\"utf-8\", index_col=0).round(2)\n",
    "glue(\"data_correlation\", correlation.style.format('{:.2f}'), display=False)\n",
    "\n",
    "preprocessed_head = pd.read_csv(\"../data/processed/preprocessed_data_head.csv\", encoding=\"utf-8\").round(2)\n",
    "glue(\"preprocessed_head\", preprocessed_head.style.format().hide(), display=False)\n",
    "\n",
    "theft_from_vehicle_full = pd.read_csv(\"../data/processed/preprocessed_theft_from_vehicle_full.csv\", encoding=\"utf-8\").round(2)\n",
    "glue(\"theft_from_vehicle_rows\", theft_from_vehicle_full.shape[0], display=False)\n",
    "\n",
    "theft_from_vehicle_head = pd.read_csv(\"../data/processed/preprocessed_theft_from_vehicle_head.csv\", encoding=\"utf-8\").round(2)\n",
    "glue(\"theft_from_vehicle_head\", theft_from_vehicle_head.style.format().hide(), display=False)\n",
    "\n",
    "all_predictions = pd.read_csv(\"../results/tables/all_predictions.csv\", encoding=\"utf-8\", index_col=0).round(2)\n",
    "glue(\"all_predictions_head\", all_predictions.head(15).style.format().hide(), display=False)\n",
    "glue(\"all_predictions_tail\", all_predictions.tail(5).style.format().hide(), display=False)\n",
    "\n",
    "observations = pd.read_csv(\"../results/tables/observations.csv\", encoding=\"utf-8\", index_col=0).round(2)\n",
    "glue(\"observations\", observations.style.format().hide(), display=False)\n",
    "glue(\"arima_mae\", observations.query(\"Forecast_Column == 'ARIMA_Forecast'\")[\"MAE\"].squeeze(), display=False)"
   ]
  },
  {
   "cell_type": "markdown",
   "id": "30a99e74-48a4-4b1d-975c-c5e71aa56f68",
   "metadata": {},
   "source": [
    "## Summary\n",
    "\n",
    "In this notebook, our focus revolved around constructing a time-series forecasting model tailored to predict crime incidents in Vancouver, using \"Month\" as the temporal unit. Our primary emphasis centered on one of the most prevalent crime types in Vancouver over the past two decades: theft from vehicles. We evaluated the efficacy of three fundamental forecasting models—simple moving average, exponential smoothing, and ARIMA(1,1,0). Notably, the ARIMA(1,1,0) model emerged as the most effective, yielding a Mean Absolute Error (MAE) of {glue:text}`arima_mae`. Considering that the occurrences of \"theft from a vehicle\" crimes per month often range in the hundreds to thousands, achieving a forecast performance of this caliber is notably commendable. It's worth highlighting that further refinement through comprehensive parameter tuning and integration of additional external variables holds the potential to cultivate even more accurate forecasting models.\n",
    "\n",
    "Moreover, the ARIMA(1,1,0) model's performance suggests promising potential for practical deployment in crime prevention strategies by law enforcement agencies. However, it's important to acknowledge the limitations inherent in solely relying on historical crime data; external socio-economic factors, seasonal fluctuations, and policy changes might significantly impact future crime trends, necessitating continual model adaptation and refinement for robust predictive accuracy."
   ]
  },
  {
   "cell_type": "markdown",
   "id": "9ba2394c-91d1-41c3-9e34-ca7690cc7534",
   "metadata": {},
   "source": [
    "## Introduction\n",
    "\n",
    "Vehicle-related theft remains an ongoing concern nationwide in Canada, with statistics revealing a staggering incident of vehicle theft occurring every six minutes across the country {cite}`CTVnews`. This pervasive issue extends into Vancouver, presenting formidable challenges to both community safety and law enforcement efforts. Theft from vehicles, a prevalent form of this crime, significantly affects neighborhoods, inflicting distress and substantial financial losses on local residents. In response to this pressing concern, this project is dedicated to forecasting occurrences of theft from vehicles specifically within Vancouver.\n",
    "\n",
    "The primary objective of this project is to forecast instances of theft from vehicles in Vancouver by analyzing historical data. Leveraging a comprehensive dataset sourced from the Vancouver Police Department, encompassing diverse crime records in Vancouver over the past {glue:text}`no_year_unique` years alongside incident locations, our goal is to construct a reliable predictive model. This model aims to anticipate the frequency and patterns specific to theft from vehicles. An accurate forecast holds the potential to empower the City of Vancouver to proactively allocate law enforcement resources, thereby curbing the occurrence of such crimes and enhancing community safety."
   ]
  },
  {
   "cell_type": "markdown",
   "id": "55ac292b-34d3-4455-adef-9827f87e3b27",
   "metadata": {},
   "source": [
    "## Methods\n",
    "\n",
    "### Data\n",
    "\n",
    "The dataset utilized for this project originates from the Vancouver Police Department, available through the following link: https://geodash.vpd.ca/opendata/ {cite}`crimedata2023`. It comprises {glue:text}`data_no_cols` columns/variables and encompasses a substantial volume of data, totaling {glue:text}`data_no_rows` rows. Each row corresponds to a distinct crime incident recorded within the dataset. The available information includes details about the crime type, the corresponding date of occurrence, and the specific location or neighborhood where the crime took place. These data points serve as crucial elements for our analysis and forecasting efforts.\n",
    "\n",
    "### Analysis\n",
    "\n",
    "We're deploying three distinct time-series forecasting models—Simple Moving Average (SMA), Exponential Smoothing (ES), and Autoregressive Integrated Moving Average (ARIMA). These models rely solely on the timestamp and the targeted forecasted value. Despite having location data, which holds potential value, we've deferred its utilization in this phase of the project. Employing a rolling window approach, we'll predict and assess model performance across a {glue:text}`no_year_unique`-year duration, setting the window size to 12 months. This configuration ensures that forecasts leverage the preceding year's data for accuracy. Specifically for ARIMA, the hyperparameters (p, d, q) are set at (1, 1, 0). This specification signifies that the model factors in the most recent lagged observations of the differenced series to predict the subsequent value. Our analysis was executed using Python, leveraging various libraries: numpy {cite}`harris2020`, Pandas {cite}`mckinney2010`, Altair {cite}`vanderplas2018`, scikit-learn {cite}`pedregosa`, Matplotlib {cite}`hunter2007`, Seaborn {cite}`seaborn`, and Statsmodels {cite}`seabold2010`."
   ]
  },
  {
   "cell_type": "markdown",
   "id": "41d505cb-54b3-4627-9ea6-c37fa0be785c",
   "metadata": {},
   "source": [
    "## Results & Discussions\n",
    "\n",
    "First, we'll take a brief look into the dataset that we have at hand. We can take a sneak peak into our dataset ({numref}`Figure {number} <data_head>`) and identify the variables and datatypes that we are dealing with. A summary statistics ({numref}`Figure {number} <data_description>`) is displayed below and we can see that we also have some missing values ({numref}`Figure {number} <missing_values>`) in our dataset. However, since we are applying a pure time-series model that depend only on lagged values, the missing values shouldn't be an issue."
   ]
  },
  {
   "cell_type": "markdown",
   "id": "36259402",
   "metadata": {},
   "source": [
    "### Data Preview and Summary"
   ]
  },
  {
   "cell_type": "markdown",
   "id": "e9630679",
   "metadata": {},
   "source": [
    "```{glue:figure} data_head\n",
    ":name: \"data_head\"\n",
    "\n",
    "A preview of the dataset.\n",
    "```"
   ]
  },
  {
   "cell_type": "markdown",
   "id": "65cd3a81",
   "metadata": {},
   "source": [
    "```{glue:figure} data_description\n",
    ":name: \"data_description\"\n",
    "\n",
    "The summary statistics of the dataset.\n",
    "```"
   ]
  },
  {
   "cell_type": "markdown",
   "id": "f5c906ed-24c8-4558-9a37-84f6d4c7f8b7",
   "metadata": {},
   "source": [
    "### Missing values"
   ]
  },
  {
   "cell_type": "markdown",
   "id": "52cda855",
   "metadata": {},
   "source": [
    "```{glue:figure} missing_values\n",
    ":name: \"missing_values\"\n",
    "\n",
    "Missing value in the dataset.\n",
    "```"
   ]
  },
  {
   "cell_type": "markdown",
   "id": "94c0b04c-7bb5-4442-861e-3f47ad5b5521",
   "metadata": {},
   "source": [
    "### Distribution\n",
    "\n",
    "Upon conducting exploratory data analysis (EDA), conspicuous anomalies surface in the dataset. The `HOUR` and `MINUTE` columns exhibit an unusual frequency of zero values, along with a disproportionate occurrence of '30' in the `MINUTE` column. Additionally, the `DAY` column prominently features an excessive number of records logged on the 31st of the month ({numref}`Figure {number} <numeric_dist>`). These irregularities likely stem from convenience in data recording, casting uncertainty on the accuracy of these three columns. In light of these inconsistencies, the most prudent approach is to exclude the `DAY`, `HOUR`, and `MINUTE` columns from analysis and focus solely on forecasting crime occurrences based on the `MONTH` variable. Moreover, from the two bar graphs displaying the distribution of `TYPE` and `NEIGHBORHOOD` ({numref}`Figure {number} <categ_dist>`), we get a good idea of the types of crime happening in Vancouver as well as the location in which they're concentrated in. "
   ]
  },
  {
   "cell_type": "markdown",
   "id": "94b2a741",
   "metadata": {},
   "source": [
    "```{figure} ../results/figures/numeric_dist.png\n",
    "---\n",
    "width: 800px\n",
    "name: numeric_dist\n",
    "---\n",
    "The distribution of numerical variables.\n",
    "```"
   ]
  },
  {
   "cell_type": "markdown",
   "id": "5f20b24f",
   "metadata": {},
   "source": [
    "```{figure} ../results/figures/categ_dist.png\n",
    "---\n",
    "width: 600px\n",
    "name: categ_dist\n",
    "---\n",
    "The distribution of categorical variables.\n",
    "```"
   ]
  },
  {
   "cell_type": "markdown",
   "id": "de18aa19-6b35-4274-b2d8-e0b04b5cbc72",
   "metadata": {},
   "source": [
    "### Correlation"
   ]
  },
  {
   "cell_type": "markdown",
   "id": "d29ad27a",
   "metadata": {},
   "source": [
    "```{glue:figure} data_correlation\n",
    ":name: \"data_correlation\"\n",
    "\n",
    "Correlation of numerical variables.\n",
    "```"
   ]
  },
  {
   "cell_type": "markdown",
   "id": "2c163e01-c110-40a1-81b8-54b147316bf1",
   "metadata": {},
   "source": [
    "### Preprocessing\n",
    "\n",
    "We'll start the data preprocessing phase by grouping the rows according to the `TYPE`, `YEAR`, and `MONTH` columns to aggregate the counts of specific crimes occurring in each month. Additionally, we'll adjust the datetime variable format for consistency. However, as the latest month (November 2023) is incomplete, we'll exclude this month from the dataset ({numref}`Figure {number} <preprocessed_head>`). Finally, we'll filter the data so that we focus only on `Theft from Vehicle` crimes, the most common crime in Vancouver in the past {glue:text}`no_year_unique` years ({numref}`Figure {number} <theft_from_vehicle_head>`). This initial processing sets the groundwork for our subsequent time-series forecasting models."
   ]
  },
  {
   "cell_type": "markdown",
   "id": "3447ae79",
   "metadata": {},
   "source": [
    "```{glue:figure} preprocessed_head\n",
    ":name: \"preprocessed_head\"\n",
    "\n",
    "A preview of the preprocessed data.\n",
    "```"
   ]
  },
  {
   "cell_type": "markdown",
   "id": "cc8cf24c",
   "metadata": {},
   "source": [
    "```{glue:figure} theft_from_vehicle_head\n",
    ":name: \"theft_from_vehicle_head\"\n",
    "\n",
    "Filtered data of theft from vehicle crimes.\n",
    "```"
   ]
  },
  {
   "cell_type": "markdown",
   "id": "ac4d1c8a",
   "metadata": {},
   "source": [
    "Looking into our preprocessed and filtered data, we see that we have {glue:text}`theft_from_vehicle_rows` months of data. We can also see that the trend for the counts of `Theft from Vehicle` crimes actually fluctuated quite a lot over the years ({numref}`Figure {number} <original_plot>`)."
   ]
  },
  {
   "cell_type": "markdown",
   "id": "d1a435a3",
   "metadata": {},
   "source": [
    "```{figure} ../results/figures/original_plot.png\n",
    "---\n",
    "width: 600px\n",
    "name: original_plot\n",
    "---\n",
    "The time-series trend of theft from vehicle crimes in Vancouver.\n",
    "```"
   ]
  },
  {
   "cell_type": "markdown",
   "id": "5cab059f-ba58-4dbc-ba16-0004ef9eda02",
   "metadata": {},
   "source": [
    "### Simple Moving Average & Exponential Smoothing\n",
    "\n",
    "As mentioned in the beginning, we will be applying three time-series model (Simple Moving Average, Exponential Smoothing and ARIMA(1,1,0)) with a rolling-window of 12 months to forecast the count of `Theft from Vehicle` crimes in a monthly basis. We do not have a forecasted value for the first 12 time units due to the size of the rolling window ({numref}`Figure {number} <all_predictions_head>`), but we will be forecasting one time unit into the future ({numref}`Figure {number} <all_predictions_tail>`)."
   ]
  },
  {
   "cell_type": "markdown",
   "id": "ea9bc040",
   "metadata": {},
   "source": [
    "```{glue:figure} all_predictions_head\n",
    ":name: \"all_predictions_head\"\n",
    "\n",
    "A preview (head) of the predicted values.\n",
    "```"
   ]
  },
  {
   "cell_type": "markdown",
   "id": "6bbc3c79",
   "metadata": {},
   "source": [
    "```{glue:figure} all_predictions_tail\n",
    ":name: \"all_predictions_tail\"\n",
    "\n",
    "A preview (tail) of the predicted values.\n",
    "```"
   ]
  },
  {
   "cell_type": "markdown",
   "id": "a8f971d9",
   "metadata": {},
   "source": [
    "Based on a visual assessment of the Simple Moving Average (SMA) ({numref}`Figure {number} <sma_prediction_plot>`) and Exponential Smoothing (ES) ({numref}`Figure {number} <es_prediction_plot>`) forecasts, it's evident that both methods broadly capture the general trend of the actual values. However, neither forecast method appears to be highly accurate. The Exponential Smoothing approach demonstrates a slightly improved performance compared to SMA."
   ]
  },
  {
   "cell_type": "markdown",
   "id": "4943959d",
   "metadata": {},
   "source": [
    "```{figure} ../results/figures/sma_prediction_plot.png\n",
    "---\n",
    "width: 600px\n",
    "name: sma_prediction_plot\n",
    "---\n",
    "SMA predictions to actual values.\n",
    "```"
   ]
  },
  {
   "cell_type": "markdown",
   "id": "fd393337",
   "metadata": {},
   "source": [
    "```{figure} ../results/figures/es_prediction_plot.png\n",
    "---\n",
    "width: 600px\n",
    "name: es_prediction_plot\n",
    "---\n",
    "ES predictions to actual values.\n",
    "```"
   ]
  },
  {
   "cell_type": "markdown",
   "id": "f8baf9ab-0ef9-43cb-95c7-1e0a779c9e97",
   "metadata": {},
   "source": [
    "### ARIMA(1,1,0)"
   ]
  },
  {
   "cell_type": "markdown",
   "id": "587d9aef",
   "metadata": {},
   "source": [
    "Before fitting ARIMA, we first have to check the assumption of stationarity. In the autocorrelation plot of our data ({numref}`Figure {number} <autocorrelation_plot>`), the assumption is not met, so we have to applying differencing to make the data stationary. After applying 1st order differencing, the assumption appears to be largely met ({numref}`Figure {number} <autocorrelation_with_diff_plot>`)."
   ]
  },
  {
   "cell_type": "markdown",
   "id": "968d05b1",
   "metadata": {},
   "source": [
    "```{figure} ../results/figures/autocorrelation_plot.png\n",
    "---\n",
    "width: 600px\n",
    "name: autocorrelation_plot\n",
    "---\n",
    "Autocorrelation plot for the observations.\n",
    "```"
   ]
  },
  {
   "cell_type": "markdown",
   "id": "6e486a29",
   "metadata": {},
   "source": [
    "```{figure} ../results/figures/autocorrelation_with_diff_plot.png\n",
    "---\n",
    "width: 600px\n",
    "name: autocorrelation_with_diff_plot\n",
    "---\n",
    "Autocorrelation plot with 1st order differencing for the observations.\n",
    "```"
   ]
  },
  {
   "cell_type": "markdown",
   "id": "f62f38f0",
   "metadata": {},
   "source": [
    "The forecast from the ARIMA model looks much better ({numref}`Figure {number} <arima_prediction_plot>`)! We can see some clear overlaps between the forecasted value and the original value."
   ]
  },
  {
   "cell_type": "markdown",
   "id": "f0fa8815",
   "metadata": {},
   "source": [
    "```{figure} ../results/figures/arima_prediction_plot.png\n",
    "---\n",
    "width: 600px\n",
    "name: arima_prediction_plot\n",
    "---\n",
    "ARIMA predictions to actual values.\n",
    "```"
   ]
  },
  {
   "cell_type": "markdown",
   "id": "91b8bb30",
   "metadata": {},
   "source": [
    "Finally, we'll compare the performances of the three models in terms of mean absolute error (MAE) and mean squared error (MSE). Notably, there's a discernible pattern showcasing a marked enhancement in performance, progressing from Simple Moving Average (SMA) to Exponential Smoothing Approach (ESA) and ultimately to ARIMA. The final MAE achieved by the ARIMA model is {glue:text}`arima_mae`. Given that crime incidents per month often range in the hundreds to thousands, an MAE of {glue:text}`arima_mae` could be considered within an acceptable range, especially considering the complexities inherent in forecasting crime data. This consistent trend aligns with the observations gleaned from the visualizations crafted earlier, affirming the gradual improvement in forecasting accuracy across the models."
   ]
  },
  {
   "cell_type": "markdown",
   "id": "323422ed-dd58-4914-80e8-d2dfd5994e6c",
   "metadata": {},
   "source": [
    "```{glue:figure} observations\n",
    ":name: \"observations\"\n",
    "\n",
    "The observed error terms from different forecasting methods.\n",
    "```"
   ]
  },
  {
   "cell_type": "markdown",
   "id": "cf91be82-91b3-40dc-9167-94327c2657df",
   "metadata": {},
   "source": [
    "## Conclusion\n",
    "\n",
    "While the ARIMA model stands out as the most effective among the three forecasting models—simple moving average and exponential smoothing—it's crucial to acknowledge the room for enhancement in our predictive capabilities. Future advancements could entail fine-tuning the ARIMA hyperparameters or exploring alternative models to ascertain if further accuracy gains are attainable. Additionally, integrating exogenous variables, such as socioeconomic indicators or weather data, might augment the predictive power of our models, offering a more comprehensive understanding of crime dynamics. Furthermore, this analysis prompts future inquiries, including investigating the influence of specific external factors on crime occurrences or exploring spatial-temporal models to predict crime hotspots within Vancouver. These prospective avenues aim to refine our forecasting precision and deepen our insights into crime trends, paving the way for more informed law enforcement strategies and proactive crime prevention measures."
   ]
  },
  {
   "cell_type": "markdown",
   "id": "ee2e9682-814f-4f79-8fca-d7473410402a",
   "metadata": {},
   "source": [
    "## References"
   ]
  },
  {
   "cell_type": "markdown",
   "id": "5f7c1965",
   "metadata": {},
   "source": [
    "```{bibliography}\n",
    "```"
   ]
  }
 ],
 "metadata": {
  "kernelspec": {
   "display_name": "Python 3 (ipykernel)",
   "language": "python",
   "name": "python3"
  },
  "language_info": {
   "codemirror_mode": {
    "name": "ipython",
    "version": 3
   },
   "file_extension": ".py",
   "mimetype": "text/x-python",
   "name": "python",
   "nbconvert_exporter": "python",
   "pygments_lexer": "ipython3",
   "version": "3.11.6"
  }
 },
 "nbformat": 4,
 "nbformat_minor": 5
}
