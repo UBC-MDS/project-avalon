{
 "cells": [
  {
   "cell_type": "markdown",
   "id": "69293354-1852-4df2-938e-1b7b83c87399",
   "metadata": {},
   "source": [
    "# Crime Forecast in Vancouver"
   ]
  },
  {
   "cell_type": "markdown",
   "id": "66b3dbf0-2158-4bc2-a0dd-b2685d8dfc48",
   "metadata": {},
   "source": [
    "by Ben Chen, Mo Norouzi, Orix Au Yeung, Yiwei Zhang"
   ]
  },
  {
   "cell_type": "code",
   "execution_count": 2,
   "id": "0bc1fadf-357e-4aac-8345-1c5322d2bdab",
   "metadata": {
    "tags": [
     "remove-input"
    ]
   },
   "outputs": [],
   "source": [
    "import altair as alt\n",
    "import matplotlib.pyplot as plt\n",
    "import numpy as np\n",
    "import pandas as pd\n",
    "import seaborn as sns\n",
    "from pandas.plotting import autocorrelation_plot\n",
    "from statsmodels.tsa.arima.model import ARIMA\n",
    "from sklearn.metrics import mean_absolute_error, mean_squared_error\n",
    "import warnings\n",
    "import sys\n",
    "from myst_nb import glue\n",
    "warnings.filterwarnings(\"ignore\")\n",
    "sys.path.append('../src') \n",
    "\n",
    "from get_metrics_from_df import get_metrics_from_df\n",
    "from missing_value import missing_zero_values_table\n",
    "from numeric_cols import create_numeric_cols_chart\n",
    "from merge_forecast_values import merge_forecast_values\n",
    "from arima_forecasting import arima_prediction\n",
    "from correlation import get_redundant_pairs, get_top_abs_correlations"
   ]
  },
  {
   "cell_type": "code",
   "execution_count": 5,
   "id": "913eebc4",
   "metadata": {
    "tags": [
     "remove-input"
    ]
   },
   "outputs": [
    {
     "data": {
      "application/papermill.record/text/html": "<style type=\"text/css\">\n</style>\n<table id=\"T_0447f\">\n  <thead>\n    <tr>\n      <th id=\"T_0447f_level0_col0\" class=\"col_heading level0 col0\" >TYPE</th>\n      <th id=\"T_0447f_level0_col1\" class=\"col_heading level0 col1\" >YEAR</th>\n      <th id=\"T_0447f_level0_col2\" class=\"col_heading level0 col2\" >MONTH</th>\n      <th id=\"T_0447f_level0_col3\" class=\"col_heading level0 col3\" >DAY</th>\n      <th id=\"T_0447f_level0_col4\" class=\"col_heading level0 col4\" >HOUR</th>\n      <th id=\"T_0447f_level0_col5\" class=\"col_heading level0 col5\" >MINUTE</th>\n      <th id=\"T_0447f_level0_col6\" class=\"col_heading level0 col6\" >HUNDRED_BLOCK</th>\n      <th id=\"T_0447f_level0_col7\" class=\"col_heading level0 col7\" >NEIGHBOURHOOD</th>\n      <th id=\"T_0447f_level0_col8\" class=\"col_heading level0 col8\" >X</th>\n      <th id=\"T_0447f_level0_col9\" class=\"col_heading level0 col9\" >Y</th>\n    </tr>\n  </thead>\n  <tbody>\n    <tr>\n      <td id=\"T_0447f_row0_col0\" class=\"data row0 col0\" >Break and Enter Commercial</td>\n      <td id=\"T_0447f_row0_col1\" class=\"data row0 col1\" >2012</td>\n      <td id=\"T_0447f_row0_col2\" class=\"data row0 col2\" >12</td>\n      <td id=\"T_0447f_row0_col3\" class=\"data row0 col3\" >14</td>\n      <td id=\"T_0447f_row0_col4\" class=\"data row0 col4\" >8</td>\n      <td id=\"T_0447f_row0_col5\" class=\"data row0 col5\" >52</td>\n      <td id=\"T_0447f_row0_col6\" class=\"data row0 col6\" >nan</td>\n      <td id=\"T_0447f_row0_col7\" class=\"data row0 col7\" >Oakridge</td>\n      <td id=\"T_0447f_row0_col8\" class=\"data row0 col8\" >491285.000000</td>\n      <td id=\"T_0447f_row0_col9\" class=\"data row0 col9\" >5453433.000000</td>\n    </tr>\n    <tr>\n      <td id=\"T_0447f_row1_col0\" class=\"data row1 col0\" >Break and Enter Commercial</td>\n      <td id=\"T_0447f_row1_col1\" class=\"data row1 col1\" >2019</td>\n      <td id=\"T_0447f_row1_col2\" class=\"data row1 col2\" >3</td>\n      <td id=\"T_0447f_row1_col3\" class=\"data row1 col3\" >7</td>\n      <td id=\"T_0447f_row1_col4\" class=\"data row1 col4\" >2</td>\n      <td id=\"T_0447f_row1_col5\" class=\"data row1 col5\" >6</td>\n      <td id=\"T_0447f_row1_col6\" class=\"data row1 col6\" >10XX SITKA SQ</td>\n      <td id=\"T_0447f_row1_col7\" class=\"data row1 col7\" >Fairview</td>\n      <td id=\"T_0447f_row1_col8\" class=\"data row1 col8\" >490612.960000</td>\n      <td id=\"T_0447f_row1_col9\" class=\"data row1 col9\" >5457109.820000</td>\n    </tr>\n    <tr>\n      <td id=\"T_0447f_row2_col0\" class=\"data row2 col0\" >Break and Enter Commercial</td>\n      <td id=\"T_0447f_row2_col1\" class=\"data row2 col1\" >2019</td>\n      <td id=\"T_0447f_row2_col2\" class=\"data row2 col2\" >8</td>\n      <td id=\"T_0447f_row2_col3\" class=\"data row2 col3\" >27</td>\n      <td id=\"T_0447f_row2_col4\" class=\"data row2 col4\" >4</td>\n      <td id=\"T_0447f_row2_col5\" class=\"data row2 col5\" >12</td>\n      <td id=\"T_0447f_row2_col6\" class=\"data row2 col6\" >10XX ALBERNI ST</td>\n      <td id=\"T_0447f_row2_col7\" class=\"data row2 col7\" >West End</td>\n      <td id=\"T_0447f_row2_col8\" class=\"data row2 col8\" >491007.780000</td>\n      <td id=\"T_0447f_row2_col9\" class=\"data row2 col9\" >5459174.340000</td>\n    </tr>\n    <tr>\n      <td id=\"T_0447f_row3_col0\" class=\"data row3 col0\" >Break and Enter Commercial</td>\n      <td id=\"T_0447f_row3_col1\" class=\"data row3 col1\" >2021</td>\n      <td id=\"T_0447f_row3_col2\" class=\"data row3 col2\" >4</td>\n      <td id=\"T_0447f_row3_col3\" class=\"data row3 col3\" >26</td>\n      <td id=\"T_0447f_row3_col4\" class=\"data row3 col4\" >4</td>\n      <td id=\"T_0447f_row3_col5\" class=\"data row3 col5\" >44</td>\n      <td id=\"T_0447f_row3_col6\" class=\"data row3 col6\" >10XX ALBERNI ST</td>\n      <td id=\"T_0447f_row3_col7\" class=\"data row3 col7\" >West End</td>\n      <td id=\"T_0447f_row3_col8\" class=\"data row3 col8\" >491007.780000</td>\n      <td id=\"T_0447f_row3_col9\" class=\"data row3 col9\" >5459174.340000</td>\n    </tr>\n    <tr>\n      <td id=\"T_0447f_row4_col0\" class=\"data row4 col0\" >Break and Enter Commercial</td>\n      <td id=\"T_0447f_row4_col1\" class=\"data row4 col1\" >2014</td>\n      <td id=\"T_0447f_row4_col2\" class=\"data row4 col2\" >8</td>\n      <td id=\"T_0447f_row4_col3\" class=\"data row4 col3\" >8</td>\n      <td id=\"T_0447f_row4_col4\" class=\"data row4 col4\" >5</td>\n      <td id=\"T_0447f_row4_col5\" class=\"data row4 col5\" >13</td>\n      <td id=\"T_0447f_row4_col6\" class=\"data row4 col6\" >10XX ALBERNI ST</td>\n      <td id=\"T_0447f_row4_col7\" class=\"data row4 col7\" >West End</td>\n      <td id=\"T_0447f_row4_col8\" class=\"data row4 col8\" >491015.940000</td>\n      <td id=\"T_0447f_row4_col9\" class=\"data row4 col9\" >5459166.140000</td>\n    </tr>\n  </tbody>\n</table>\n",
      "application/papermill.record/text/plain": "<pandas.io.formats.style.Styler at 0x2921a1190>"
     },
     "metadata": {
      "scrapbook": {
       "mime_prefix": "application/papermill.record/",
       "name": "data_head"
      }
     },
     "output_type": "display_data"
    },
    {
     "data": {
      "text/plain": [
       "10"
      ]
     },
     "metadata": {
      "scrapbook": {
       "mime_prefix": "",
       "name": "data_no_cols"
      }
     },
     "output_type": "display_data"
    },
    {
     "data": {
      "text/plain": [
       "879861"
      ]
     },
     "metadata": {
      "scrapbook": {
       "mime_prefix": "",
       "name": "data_no_rows"
      }
     },
     "output_type": "display_data"
    },
    {
     "data": {
      "application/papermill.record/text/html": "<style type=\"text/css\">\n</style>\n<table id=\"T_d0b0b\">\n  <thead>\n    <tr>\n      <th id=\"T_d0b0b_level0_col0\" class=\"col_heading level0 col0\" >variable</th>\n      <th id=\"T_d0b0b_level0_col1\" class=\"col_heading level0 col1\" >count</th>\n      <th id=\"T_d0b0b_level0_col2\" class=\"col_heading level0 col2\" >mean</th>\n      <th id=\"T_d0b0b_level0_col3\" class=\"col_heading level0 col3\" >std</th>\n      <th id=\"T_d0b0b_level0_col4\" class=\"col_heading level0 col4\" >min</th>\n      <th id=\"T_d0b0b_level0_col5\" class=\"col_heading level0 col5\" >25%</th>\n      <th id=\"T_d0b0b_level0_col6\" class=\"col_heading level0 col6\" >50%</th>\n      <th id=\"T_d0b0b_level0_col7\" class=\"col_heading level0 col7\" >75%</th>\n      <th id=\"T_d0b0b_level0_col8\" class=\"col_heading level0 col8\" >max</th>\n    </tr>\n  </thead>\n  <tbody>\n    <tr>\n      <td id=\"T_d0b0b_row0_col0\" class=\"data row0 col0\" >YEAR</td>\n      <td id=\"T_d0b0b_row0_col1\" class=\"data row0 col1\" >879861.000000</td>\n      <td id=\"T_d0b0b_row0_col2\" class=\"data row0 col2\" >2012.270000</td>\n      <td id=\"T_d0b0b_row0_col3\" class=\"data row0 col3\" >6.180000</td>\n      <td id=\"T_d0b0b_row0_col4\" class=\"data row0 col4\" >2003.000000</td>\n      <td id=\"T_d0b0b_row0_col5\" class=\"data row0 col5\" >2006.000000</td>\n      <td id=\"T_d0b0b_row0_col6\" class=\"data row0 col6\" >2012.000000</td>\n      <td id=\"T_d0b0b_row0_col7\" class=\"data row0 col7\" >2018.000000</td>\n      <td id=\"T_d0b0b_row0_col8\" class=\"data row0 col8\" >2023.000000</td>\n    </tr>\n    <tr>\n      <td id=\"T_d0b0b_row1_col0\" class=\"data row1 col0\" >MONTH</td>\n      <td id=\"T_d0b0b_row1_col1\" class=\"data row1 col1\" >879861.000000</td>\n      <td id=\"T_d0b0b_row1_col2\" class=\"data row1 col2\" >6.520000</td>\n      <td id=\"T_d0b0b_row1_col3\" class=\"data row1 col3\" >3.390000</td>\n      <td id=\"T_d0b0b_row1_col4\" class=\"data row1 col4\" >1.000000</td>\n      <td id=\"T_d0b0b_row1_col5\" class=\"data row1 col5\" >4.000000</td>\n      <td id=\"T_d0b0b_row1_col6\" class=\"data row1 col6\" >7.000000</td>\n      <td id=\"T_d0b0b_row1_col7\" class=\"data row1 col7\" >9.000000</td>\n      <td id=\"T_d0b0b_row1_col8\" class=\"data row1 col8\" >12.000000</td>\n    </tr>\n    <tr>\n      <td id=\"T_d0b0b_row2_col0\" class=\"data row2 col0\" >DAY</td>\n      <td id=\"T_d0b0b_row2_col1\" class=\"data row2 col1\" >879861.000000</td>\n      <td id=\"T_d0b0b_row2_col2\" class=\"data row2 col2\" >15.380000</td>\n      <td id=\"T_d0b0b_row2_col3\" class=\"data row2 col3\" >8.760000</td>\n      <td id=\"T_d0b0b_row2_col4\" class=\"data row2 col4\" >1.000000</td>\n      <td id=\"T_d0b0b_row2_col5\" class=\"data row2 col5\" >8.000000</td>\n      <td id=\"T_d0b0b_row2_col6\" class=\"data row2 col6\" >15.000000</td>\n      <td id=\"T_d0b0b_row2_col7\" class=\"data row2 col7\" >23.000000</td>\n      <td id=\"T_d0b0b_row2_col8\" class=\"data row2 col8\" >31.000000</td>\n    </tr>\n    <tr>\n      <td id=\"T_d0b0b_row3_col0\" class=\"data row3 col0\" >HOUR</td>\n      <td id=\"T_d0b0b_row3_col1\" class=\"data row3 col1\" >879861.000000</td>\n      <td id=\"T_d0b0b_row3_col2\" class=\"data row3 col2\" >12.310000</td>\n      <td id=\"T_d0b0b_row3_col3\" class=\"data row3 col3\" >7.460000</td>\n      <td id=\"T_d0b0b_row3_col4\" class=\"data row3 col4\" >0.000000</td>\n      <td id=\"T_d0b0b_row3_col5\" class=\"data row3 col5\" >7.000000</td>\n      <td id=\"T_d0b0b_row3_col6\" class=\"data row3 col6\" >14.000000</td>\n      <td id=\"T_d0b0b_row3_col7\" class=\"data row3 col7\" >18.000000</td>\n      <td id=\"T_d0b0b_row3_col8\" class=\"data row3 col8\" >23.000000</td>\n    </tr>\n    <tr>\n      <td id=\"T_d0b0b_row4_col0\" class=\"data row4 col0\" >MINUTE</td>\n      <td id=\"T_d0b0b_row4_col1\" class=\"data row4 col1\" >879861.000000</td>\n      <td id=\"T_d0b0b_row4_col2\" class=\"data row4 col2\" >15.860000</td>\n      <td id=\"T_d0b0b_row4_col3\" class=\"data row4 col3\" >18.360000</td>\n      <td id=\"T_d0b0b_row4_col4\" class=\"data row4 col4\" >0.000000</td>\n      <td id=\"T_d0b0b_row4_col5\" class=\"data row4 col5\" >0.000000</td>\n      <td id=\"T_d0b0b_row4_col6\" class=\"data row4 col6\" >5.000000</td>\n      <td id=\"T_d0b0b_row4_col7\" class=\"data row4 col7\" >30.000000</td>\n      <td id=\"T_d0b0b_row4_col8\" class=\"data row4 col8\" >59.000000</td>\n    </tr>\n    <tr>\n      <td id=\"T_d0b0b_row5_col0\" class=\"data row5 col0\" >X</td>\n      <td id=\"T_d0b0b_row5_col1\" class=\"data row5 col1\" >879785.000000</td>\n      <td id=\"T_d0b0b_row5_col2\" class=\"data row5 col2\" >449007.420000</td>\n      <td id=\"T_d0b0b_row5_col3\" class=\"data row5 col3\" >139304.300000</td>\n      <td id=\"T_d0b0b_row5_col4\" class=\"data row5 col4\" >0.000000</td>\n      <td id=\"T_d0b0b_row5_col5\" class=\"data row5 col5\" >490187.870000</td>\n      <td id=\"T_d0b0b_row5_col6\" class=\"data row5 col6\" >491569.910000</td>\n      <td id=\"T_d0b0b_row5_col7\" class=\"data row5 col7\" >493380.110000</td>\n      <td id=\"T_d0b0b_row5_col8\" class=\"data row5 col8\" >511303.000000</td>\n    </tr>\n    <tr>\n      <td id=\"T_d0b0b_row6_col0\" class=\"data row6 col0\" >Y</td>\n      <td id=\"T_d0b0b_row6_col1\" class=\"data row6 col1\" >879785.000000</td>\n      <td id=\"T_d0b0b_row6_col2\" class=\"data row6 col2\" >4977853.250000</td>\n      <td id=\"T_d0b0b_row6_col3\" class=\"data row6 col3\" >1544127.070000</td>\n      <td id=\"T_d0b0b_row6_col4\" class=\"data row6 col4\" >0.000000</td>\n      <td id=\"T_d0b0b_row6_col5\" class=\"data row6 col5\" >5454211.410000</td>\n      <td id=\"T_d0b0b_row6_col6\" class=\"data row6 col6\" >5457169.690000</td>\n      <td id=\"T_d0b0b_row6_col7\" class=\"data row6 col7\" >5458718.060000</td>\n      <td id=\"T_d0b0b_row6_col8\" class=\"data row6 col8\" >5512579.000000</td>\n    </tr>\n  </tbody>\n</table>\n",
      "application/papermill.record/text/plain": "<pandas.io.formats.style.Styler at 0x293bfbd10>"
     },
     "metadata": {
      "scrapbook": {
       "mime_prefix": "application/papermill.record/",
       "name": "data_description"
      }
     },
     "output_type": "display_data"
    },
    {
     "data": {
      "application/papermill.record/text/html": "<style type=\"text/css\">\n</style>\n<table id=\"T_a1ed1\">\n  <thead>\n    <tr>\n      <th id=\"T_a1ed1_level0_col0\" class=\"col_heading level0 col0\" >Zero Values</th>\n      <th id=\"T_a1ed1_level0_col1\" class=\"col_heading level0 col1\" >Missing Values</th>\n      <th id=\"T_a1ed1_level0_col2\" class=\"col_heading level0 col2\" >% of Total Values</th>\n      <th id=\"T_a1ed1_level0_col3\" class=\"col_heading level0 col3\" >Total Zero Missing Values</th>\n      <th id=\"T_a1ed1_level0_col4\" class=\"col_heading level0 col4\" >% Total Zero Missing Values</th>\n      <th id=\"T_a1ed1_level0_col5\" class=\"col_heading level0 col5\" >Data Type</th>\n    </tr>\n  </thead>\n  <tbody>\n    <tr>\n      <td id=\"T_a1ed1_row0_col0\" class=\"data row0 col0\" >0</td>\n      <td id=\"T_a1ed1_row0_col1\" class=\"data row0 col1\" >144</td>\n      <td id=\"T_a1ed1_row0_col2\" class=\"data row0 col2\" >0.000000</td>\n      <td id=\"T_a1ed1_row0_col3\" class=\"data row0 col3\" >144</td>\n      <td id=\"T_a1ed1_row0_col4\" class=\"data row0 col4\" >0.000000</td>\n      <td id=\"T_a1ed1_row0_col5\" class=\"data row0 col5\" >object</td>\n    </tr>\n    <tr>\n      <td id=\"T_a1ed1_row1_col0\" class=\"data row1 col0\" >77225</td>\n      <td id=\"T_a1ed1_row1_col1\" class=\"data row1 col1\" >76</td>\n      <td id=\"T_a1ed1_row1_col2\" class=\"data row1 col2\" >0.000000</td>\n      <td id=\"T_a1ed1_row1_col3\" class=\"data row1 col3\" >77301</td>\n      <td id=\"T_a1ed1_row1_col4\" class=\"data row1 col4\" >8.800000</td>\n      <td id=\"T_a1ed1_row1_col5\" class=\"data row1 col5\" >float64</td>\n    </tr>\n    <tr>\n      <td id=\"T_a1ed1_row2_col0\" class=\"data row2 col0\" >77225</td>\n      <td id=\"T_a1ed1_row2_col1\" class=\"data row2 col1\" >76</td>\n      <td id=\"T_a1ed1_row2_col2\" class=\"data row2 col2\" >0.000000</td>\n      <td id=\"T_a1ed1_row2_col3\" class=\"data row2 col3\" >77301</td>\n      <td id=\"T_a1ed1_row2_col4\" class=\"data row2 col4\" >8.800000</td>\n      <td id=\"T_a1ed1_row2_col5\" class=\"data row2 col5\" >float64</td>\n    </tr>\n    <tr>\n      <td id=\"T_a1ed1_row3_col0\" class=\"data row3 col0\" >0</td>\n      <td id=\"T_a1ed1_row3_col1\" class=\"data row3 col1\" >12</td>\n      <td id=\"T_a1ed1_row3_col2\" class=\"data row3 col2\" >0.000000</td>\n      <td id=\"T_a1ed1_row3_col3\" class=\"data row3 col3\" >12</td>\n      <td id=\"T_a1ed1_row3_col4\" class=\"data row3 col4\" >0.000000</td>\n      <td id=\"T_a1ed1_row3_col5\" class=\"data row3 col5\" >object</td>\n    </tr>\n  </tbody>\n</table>\n",
      "application/papermill.record/text/plain": "<pandas.io.formats.style.Styler at 0x293bcc0d0>"
     },
     "metadata": {
      "scrapbook": {
       "mime_prefix": "application/papermill.record/",
       "name": "missing_values"
      }
     },
     "output_type": "display_data"
    },
    {
     "data": {
      "application/papermill.record/text/html": "<style type=\"text/css\">\n</style>\n<table id=\"T_d96ac\">\n  <thead>\n    <tr>\n      <th id=\"T_d96ac_level0_col0\" class=\"col_heading level0 col0\" >Unnamed: 0</th>\n      <th id=\"T_d96ac_level0_col1\" class=\"col_heading level0 col1\" >YEAR</th>\n      <th id=\"T_d96ac_level0_col2\" class=\"col_heading level0 col2\" >MONTH</th>\n      <th id=\"T_d96ac_level0_col3\" class=\"col_heading level0 col3\" >DAY</th>\n      <th id=\"T_d96ac_level0_col4\" class=\"col_heading level0 col4\" >HOUR</th>\n      <th id=\"T_d96ac_level0_col5\" class=\"col_heading level0 col5\" >MINUTE</th>\n      <th id=\"T_d96ac_level0_col6\" class=\"col_heading level0 col6\" >X</th>\n      <th id=\"T_d96ac_level0_col7\" class=\"col_heading level0 col7\" >Y</th>\n    </tr>\n  </thead>\n  <tbody>\n    <tr>\n      <td id=\"T_d96ac_row0_col0\" class=\"data row0 col0\" >YEAR</td>\n      <td id=\"T_d96ac_row0_col1\" class=\"data row0 col1\" >1.000000</td>\n      <td id=\"T_d96ac_row0_col2\" class=\"data row0 col2\" >0.010000</td>\n      <td id=\"T_d96ac_row0_col3\" class=\"data row0 col3\" >0.010000</td>\n      <td id=\"T_d96ac_row0_col4\" class=\"data row0 col4\" >0.040000</td>\n      <td id=\"T_d96ac_row0_col5\" class=\"data row0 col5\" >0.060000</td>\n      <td id=\"T_d96ac_row0_col6\" class=\"data row0 col6\" >0.020000</td>\n      <td id=\"T_d96ac_row0_col7\" class=\"data row0 col7\" >0.020000</td>\n    </tr>\n    <tr>\n      <td id=\"T_d96ac_row1_col0\" class=\"data row1 col0\" >MONTH</td>\n      <td id=\"T_d96ac_row1_col1\" class=\"data row1 col1\" >0.010000</td>\n      <td id=\"T_d96ac_row1_col2\" class=\"data row1 col2\" >1.000000</td>\n      <td id=\"T_d96ac_row1_col3\" class=\"data row1 col3\" >0.010000</td>\n      <td id=\"T_d96ac_row1_col4\" class=\"data row1 col4\" >0.000000</td>\n      <td id=\"T_d96ac_row1_col5\" class=\"data row1 col5\" >0.000000</td>\n      <td id=\"T_d96ac_row1_col6\" class=\"data row1 col6\" >0.000000</td>\n      <td id=\"T_d96ac_row1_col7\" class=\"data row1 col7\" >0.000000</td>\n    </tr>\n    <tr>\n      <td id=\"T_d96ac_row2_col0\" class=\"data row2 col0\" >DAY</td>\n      <td id=\"T_d96ac_row2_col1\" class=\"data row2 col1\" >0.010000</td>\n      <td id=\"T_d96ac_row2_col2\" class=\"data row2 col2\" >0.010000</td>\n      <td id=\"T_d96ac_row2_col3\" class=\"data row2 col3\" >1.000000</td>\n      <td id=\"T_d96ac_row2_col4\" class=\"data row2 col4\" >0.000000</td>\n      <td id=\"T_d96ac_row2_col5\" class=\"data row2 col5\" >0.000000</td>\n      <td id=\"T_d96ac_row2_col6\" class=\"data row2 col6\" >0.000000</td>\n      <td id=\"T_d96ac_row2_col7\" class=\"data row2 col7\" >0.000000</td>\n    </tr>\n    <tr>\n      <td id=\"T_d96ac_row3_col0\" class=\"data row3 col0\" >HOUR</td>\n      <td id=\"T_d96ac_row3_col1\" class=\"data row3 col1\" >0.040000</td>\n      <td id=\"T_d96ac_row3_col2\" class=\"data row3 col2\" >0.000000</td>\n      <td id=\"T_d96ac_row3_col3\" class=\"data row3 col3\" >0.000000</td>\n      <td id=\"T_d96ac_row3_col4\" class=\"data row3 col4\" >1.000000</td>\n      <td id=\"T_d96ac_row3_col5\" class=\"data row3 col5\" >0.110000</td>\n      <td id=\"T_d96ac_row3_col6\" class=\"data row3 col6\" >0.510000</td>\n      <td id=\"T_d96ac_row3_col7\" class=\"data row3 col7\" >0.510000</td>\n    </tr>\n    <tr>\n      <td id=\"T_d96ac_row4_col0\" class=\"data row4 col0\" >MINUTE</td>\n      <td id=\"T_d96ac_row4_col1\" class=\"data row4 col1\" >0.060000</td>\n      <td id=\"T_d96ac_row4_col2\" class=\"data row4 col2\" >0.000000</td>\n      <td id=\"T_d96ac_row4_col3\" class=\"data row4 col3\" >0.000000</td>\n      <td id=\"T_d96ac_row4_col4\" class=\"data row4 col4\" >0.110000</td>\n      <td id=\"T_d96ac_row4_col5\" class=\"data row4 col5\" >1.000000</td>\n      <td id=\"T_d96ac_row4_col6\" class=\"data row4 col6\" >0.270000</td>\n      <td id=\"T_d96ac_row4_col7\" class=\"data row4 col7\" >0.270000</td>\n    </tr>\n    <tr>\n      <td id=\"T_d96ac_row5_col0\" class=\"data row5 col0\" >X</td>\n      <td id=\"T_d96ac_row5_col1\" class=\"data row5 col1\" >0.020000</td>\n      <td id=\"T_d96ac_row5_col2\" class=\"data row5 col2\" >0.000000</td>\n      <td id=\"T_d96ac_row5_col3\" class=\"data row5 col3\" >0.000000</td>\n      <td id=\"T_d96ac_row5_col4\" class=\"data row5 col4\" >0.510000</td>\n      <td id=\"T_d96ac_row5_col5\" class=\"data row5 col5\" >0.270000</td>\n      <td id=\"T_d96ac_row5_col6\" class=\"data row5 col6\" >1.000000</td>\n      <td id=\"T_d96ac_row5_col7\" class=\"data row5 col7\" >1.000000</td>\n    </tr>\n    <tr>\n      <td id=\"T_d96ac_row6_col0\" class=\"data row6 col0\" >Y</td>\n      <td id=\"T_d96ac_row6_col1\" class=\"data row6 col1\" >0.020000</td>\n      <td id=\"T_d96ac_row6_col2\" class=\"data row6 col2\" >0.000000</td>\n      <td id=\"T_d96ac_row6_col3\" class=\"data row6 col3\" >0.000000</td>\n      <td id=\"T_d96ac_row6_col4\" class=\"data row6 col4\" >0.510000</td>\n      <td id=\"T_d96ac_row6_col5\" class=\"data row6 col5\" >0.270000</td>\n      <td id=\"T_d96ac_row6_col6\" class=\"data row6 col6\" >1.000000</td>\n      <td id=\"T_d96ac_row6_col7\" class=\"data row6 col7\" >1.000000</td>\n    </tr>\n  </tbody>\n</table>\n",
      "application/papermill.record/text/plain": "<pandas.io.formats.style.Styler at 0x29366f7d0>"
     },
     "metadata": {
      "scrapbook": {
       "mime_prefix": "application/papermill.record/",
       "name": "data_correlation"
      }
     },
     "output_type": "display_data"
    },
    {
     "data": {
      "application/papermill.record/text/html": "<style type=\"text/css\">\n</style>\n<table id=\"T_51be8\">\n  <thead>\n    <tr>\n      <th id=\"T_51be8_level0_col0\" class=\"col_heading level0 col0\" >TYPE</th>\n      <th id=\"T_51be8_level0_col1\" class=\"col_heading level0 col1\" >YEAR</th>\n      <th id=\"T_51be8_level0_col2\" class=\"col_heading level0 col2\" >MONTH</th>\n      <th id=\"T_51be8_level0_col3\" class=\"col_heading level0 col3\" >Observations</th>\n      <th id=\"T_51be8_level0_col4\" class=\"col_heading level0 col4\" >YEAR-MONTH</th>\n    </tr>\n  </thead>\n  <tbody>\n    <tr>\n      <td id=\"T_51be8_row0_col0\" class=\"data row0 col0\" >Break and Enter Commercial</td>\n      <td id=\"T_51be8_row0_col1\" class=\"data row0 col1\" >2003</td>\n      <td id=\"T_51be8_row0_col2\" class=\"data row0 col2\" >1</td>\n      <td id=\"T_51be8_row0_col3\" class=\"data row0 col3\" >303</td>\n      <td id=\"T_51be8_row0_col4\" class=\"data row0 col4\" >2003-01-01</td>\n    </tr>\n    <tr>\n      <td id=\"T_51be8_row1_col0\" class=\"data row1 col0\" >Break and Enter Commercial</td>\n      <td id=\"T_51be8_row1_col1\" class=\"data row1 col1\" >2003</td>\n      <td id=\"T_51be8_row1_col2\" class=\"data row1 col2\" >2</td>\n      <td id=\"T_51be8_row1_col3\" class=\"data row1 col3\" >254</td>\n      <td id=\"T_51be8_row1_col4\" class=\"data row1 col4\" >2003-02-01</td>\n    </tr>\n    <tr>\n      <td id=\"T_51be8_row2_col0\" class=\"data row2 col0\" >Break and Enter Commercial</td>\n      <td id=\"T_51be8_row2_col1\" class=\"data row2 col1\" >2003</td>\n      <td id=\"T_51be8_row2_col2\" class=\"data row2 col2\" >3</td>\n      <td id=\"T_51be8_row2_col3\" class=\"data row2 col3\" >292</td>\n      <td id=\"T_51be8_row2_col4\" class=\"data row2 col4\" >2003-03-01</td>\n    </tr>\n    <tr>\n      <td id=\"T_51be8_row3_col0\" class=\"data row3 col0\" >Break and Enter Commercial</td>\n      <td id=\"T_51be8_row3_col1\" class=\"data row3 col1\" >2003</td>\n      <td id=\"T_51be8_row3_col2\" class=\"data row3 col2\" >4</td>\n      <td id=\"T_51be8_row3_col3\" class=\"data row3 col3\" >266</td>\n      <td id=\"T_51be8_row3_col4\" class=\"data row3 col4\" >2003-04-01</td>\n    </tr>\n    <tr>\n      <td id=\"T_51be8_row4_col0\" class=\"data row4 col0\" >Break and Enter Commercial</td>\n      <td id=\"T_51be8_row4_col1\" class=\"data row4 col1\" >2003</td>\n      <td id=\"T_51be8_row4_col2\" class=\"data row4 col2\" >5</td>\n      <td id=\"T_51be8_row4_col3\" class=\"data row4 col3\" >290</td>\n      <td id=\"T_51be8_row4_col4\" class=\"data row4 col4\" >2003-05-01</td>\n    </tr>\n  </tbody>\n</table>\n",
      "application/papermill.record/text/plain": "<pandas.io.formats.style.Styler at 0x295b50d50>"
     },
     "metadata": {
      "scrapbook": {
       "mime_prefix": "application/papermill.record/",
       "name": "preprocessed_head"
      }
     },
     "output_type": "display_data"
    },
    {
     "data": {
      "application/papermill.record/text/html": "<style type=\"text/css\">\n</style>\n<table id=\"T_a819a\">\n  <thead>\n    <tr>\n      <th id=\"T_a819a_level0_col0\" class=\"col_heading level0 col0\" >TYPE</th>\n      <th id=\"T_a819a_level0_col1\" class=\"col_heading level0 col1\" >YEAR</th>\n      <th id=\"T_a819a_level0_col2\" class=\"col_heading level0 col2\" >MONTH</th>\n      <th id=\"T_a819a_level0_col3\" class=\"col_heading level0 col3\" >Observations</th>\n      <th id=\"T_a819a_level0_col4\" class=\"col_heading level0 col4\" >YEAR-MONTH</th>\n    </tr>\n  </thead>\n  <tbody>\n    <tr>\n      <td id=\"T_a819a_row0_col0\" class=\"data row0 col0\" >Theft from Vehicle</td>\n      <td id=\"T_a819a_row0_col1\" class=\"data row0 col1\" >2003</td>\n      <td id=\"T_a819a_row0_col2\" class=\"data row0 col2\" >1</td>\n      <td id=\"T_a819a_row0_col3\" class=\"data row0 col3\" >1438</td>\n      <td id=\"T_a819a_row0_col4\" class=\"data row0 col4\" >2003-01-01</td>\n    </tr>\n    <tr>\n      <td id=\"T_a819a_row1_col0\" class=\"data row1 col0\" >Theft from Vehicle</td>\n      <td id=\"T_a819a_row1_col1\" class=\"data row1 col1\" >2003</td>\n      <td id=\"T_a819a_row1_col2\" class=\"data row1 col2\" >2</td>\n      <td id=\"T_a819a_row1_col3\" class=\"data row1 col3\" >1102</td>\n      <td id=\"T_a819a_row1_col4\" class=\"data row1 col4\" >2003-02-01</td>\n    </tr>\n    <tr>\n      <td id=\"T_a819a_row2_col0\" class=\"data row2 col0\" >Theft from Vehicle</td>\n      <td id=\"T_a819a_row2_col1\" class=\"data row2 col1\" >2003</td>\n      <td id=\"T_a819a_row2_col2\" class=\"data row2 col2\" >3</td>\n      <td id=\"T_a819a_row2_col3\" class=\"data row2 col3\" >1251</td>\n      <td id=\"T_a819a_row2_col4\" class=\"data row2 col4\" >2003-03-01</td>\n    </tr>\n    <tr>\n      <td id=\"T_a819a_row3_col0\" class=\"data row3 col0\" >Theft from Vehicle</td>\n      <td id=\"T_a819a_row3_col1\" class=\"data row3 col1\" >2003</td>\n      <td id=\"T_a819a_row3_col2\" class=\"data row3 col2\" >4</td>\n      <td id=\"T_a819a_row3_col3\" class=\"data row3 col3\" >1528</td>\n      <td id=\"T_a819a_row3_col4\" class=\"data row3 col4\" >2003-04-01</td>\n    </tr>\n    <tr>\n      <td id=\"T_a819a_row4_col0\" class=\"data row4 col0\" >Theft from Vehicle</td>\n      <td id=\"T_a819a_row4_col1\" class=\"data row4 col1\" >2003</td>\n      <td id=\"T_a819a_row4_col2\" class=\"data row4 col2\" >5</td>\n      <td id=\"T_a819a_row4_col3\" class=\"data row4 col3\" >1873</td>\n      <td id=\"T_a819a_row4_col4\" class=\"data row4 col4\" >2003-05-01</td>\n    </tr>\n  </tbody>\n</table>\n",
      "application/papermill.record/text/plain": "<pandas.io.formats.style.Styler at 0x293bf30d0>"
     },
     "metadata": {
      "scrapbook": {
       "mime_prefix": "application/papermill.record/",
       "name": "theft_from_vehicle_head"
      }
     },
     "output_type": "display_data"
    },
    {
     "data": {
      "application/papermill.record/text/html": "<style type=\"text/css\">\n</style>\n<table id=\"T_31803\">\n  <thead>\n    <tr>\n      <th id=\"T_31803_level0_col0\" class=\"col_heading level0 col0\" >Unnamed: 0</th>\n      <th id=\"T_31803_level0_col1\" class=\"col_heading level0 col1\" >Observations</th>\n      <th id=\"T_31803_level0_col2\" class=\"col_heading level0 col2\" >SMA_Forecast</th>\n      <th id=\"T_31803_level0_col3\" class=\"col_heading level0 col3\" >ES_Forecast</th>\n      <th id=\"T_31803_level0_col4\" class=\"col_heading level0 col4\" >ARIMA_Forecast</th>\n    </tr>\n  </thead>\n  <tbody>\n    <tr>\n      <td id=\"T_31803_row0_col0\" class=\"data row0 col0\" >2003-01-01</td>\n      <td id=\"T_31803_row0_col1\" class=\"data row0 col1\" >1438.000000</td>\n      <td id=\"T_31803_row0_col2\" class=\"data row0 col2\" >nan</td>\n      <td id=\"T_31803_row0_col3\" class=\"data row0 col3\" >nan</td>\n      <td id=\"T_31803_row0_col4\" class=\"data row0 col4\" >nan</td>\n    </tr>\n    <tr>\n      <td id=\"T_31803_row1_col0\" class=\"data row1 col0\" >2003-02-01</td>\n      <td id=\"T_31803_row1_col1\" class=\"data row1 col1\" >1102.000000</td>\n      <td id=\"T_31803_row1_col2\" class=\"data row1 col2\" >nan</td>\n      <td id=\"T_31803_row1_col3\" class=\"data row1 col3\" >nan</td>\n      <td id=\"T_31803_row1_col4\" class=\"data row1 col4\" >nan</td>\n    </tr>\n    <tr>\n      <td id=\"T_31803_row2_col0\" class=\"data row2 col0\" >2003-03-01</td>\n      <td id=\"T_31803_row2_col1\" class=\"data row2 col1\" >1251.000000</td>\n      <td id=\"T_31803_row2_col2\" class=\"data row2 col2\" >nan</td>\n      <td id=\"T_31803_row2_col3\" class=\"data row2 col3\" >nan</td>\n      <td id=\"T_31803_row2_col4\" class=\"data row2 col4\" >nan</td>\n    </tr>\n    <tr>\n      <td id=\"T_31803_row3_col0\" class=\"data row3 col0\" >2003-04-01</td>\n      <td id=\"T_31803_row3_col1\" class=\"data row3 col1\" >1528.000000</td>\n      <td id=\"T_31803_row3_col2\" class=\"data row3 col2\" >nan</td>\n      <td id=\"T_31803_row3_col3\" class=\"data row3 col3\" >nan</td>\n      <td id=\"T_31803_row3_col4\" class=\"data row3 col4\" >nan</td>\n    </tr>\n    <tr>\n      <td id=\"T_31803_row4_col0\" class=\"data row4 col0\" >2003-05-01</td>\n      <td id=\"T_31803_row4_col1\" class=\"data row4 col1\" >1873.000000</td>\n      <td id=\"T_31803_row4_col2\" class=\"data row4 col2\" >nan</td>\n      <td id=\"T_31803_row4_col3\" class=\"data row4 col3\" >nan</td>\n      <td id=\"T_31803_row4_col4\" class=\"data row4 col4\" >nan</td>\n    </tr>\n    <tr>\n      <td id=\"T_31803_row5_col0\" class=\"data row5 col0\" >2003-06-01</td>\n      <td id=\"T_31803_row5_col1\" class=\"data row5 col1\" >1695.000000</td>\n      <td id=\"T_31803_row5_col2\" class=\"data row5 col2\" >nan</td>\n      <td id=\"T_31803_row5_col3\" class=\"data row5 col3\" >nan</td>\n      <td id=\"T_31803_row5_col4\" class=\"data row5 col4\" >nan</td>\n    </tr>\n    <tr>\n      <td id=\"T_31803_row6_col0\" class=\"data row6 col0\" >2003-07-01</td>\n      <td id=\"T_31803_row6_col1\" class=\"data row6 col1\" >1445.000000</td>\n      <td id=\"T_31803_row6_col2\" class=\"data row6 col2\" >nan</td>\n      <td id=\"T_31803_row6_col3\" class=\"data row6 col3\" >nan</td>\n      <td id=\"T_31803_row6_col4\" class=\"data row6 col4\" >nan</td>\n    </tr>\n    <tr>\n      <td id=\"T_31803_row7_col0\" class=\"data row7 col0\" >2003-08-01</td>\n      <td id=\"T_31803_row7_col1\" class=\"data row7 col1\" >1634.000000</td>\n      <td id=\"T_31803_row7_col2\" class=\"data row7 col2\" >nan</td>\n      <td id=\"T_31803_row7_col3\" class=\"data row7 col3\" >nan</td>\n      <td id=\"T_31803_row7_col4\" class=\"data row7 col4\" >nan</td>\n    </tr>\n    <tr>\n      <td id=\"T_31803_row8_col0\" class=\"data row8 col0\" >2003-09-01</td>\n      <td id=\"T_31803_row8_col1\" class=\"data row8 col1\" >1470.000000</td>\n      <td id=\"T_31803_row8_col2\" class=\"data row8 col2\" >nan</td>\n      <td id=\"T_31803_row8_col3\" class=\"data row8 col3\" >nan</td>\n      <td id=\"T_31803_row8_col4\" class=\"data row8 col4\" >nan</td>\n    </tr>\n    <tr>\n      <td id=\"T_31803_row9_col0\" class=\"data row9 col0\" >2003-10-01</td>\n      <td id=\"T_31803_row9_col1\" class=\"data row9 col1\" >1554.000000</td>\n      <td id=\"T_31803_row9_col2\" class=\"data row9 col2\" >nan</td>\n      <td id=\"T_31803_row9_col3\" class=\"data row9 col3\" >nan</td>\n      <td id=\"T_31803_row9_col4\" class=\"data row9 col4\" >nan</td>\n    </tr>\n    <tr>\n      <td id=\"T_31803_row10_col0\" class=\"data row10 col0\" >2003-11-01</td>\n      <td id=\"T_31803_row10_col1\" class=\"data row10 col1\" >1332.000000</td>\n      <td id=\"T_31803_row10_col2\" class=\"data row10 col2\" >nan</td>\n      <td id=\"T_31803_row10_col3\" class=\"data row10 col3\" >nan</td>\n      <td id=\"T_31803_row10_col4\" class=\"data row10 col4\" >nan</td>\n    </tr>\n    <tr>\n      <td id=\"T_31803_row11_col0\" class=\"data row11 col0\" >2003-12-01</td>\n      <td id=\"T_31803_row11_col1\" class=\"data row11 col1\" >1422.000000</td>\n      <td id=\"T_31803_row11_col2\" class=\"data row11 col2\" >nan</td>\n      <td id=\"T_31803_row11_col3\" class=\"data row11 col3\" >nan</td>\n      <td id=\"T_31803_row11_col4\" class=\"data row11 col4\" >nan</td>\n    </tr>\n    <tr>\n      <td id=\"T_31803_row12_col0\" class=\"data row12 col0\" >2004-01-01</td>\n      <td id=\"T_31803_row12_col1\" class=\"data row12 col1\" >1319.000000</td>\n      <td id=\"T_31803_row12_col2\" class=\"data row12 col2\" >1478.670000</td>\n      <td id=\"T_31803_row12_col3\" class=\"data row12 col3\" >1462.020000</td>\n      <td id=\"T_31803_row12_col4\" class=\"data row12 col4\" >1338.040000</td>\n    </tr>\n    <tr>\n      <td id=\"T_31803_row13_col0\" class=\"data row13 col0\" >2004-02-01</td>\n      <td id=\"T_31803_row13_col1\" class=\"data row13 col1\" >1276.000000</td>\n      <td id=\"T_31803_row13_col2\" class=\"data row13 col2\" >1468.750000</td>\n      <td id=\"T_31803_row13_col3\" class=\"data row13 col3\" >1414.460000</td>\n      <td id=\"T_31803_row13_col4\" class=\"data row13 col4\" >1276.890000</td>\n    </tr>\n    <tr>\n      <td id=\"T_31803_row14_col0\" class=\"data row14 col0\" >2004-03-01</td>\n      <td id=\"T_31803_row14_col1\" class=\"data row14 col1\" >1523.000000</td>\n      <td id=\"T_31803_row14_col2\" class=\"data row14 col2\" >1483.250000</td>\n      <td id=\"T_31803_row14_col3\" class=\"data row14 col3\" >1374.990000</td>\n      <td id=\"T_31803_row14_col4\" class=\"data row14 col4\" >1489.310000</td>\n    </tr>\n  </tbody>\n</table>\n",
      "application/papermill.record/text/plain": "<pandas.io.formats.style.Styler at 0x295930190>"
     },
     "metadata": {
      "scrapbook": {
       "mime_prefix": "application/papermill.record/",
       "name": "all_predictions_head"
      }
     },
     "output_type": "display_data"
    },
    {
     "data": {
      "application/papermill.record/text/html": "<style type=\"text/css\">\n</style>\n<table id=\"T_eef63\">\n  <thead>\n    <tr>\n      <th id=\"T_eef63_level0_col0\" class=\"col_heading level0 col0\" >Unnamed: 0</th>\n      <th id=\"T_eef63_level0_col1\" class=\"col_heading level0 col1\" >Observations</th>\n      <th id=\"T_eef63_level0_col2\" class=\"col_heading level0 col2\" >SMA_Forecast</th>\n      <th id=\"T_eef63_level0_col3\" class=\"col_heading level0 col3\" >ES_Forecast</th>\n      <th id=\"T_eef63_level0_col4\" class=\"col_heading level0 col4\" >ARIMA_Forecast</th>\n    </tr>\n  </thead>\n  <tbody>\n    <tr>\n      <td id=\"T_eef63_row0_col0\" class=\"data row0 col0\" >2023-07-01</td>\n      <td id=\"T_eef63_row0_col1\" class=\"data row0 col1\" >684.000000</td>\n      <td id=\"T_eef63_row0_col2\" class=\"data row0 col2\" >594.080000</td>\n      <td id=\"T_eef63_row0_col3\" class=\"data row0 col3\" >603.750000</td>\n      <td id=\"T_eef63_row0_col4\" class=\"data row0 col4\" >665.150000</td>\n    </tr>\n    <tr>\n      <td id=\"T_eef63_row1_col0\" class=\"data row1 col0\" >2023-08-01</td>\n      <td id=\"T_eef63_row1_col1\" class=\"data row1 col1\" >749.000000</td>\n      <td id=\"T_eef63_row1_col2\" class=\"data row1 col2\" >603.250000</td>\n      <td id=\"T_eef63_row1_col3\" class=\"data row1 col3\" >628.480000</td>\n      <td id=\"T_eef63_row1_col4\" class=\"data row1 col4\" >717.030000</td>\n    </tr>\n    <tr>\n      <td id=\"T_eef63_row2_col0\" class=\"data row2 col0\" >2023-09-01</td>\n      <td id=\"T_eef63_row2_col1\" class=\"data row2 col1\" >651.000000</td>\n      <td id=\"T_eef63_row2_col2\" class=\"data row2 col2\" >613.920000</td>\n      <td id=\"T_eef63_row2_col3\" class=\"data row2 col3\" >665.450000</td>\n      <td id=\"T_eef63_row2_col4\" class=\"data row2 col4\" >701.820000</td>\n    </tr>\n    <tr>\n      <td id=\"T_eef63_row3_col0\" class=\"data row3 col0\" >2023-10-01</td>\n      <td id=\"T_eef63_row3_col1\" class=\"data row3 col1\" >656.000000</td>\n      <td id=\"T_eef63_row3_col2\" class=\"data row3 col2\" >611.500000</td>\n      <td id=\"T_eef63_row3_col3\" class=\"data row3 col3\" >660.770000</td>\n      <td id=\"T_eef63_row3_col4\" class=\"data row3 col4\" >652.820000</td>\n    </tr>\n    <tr>\n      <td id=\"T_eef63_row4_col0\" class=\"data row4 col0\" >2023-11-01</td>\n      <td id=\"T_eef63_row4_col1\" class=\"data row4 col1\" >nan</td>\n      <td id=\"T_eef63_row4_col2\" class=\"data row4 col2\" >611.580000</td>\n      <td id=\"T_eef63_row4_col3\" class=\"data row4 col3\" >657.150000</td>\n      <td id=\"T_eef63_row4_col4\" class=\"data row4 col4\" >652.850000</td>\n    </tr>\n  </tbody>\n</table>\n",
      "application/papermill.record/text/plain": "<pandas.io.formats.style.Styler at 0x29e541050>"
     },
     "metadata": {
      "scrapbook": {
       "mime_prefix": "application/papermill.record/",
       "name": "all_predictions_tail"
      }
     },
     "output_type": "display_data"
    }
   ],
   "source": [
    "data = pd.read_csv(\"../data/raw/crimedata_csv_AllNeighbourhoods_AllYears.csv\", encoding=\"utf-8\").round(2)\n",
    "glue(\"data_head\", data.head().style.format().hide(), display=False)\n",
    "glue(\"data_no_cols\", data.shape[1], display=False)\n",
    "glue(\"data_no_rows\", data.shape[0], display=False)\n",
    "\n",
    "data_description = pd.read_csv(\"../results/tables/description.csv\", encoding=\"utf-8\").round(2)\n",
    "glue(\"data_description\", data_description.style.format().hide(), display=False)\n",
    "\n",
    "missing_data = pd.read_csv(\"../results/tables/missing_values.csv\", encoding=\"utf-8\").round(2)\n",
    "glue(\"missing_values\", missing_data.style.format().hide(), display=False)\n",
    "\n",
    "correlation = pd.read_csv(\"../results/tables/correlation.csv\", encoding=\"utf-8\").round(2)\n",
    "glue(\"data_correlation\", correlation.style.format().hide(), display=False)\n",
    "\n",
    "preprocessed_head = pd.read_csv(\"../data/processed/preprocessed_data_head.csv\", encoding=\"utf-8\").round(2)\n",
    "glue(\"preprocessed_head\", preprocessed_head.style.format().hide(), display=False)\n",
    "\n",
    "theft_from_vehicle_head = pd.read_csv(\"../data/processed/preprocessed_theft_from_vehicle_head.csv\", encoding=\"utf-8\").round(2)\n",
    "glue(\"theft_from_vehicle_head\", theft_from_vehicle_head.style.format().hide(), display=False)\n",
    "glue(\"theft_from_vehicle_rows\", theft_from_vehicle_head.shape[0], display=False)\n",
    "\n",
    "all_predictions = pd.read_csv(\"../results/tables/all_predictions.csv\", encoding=\"utf-8\").round(2)\n",
    "glue(\"all_predictions_head\", all_predictions.head(15).style.format().hide(), display=False)\n",
    "glue(\"all_predictions_tail\", all_predictions.tail(5).style.format().hide(), display=False)"
   ]
  },
  {
   "cell_type": "markdown",
   "id": "30a99e74-48a4-4b1d-975c-c5e71aa56f68",
   "metadata": {},
   "source": [
    "## Summary\n",
    "\n",
    "In this notebook, our focus revolved around constructing a time-series forecasting model tailored to predict crime incidents in Vancouver, using \"Month\" as the temporal unit. Our primary emphasis centered on one of the most prevalent crime types in Vancouver over the past two decades: theft from vehicles. We evaluated the efficacy of three fundamental forecasting models—simple moving average, exponential smoothing, and ARIMA(1,1,0). Notably, the ARIMA(1,1,0) model emerged as the most effective, yielding a Mean Absolute Error (MAE) of [26.856890]. Considering that the occurrences of \"theft from a vehicle\" crimes per month often range in the hundreds to thousands, achieving a forecast performance of this caliber is notably commendable. It's worth highlighting that further refinement through comprehensive parameter tuning and integration of additional external variables holds the potential to cultivate even more accurate forecasting models.\n",
    "\n",
    "Moreover, the ARIMA(1,1,0) model's performance suggests promising potential for practical deployment in crime prevention strategies by law enforcement agencies. However, it's important to acknowledge the limitations inherent in solely relying on historical crime data; external socio-economic factors, seasonal fluctuations, and policy changes might significantly impact future crime trends, necessitating continual model adaptation and refinement for robust predictive accuracy."
   ]
  },
  {
   "cell_type": "markdown",
   "id": "9ba2394c-91d1-41c3-9e34-ca7690cc7534",
   "metadata": {},
   "source": [
    "## Introduction\n",
    "\n",
    "Vehicle-related theft remains an ongoing concern nationwide in Canada, with statistics revealing a staggering incident of vehicle theft occurring every six minutes across the country {cite}`CTVnews`. This pervasive issue extends into Vancouver, presenting formidable challenges to both community safety and law enforcement efforts. Theft from vehicles, a prevalent form of this crime, significantly affects neighborhoods, inflicting distress and substantial financial losses on local residents. In response to this pressing concern, this project is dedicated to forecasting occurrences of theft from vehicles specifically within Vancouver.\n",
    "\n",
    "The primary objective of this project is to forecast instances of theft from vehicles in Vancouver by analyzing historical data. Leveraging a comprehensive dataset sourced from the Vancouver Police Department, encompassing diverse crime records in Vancouver over the past 20 years alongside incident locations, our goal is to construct a reliable predictive model. This model aims to anticipate the frequency and patterns specific to theft from vehicles. An accurate forecast holds the potential to empower the City of Vancouver to proactively allocate law enforcement resources, thereby curbing the occurrence of such crimes and enhancing community safety."
   ]
  },
  {
   "cell_type": "markdown",
   "id": "55ac292b-34d3-4455-adef-9827f87e3b27",
   "metadata": {},
   "source": [
    "## Methods\n",
    "\n",
    "### Data\n",
    "\n",
    "The dataset utilized for this project originates from the Vancouver Police Department, available through the following link: https://geodash.vpd.ca/opendata/ {cite}`crimedata2023`. It comprises {glue:text}`data_no_cols` columns/variables and encompasses a substantial volume of data, totaling {glue:text}`data_no_rows` rows. Each row corresponds to a distinct crime incident recorded within the dataset. The available information includes details about the crime type, the corresponding date of occurrence, and the specific location or neighborhood where the crime took place. These data points serve as crucial elements for our analysis and forecasting efforts.\n",
    "\n",
    "### Analysis\n",
    "\n",
    "We're deploying three distinct time-series forecasting models—Simple Moving Average (SMA), Exponential Smoothing (ES), and Autoregressive Integrated Moving Average (ARIMA). These models rely solely on the timestamp and the targeted forecasted value. Despite having location data, which holds potential value, we've deferred its utilization in this phase of the project. Employing a rolling window approach, we'll predict and assess model performance across a 20-year duration, setting the window size to 12 months. This configuration ensures that forecasts leverage the preceding year's data for accuracy. Specifically for ARIMA, the hyperparameters (p, d, q) are set at (1, 1, 0). This specification signifies that the model factors in the most recent lagged observations of the differenced series to predict the subsequent value. Our analysis was executed using Python, leveraging various libraries: numpy {cite}`harris2020`, Pandas {cite}`mckinney2010`, Altair {cite}`vanderplas2018`, scikit-learn {cite}`pedregosa`, Matplotlib {cite}`hunter2007`, Seaborn {cite}`seaborn`, and Statsmodels {cite}`seabold2010`."
   ]
  },
  {
   "cell_type": "markdown",
   "id": "41d505cb-54b3-4627-9ea6-c37fa0be785c",
   "metadata": {},
   "source": [
    "## Results & Discussions\n",
    "\n",
    "First, we'll take a brief look into the dataset that we have at hand. We can take a sneak peak into our dataset ({numref}`Figure {number} <data_head>`) and identify the variables and datatypes that we are dealing with. A summary statistics ({numref}`Figure {number} <data_description>`) is displayed below and we can see that we also have some missing values ({numref}`Figure {number} <missing_values>`) in our dataset. However, since we are applying a pure time-series model that depend only on lagged values, the missing values shouldn't be an issue."
   ]
  },
  {
   "cell_type": "markdown",
   "id": "36259402",
   "metadata": {},
   "source": [
    "### Data Preview and Summary"
   ]
  },
  {
   "cell_type": "markdown",
   "id": "e9630679",
   "metadata": {},
   "source": [
    "```{glue:figure} data_head\n",
    ":name: \"data_head\"\n",
    "\n",
    "Data Preview\n",
    "```"
   ]
  },
  {
   "cell_type": "code",
   "execution_count": 3,
   "id": "fbe2464b-e796-4cae-a397-c96cb26f1b93",
   "metadata": {
    "tags": [
     "remove-input"
    ]
   },
   "outputs": [
    {
     "name": "stdout",
     "output_type": "stream",
     "text": [
      "<class 'pandas.core.frame.DataFrame'>\n",
      "RangeIndex: 879861 entries, 0 to 879860\n",
      "Data columns (total 10 columns):\n",
      " #   Column         Non-Null Count   Dtype  \n",
      "---  ------         --------------   -----  \n",
      " 0   TYPE           879861 non-null  object \n",
      " 1   YEAR           879861 non-null  int64  \n",
      " 2   MONTH          879861 non-null  int64  \n",
      " 3   DAY            879861 non-null  int64  \n",
      " 4   HOUR           879861 non-null  int64  \n",
      " 5   MINUTE         879861 non-null  int64  \n",
      " 6   HUNDRED_BLOCK  879849 non-null  object \n",
      " 7   NEIGHBOURHOOD  879717 non-null  object \n",
      " 8   X              879785 non-null  float64\n",
      " 9   Y              879785 non-null  float64\n",
      "dtypes: float64(2), int64(5), object(3)\n",
      "memory usage: 67.1+ MB\n"
     ]
    }
   ],
   "source": [
    "data.info()"
   ]
  },
  {
   "cell_type": "markdown",
   "id": "65cd3a81",
   "metadata": {},
   "source": [
    "```{glue:figure} data_description\n",
    ":name: \"data_description\"\n",
    "\n",
    "Data Summary Statistics\n",
    "```"
   ]
  },
  {
   "cell_type": "markdown",
   "id": "f5c906ed-24c8-4558-9a37-84f6d4c7f8b7",
   "metadata": {},
   "source": [
    "### Missing values"
   ]
  },
  {
   "cell_type": "markdown",
   "id": "52cda855",
   "metadata": {},
   "source": [
    "```{glue:figure} missing_values\n",
    ":name: \"missing_values\"\n",
    "\n",
    "Missing value in Data\n",
    "```"
   ]
  },
  {
   "cell_type": "markdown",
   "id": "94c0b04c-7bb5-4442-861e-3f47ad5b5521",
   "metadata": {},
   "source": [
    "### Distribution\n",
    "\n",
    "Upon conducting exploratory data analysis (EDA), conspicuous anomalies surface in the dataset. The `HOUR` and `MINUTE` columns exhibit an unusual frequency of zero values, along with a disproportionate occurrence of '30' in the `MINUTE` column. Additionally, the `DAY` column prominently features an excessive number of records logged on the 31st of the month ({numref}`Figure {number} <numeric_dist>`). These irregularities likely stem from convenience in data recording, casting uncertainty on the accuracy of these three columns. In light of these inconsistencies, the most prudent approach is to exclude the `DAY`, `HOUR`, and `MINUTE` columns from analysis and focus solely on forecasting crime occurrences based on the `MONTH` variable. Moreover, from the two bar graphs displaying the distribution of `TYPE` and `NEIGHBORHOOD` ({numref}`Figure {number} <categ_dist>`), we get a good idea of the types of crime happening in Vancouver as well as the location in which they're concentrated in. "
   ]
  },
  {
   "cell_type": "markdown",
   "id": "94b2a741",
   "metadata": {},
   "source": [
    "```{figure} ../results/figures/numeric_dist.png\n",
    "---\n",
    "width: 800px\n",
    "name: numeric_dist\n",
    "---\n",
    "The distribution of numerical variables.\n",
    "```"
   ]
  },
  {
   "cell_type": "markdown",
   "id": "5f20b24f",
   "metadata": {},
   "source": [
    "```{figure} ../results/figures/categ_dist.png\n",
    "---\n",
    "width: 600px\n",
    "name: categ_dist\n",
    "---\n",
    "The distribution of categorical variables.\n",
    "```"
   ]
  },
  {
   "cell_type": "markdown",
   "id": "de18aa19-6b35-4274-b2d8-e0b04b5cbc72",
   "metadata": {},
   "source": [
    "### Correlation"
   ]
  },
  {
   "cell_type": "markdown",
   "id": "d29ad27a",
   "metadata": {},
   "source": [
    "```{glue:figure} data_correlation\n",
    ":name: \"data_correlation\"\n",
    "\n",
    "Correlation of Numerical Variables\n",
    "```"
   ]
  },
  {
   "cell_type": "markdown",
   "id": "2c163e01-c110-40a1-81b8-54b147316bf1",
   "metadata": {},
   "source": [
    "### Preprocessing\n",
    "\n",
    "We'll start the data preprocessing phase by grouping the rows according to the `TYPE`, `YEAR`, and `MONTH` columns to aggregate the counts of specific crimes occurring in each month. Additionally, we'll adjust the datetime variable format for consistency. However, as the latest month (2023-11) is incomplete, we'll exclude this month from the dataset ({numref}`Figure {number} <preprocessed_head>`). Finally, we'll filter the data so that we focus only on `Theft from Vehicle` crimes, the most common crime in Vancouver in the past 20 years ({numref}`Figure {number} <theft_from_vehicle_head>`). This initial processing sets the groundwork for our subsequent time-series forecasting models."
   ]
  },
  {
   "cell_type": "markdown",
   "id": "3447ae79",
   "metadata": {},
   "source": [
    "```{glue:figure} preprocessed_head\n",
    ":name: \"preprocessed_head\"\n",
    "\n",
    "Preview of Preprocessed Data.\n",
    "```"
   ]
  },
  {
   "cell_type": "markdown",
   "id": "cc8cf24c",
   "metadata": {},
   "source": [
    "```{glue:figure} theft_from_vehicle_head\n",
    ":name: \"theft_from_vehicle_head\"\n",
    "\n",
    "Preview of Theft From Vehicle Data.\n",
    "```"
   ]
  },
  {
   "cell_type": "markdown",
   "id": "ac4d1c8a",
   "metadata": {},
   "source": [
    "Looking into our preprocessed and filtered data, we see that we have {glue:text}`theft_from_vehicle_rows` months of data. We can also see that the trend for the counts of `Theft from Vehicle` crimes actually fluctuated quite a lot over the years ({numref}`Figure {number} <original_plot>`)."
   ]
  },
  {
   "cell_type": "code",
   "execution_count": 11,
   "id": "3641e454-d7b5-43f7-bfb6-761a5d009b9a",
   "metadata": {
    "tags": [
     "remove-input"
    ]
   },
   "outputs": [
    {
     "name": "stdout",
     "output_type": "stream",
     "text": [
      "<class 'pandas.core.frame.DataFrame'>\n",
      "Index: 250 entries, 1433 to 1682\n",
      "Data columns (total 5 columns):\n",
      " #   Column        Non-Null Count  Dtype         \n",
      "---  ------        --------------  -----         \n",
      " 0   TYPE          250 non-null    object        \n",
      " 1   YEAR          250 non-null    int64         \n",
      " 2   MONTH         250 non-null    int64         \n",
      " 3   Observations  250 non-null    int64         \n",
      " 4   YEAR-MONTH    250 non-null    datetime64[ns]\n",
      "dtypes: datetime64[ns](1), int64(3), object(1)\n",
      "memory usage: 11.7+ KB\n"
     ]
    }
   ],
   "source": [
    "theft_from_vehicle_head.info()"
   ]
  },
  {
   "cell_type": "markdown",
   "id": "d1a435a3",
   "metadata": {},
   "source": [
    "```{figure} ../results/figures/original_plot.png\n",
    "---\n",
    "width: 600px\n",
    "name: original_plot\n",
    "---\n",
    "The time-series trend of \"Theft from Vehicle\" in Vancouver.\n",
    "```"
   ]
  },
  {
   "cell_type": "markdown",
   "id": "5cab059f-ba58-4dbc-ba16-0004ef9eda02",
   "metadata": {},
   "source": [
    "### Simple Moving Average & Exponential Smoothing\n",
    "\n",
    "As mentioned in the beginning, we will be applying three time-series model (Simple Moving Average, Exponential Smoothing and ARIMA(1,1,0)) with a rolling-window of 12 months to forecast the count of `Theft from Vehicle` crimes in a monthly basis. We do not have a forecasted value for the first 12 time units due to the size of the rolling window ({numref}`Figure {number} <all_predictions_head>`), but we will be forecasting one time unit into the future ({numref}`Figure {number} <all_predictions_tail>`)."
   ]
  },
  {
   "cell_type": "markdown",
   "id": "ea9bc040",
   "metadata": {},
   "source": [
    "```{glue:figure} all_predictions_head\n",
    ":name: \"all_predictions_head\"\n",
    "\n",
    "Head Preview of Predictions.\n",
    "```"
   ]
  },
  {
   "cell_type": "markdown",
   "id": "6bbc3c79",
   "metadata": {},
   "source": [
    "```{glue:figure} all_predictions_tail\n",
    ":name: \"all_predictions_tail\"\n",
    "\n",
    "Tail Preview of Predictions.\n",
    "```"
   ]
  },
  {
   "cell_type": "markdown",
   "id": "a8f971d9",
   "metadata": {},
   "source": [
    "Based on a visual assessment of the Simple Moving Average (SMA) ({numref}`Figure {number} <sma_prediction_plot>`) and Exponential Smoothing (ES) ({numref}`Figure {number} <es_prediction_plot>`) forecasts, it's evident that both methods broadly capture the general trend of the actual values. However, neither forecast method appears to be highly accurate. The Exponential Smoothing approach demonstrates a slightly improved performance compared to SMA."
   ]
  },
  {
   "cell_type": "markdown",
   "id": "4943959d",
   "metadata": {},
   "source": [
    "```{figure} ../results/figures/sma_prediction_plot.png\n",
    "---\n",
    "width: 600px\n",
    "name: sma_prediction_plot\n",
    "---\n",
    "The plot that compares the original value and the predictions made by simple moving average.\n",
    "```"
   ]
  },
  {
   "cell_type": "markdown",
   "id": "fd393337",
   "metadata": {},
   "source": [
    "```{figure} ../results/figures/es_prediction_plot.png\n",
    "---\n",
    "width: 600px\n",
    "name: es_prediction_plot\n",
    "---\n",
    "The plot that compares the original value and the predictions made by exponential smoothing."
   ]
  },
  {
   "cell_type": "markdown",
   "id": "f8baf9ab-0ef9-43cb-95c7-1e0a779c9e97",
   "metadata": {},
   "source": [
    "### ARIMA(1,1,0)"
   ]
  },
  {
   "cell_type": "markdown",
   "id": "587d9aef",
   "metadata": {},
   "source": [
    "Before fitting ARIMA, we first have to check the assumption of stationarity. In the autocorrelation plot of our data ({numref}`Figure {number} <autocorrelation_plot>`), the assumption is not met, so we have to applying differencing to make the data stationary. After applying 1st order differencing, the assumption appears to be largely met ({numref}`Figure {number} <autocorrelation_with_diff_plot>`)."
   ]
  },
  {
   "cell_type": "markdown",
   "id": "968d05b1",
   "metadata": {},
   "source": [
    "```{figure} ../results/figures/autocorrelation_plot.png\n",
    "---\n",
    "width: 600px\n",
    "name: autocorrelation_plot\n",
    "---\n",
    "The autocorrelation plot for the time-series observations in our preprocessed data."
   ]
  },
  {
   "cell_type": "markdown",
   "id": "6e486a29",
   "metadata": {},
   "source": [
    "```{figure} ../results/figures/autocorrelation_with_diff_plot.png\n",
    "---\n",
    "width: 600px\n",
    "name: autocorrelation_with_diff_plot\n",
    "---\n",
    "The autocorrelation plot for the time-series observations in our preprocessed data with 1-time differencing."
   ]
  },
  {
   "cell_type": "markdown",
   "id": "f62f38f0",
   "metadata": {},
   "source": [
    "The forecast from the ARIMA model looks much better ({numref}`Figure {number} <arima_prediction_plot>`)! We can see some clear overlaps between the forecasted value and the original value."
   ]
  },
  {
   "cell_type": "markdown",
   "id": "f0fa8815",
   "metadata": {},
   "source": [
    "```{figure} ../results/figures/arima_prediction_plot.png\n",
    "---\n",
    "width: 600px\n",
    "name: arima_prediction_plot\n",
    "---\n",
    "The plot that compares the original value and the predictions made by arima model.\n",
    "```"
   ]
  },
  {
   "cell_type": "markdown",
   "id": "91b8bb30",
   "metadata": {},
   "source": [
    "Finally, we'll compare the performances of the three models in terms of mean absolute error (MAE) and mean squared error (MSE). Notably, there's a discernible pattern showcasing a marked enhancement in performance, progressing from Simple Moving Average (SMA) to Exponential Smoothing Approach (ESA) and ultimately to ARIMA. This consistent trend aligns with the observations gleaned from the visualizations crafted earlier, affirming the gradual improvement in forecasting accuracy across the models."
   ]
  },
  {
   "cell_type": "code",
   "execution_count": 21,
   "id": "ebf88c7b-f2eb-424d-989a-64f5cce84d71",
   "metadata": {},
   "outputs": [
    {
     "data": {
      "text/html": [
       "<div>\n",
       "<style scoped>\n",
       "    .dataframe tbody tr th:only-of-type {\n",
       "        vertical-align: middle;\n",
       "    }\n",
       "\n",
       "    .dataframe tbody tr th {\n",
       "        vertical-align: top;\n",
       "    }\n",
       "\n",
       "    .dataframe thead th {\n",
       "        text-align: right;\n",
       "    }\n",
       "</style>\n",
       "<table border=\"1\" class=\"dataframe\">\n",
       "  <thead>\n",
       "    <tr style=\"text-align: right;\">\n",
       "      <th></th>\n",
       "      <th>Forecast_Column</th>\n",
       "      <th>MAE</th>\n",
       "      <th>MSE</th>\n",
       "    </tr>\n",
       "  </thead>\n",
       "  <tbody>\n",
       "    <tr>\n",
       "      <th>0</th>\n",
       "      <td>SMA_Forecast</td>\n",
       "      <td>121.216737</td>\n",
       "      <td>27239.951827</td>\n",
       "    </tr>\n",
       "    <tr>\n",
       "      <th>1</th>\n",
       "      <td>ES_Forecast</td>\n",
       "      <td>98.641493</td>\n",
       "      <td>16240.436389</td>\n",
       "    </tr>\n",
       "    <tr>\n",
       "      <th>2</th>\n",
       "      <td>ARIMA_Forecast</td>\n",
       "      <td>26.856890</td>\n",
       "      <td>1940.870649</td>\n",
       "    </tr>\n",
       "  </tbody>\n",
       "</table>\n",
       "</div>"
      ],
      "text/plain": [
       "  Forecast_Column         MAE           MSE\n",
       "0    SMA_Forecast  121.216737  27239.951827\n",
       "1     ES_Forecast   98.641493  16240.436389\n",
       "2  ARIMA_Forecast   26.856890   1940.870649"
      ]
     },
     "execution_count": 21,
     "metadata": {},
     "output_type": "execute_result"
    }
   ],
   "source": [
    "# Drop NA values to evaluate performance\n",
    "\n",
    "prediction_drop_na = prediction.dropna()\n",
    "\n",
    "results_df = get_metrics_from_df(prediction_drop_na, \"Observations\")\n",
    "results_df"
   ]
  },
  {
   "cell_type": "markdown",
   "id": "cf91be82-91b3-40dc-9167-94327c2657df",
   "metadata": {},
   "source": [
    "## Conclusion\n",
    "\n",
    "While the ARIMA model stands out as the most effective among the three forecasting models—simple moving average and exponential smoothing—it's crucial to acknowledge the room for enhancement in our predictive capabilities. Future advancements could entail fine-tuning the ARIMA hyperparameters or exploring alternative models to ascertain if further accuracy gains are attainable. Additionally, integrating exogenous variables, such as socioeconomic indicators or weather data, might augment the predictive power of our models, offering a more comprehensive understanding of crime dynamics. Furthermore, this analysis prompts future inquiries, including investigating the influence of specific external factors on crime occurrences or exploring spatial-temporal models to predict crime hotspots within Vancouver. These prospective avenues aim to refine our forecasting precision and deepen our insights into crime trends, paving the way for more informed law enforcement strategies and proactive crime prevention measures."
   ]
  },
  {
   "cell_type": "markdown",
   "id": "ee2e9682-814f-4f79-8fca-d7473410402a",
   "metadata": {},
   "source": [
    "## References"
   ]
  },
  {
   "cell_type": "markdown",
   "id": "5f7c1965",
   "metadata": {},
   "source": [
    "```{bibliography}\n",
    "```"
   ]
  }
 ],
 "metadata": {
  "kernelspec": {
   "display_name": "Python [conda env:avalon]",
   "language": "python",
   "name": "python3"
  },
  "language_info": {
   "codemirror_mode": {
    "name": "ipython",
    "version": 3
   },
   "file_extension": ".py",
   "mimetype": "text/x-python",
   "name": "python",
   "nbconvert_exporter": "python",
   "pygments_lexer": "ipython3",
   "version": "3.11.6"
  }
 },
 "nbformat": 4,
 "nbformat_minor": 5
}
