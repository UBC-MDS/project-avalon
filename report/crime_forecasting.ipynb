{
 "cells": [
  {
   "cell_type": "markdown",
   "id": "69293354-1852-4df2-938e-1b7b83c87399",
   "metadata": {},
   "source": [
    "# Crime Forecast in Vancouver"
   ]
  },
  {
   "cell_type": "markdown",
   "id": "66b3dbf0-2158-4bc2-a0dd-b2685d8dfc48",
   "metadata": {},
   "source": [
    "by Ben Chen, Mo Norouzi, Orix Au Yeung, Yiwei Zhang"
   ]
  },
  {
   "cell_type": "code",
   "execution_count": 1,
   "id": "0bc1fadf-357e-4aac-8345-1c5322d2bdab",
   "metadata": {
    "tags": [
     "remove-input"
    ]
   },
   "outputs": [],
   "source": [
    "import pandas as pd\n",
    "import warnings\n",
    "from myst_nb import glue\n",
    "warnings.filterwarnings(\"ignore\")\n",
    "pd.set_option('display.precision', 2)\n",
    "pd.set_option('styler.format.precision', 2)\n",
    "pd.set_option('styler.render.max_columns', 10)"
   ]
  },
  {
   "cell_type": "code",
   "execution_count": 2,
   "id": "913eebc4",
   "metadata": {
    "tags": [
     "remove-input"
    ]
   },
   "outputs": [
    {
     "data": {
      "application/papermill.record/text/html": "<div>\n<style scoped>\n    .dataframe tbody tr th:only-of-type {\n        vertical-align: middle;\n    }\n\n    .dataframe tbody tr th {\n        vertical-align: top;\n    }\n\n    .dataframe thead th {\n        text-align: right;\n    }\n</style>\n<table border=\"1\" class=\"dataframe\">\n  <thead>\n    <tr style=\"text-align: right;\">\n      <th></th>\n      <th>0</th>\n      <th>1</th>\n      <th>2</th>\n      <th>3</th>\n      <th>4</th>\n    </tr>\n  </thead>\n  <tbody>\n    <tr>\n      <th>TYPE</th>\n      <td>Break and Enter Commercial</td>\n      <td>Break and Enter Commercial</td>\n      <td>Break and Enter Commercial</td>\n      <td>Break and Enter Commercial</td>\n      <td>Break and Enter Commercial</td>\n    </tr>\n    <tr>\n      <th>YEAR</th>\n      <td>2012</td>\n      <td>2019</td>\n      <td>2019</td>\n      <td>2021</td>\n      <td>2014</td>\n    </tr>\n    <tr>\n      <th>MONTH</th>\n      <td>12</td>\n      <td>3</td>\n      <td>8</td>\n      <td>4</td>\n      <td>8</td>\n    </tr>\n    <tr>\n      <th>DAY</th>\n      <td>14</td>\n      <td>7</td>\n      <td>27</td>\n      <td>26</td>\n      <td>8</td>\n    </tr>\n    <tr>\n      <th>HOUR</th>\n      <td>8</td>\n      <td>2</td>\n      <td>4</td>\n      <td>4</td>\n      <td>5</td>\n    </tr>\n    <tr>\n      <th>MINUTE</th>\n      <td>52</td>\n      <td>6</td>\n      <td>12</td>\n      <td>44</td>\n      <td>13</td>\n    </tr>\n    <tr>\n      <th>HUNDRED_BLOCK</th>\n      <td>nan</td>\n      <td>10XX SITKA SQ</td>\n      <td>10XX ALBERNI ST</td>\n      <td>10XX ALBERNI ST</td>\n      <td>10XX ALBERNI ST</td>\n    </tr>\n    <tr>\n      <th>NEIGHBOURHOOD</th>\n      <td>Oakridge</td>\n      <td>Fairview</td>\n      <td>West End</td>\n      <td>West End</td>\n      <td>West End</td>\n    </tr>\n    <tr>\n      <th>X</th>\n      <td>491285.0</td>\n      <td>490612.96</td>\n      <td>491007.78</td>\n      <td>491007.78</td>\n      <td>491015.94</td>\n    </tr>\n    <tr>\n      <th>Y</th>\n      <td>5453433.0</td>\n      <td>5457109.82</td>\n      <td>5459174.34</td>\n      <td>5459174.34</td>\n      <td>5459166.14</td>\n    </tr>\n  </tbody>\n</table>\n</div>",
      "application/papermill.record/text/plain": "                                        0                           1  \\\nTYPE           Break and Enter Commercial  Break and Enter Commercial   \nYEAR                                 2012                        2019   \nMONTH                                  12                           3   \nDAY                                    14                           7   \nHOUR                                    8                           2   \nMINUTE                                 52                           6   \nHUNDRED_BLOCK                         nan               10XX SITKA SQ   \nNEIGHBOURHOOD                    Oakridge                    Fairview   \nX                                491285.0                   490612.96   \nY                               5453433.0                  5457109.82   \n\n                                        2                           3  \\\nTYPE           Break and Enter Commercial  Break and Enter Commercial   \nYEAR                                 2019                        2021   \nMONTH                                   8                           4   \nDAY                                    27                          26   \nHOUR                                    4                           4   \nMINUTE                                 12                          44   \nHUNDRED_BLOCK             10XX ALBERNI ST             10XX ALBERNI ST   \nNEIGHBOURHOOD                    West End                    West End   \nX                               491007.78                   491007.78   \nY                              5459174.34                  5459174.34   \n\n                                        4  \nTYPE           Break and Enter Commercial  \nYEAR                                 2014  \nMONTH                                   8  \nDAY                                     8  \nHOUR                                    5  \nMINUTE                                 13  \nHUNDRED_BLOCK             10XX ALBERNI ST  \nNEIGHBOURHOOD                    West End  \nX                               491015.94  \nY                              5459166.14  "
     },
     "metadata": {
      "scrapbook": {
       "mime_prefix": "application/papermill.record/",
       "name": "data_head"
      }
     },
     "output_type": "display_data"
    },
    {
     "data": {
      "application/papermill.record/text/plain": "10"
     },
     "metadata": {
      "scrapbook": {
       "mime_prefix": "application/papermill.record/",
       "name": "data_no_cols"
      }
     },
     "output_type": "display_data"
    },
    {
     "data": {
      "application/papermill.record/text/plain": "879861"
     },
     "metadata": {
      "scrapbook": {
       "mime_prefix": "application/papermill.record/",
       "name": "data_no_rows"
      }
     },
     "output_type": "display_data"
    },
    {
     "data": {
      "application/papermill.record/text/plain": "20.0"
     },
     "metadata": {
      "scrapbook": {
       "mime_prefix": "application/papermill.record/",
       "name": "no_year_unique"
      }
     },
     "output_type": "display_data"
    },
    {
     "data": {
      "application/papermill.record/text/html": "<div>\n<style scoped>\n    .dataframe tbody tr th:only-of-type {\n        vertical-align: middle;\n    }\n\n    .dataframe tbody tr th {\n        vertical-align: top;\n    }\n\n    .dataframe thead th {\n        text-align: right;\n    }\n</style>\n<table border=\"1\" class=\"dataframe\">\n  <thead>\n    <tr style=\"text-align: right;\">\n      <th>variable</th>\n      <th>YEAR</th>\n      <th>MONTH</th>\n      <th>DAY</th>\n      <th>HOUR</th>\n      <th>MINUTE</th>\n      <th>X</th>\n      <th>Y</th>\n    </tr>\n  </thead>\n  <tbody>\n    <tr>\n      <th>count</th>\n      <td>879861.0</td>\n      <td>879861.0</td>\n      <td>879861.0</td>\n      <td>879861.0</td>\n      <td>879861.0</td>\n      <td>879785.0</td>\n      <td>879785.0</td>\n    </tr>\n    <tr>\n      <th>mean</th>\n      <td>2012.27</td>\n      <td>6.52</td>\n      <td>15.38</td>\n      <td>12.31</td>\n      <td>15.86</td>\n      <td>449007.42</td>\n      <td>4977853.25</td>\n    </tr>\n    <tr>\n      <th>std</th>\n      <td>6.18</td>\n      <td>3.39</td>\n      <td>8.76</td>\n      <td>7.46</td>\n      <td>18.36</td>\n      <td>139304.3</td>\n      <td>1544127.07</td>\n    </tr>\n    <tr>\n      <th>min</th>\n      <td>2003.0</td>\n      <td>1.0</td>\n      <td>1.0</td>\n      <td>0.0</td>\n      <td>0.0</td>\n      <td>0.0</td>\n      <td>0.0</td>\n    </tr>\n    <tr>\n      <th>25%</th>\n      <td>2006.0</td>\n      <td>4.0</td>\n      <td>8.0</td>\n      <td>7.0</td>\n      <td>0.0</td>\n      <td>490187.87</td>\n      <td>5454211.41</td>\n    </tr>\n    <tr>\n      <th>50%</th>\n      <td>2012.0</td>\n      <td>7.0</td>\n      <td>15.0</td>\n      <td>14.0</td>\n      <td>5.0</td>\n      <td>491569.91</td>\n      <td>5457169.69</td>\n    </tr>\n    <tr>\n      <th>75%</th>\n      <td>2018.0</td>\n      <td>9.0</td>\n      <td>23.0</td>\n      <td>18.0</td>\n      <td>30.0</td>\n      <td>493380.11</td>\n      <td>5458718.06</td>\n    </tr>\n    <tr>\n      <th>max</th>\n      <td>2023.0</td>\n      <td>12.0</td>\n      <td>31.0</td>\n      <td>23.0</td>\n      <td>59.0</td>\n      <td>511303.0</td>\n      <td>5512579.0</td>\n    </tr>\n  </tbody>\n</table>\n</div>",
      "application/papermill.record/text/plain": "variable      YEAR     MONTH       DAY      HOUR    MINUTE          X  \\\ncount     879861.0  879861.0  879861.0  879861.0  879861.0   879785.0   \nmean       2012.27      6.52     15.38     12.31     15.86  449007.42   \nstd           6.18      3.39      8.76      7.46     18.36   139304.3   \nmin         2003.0       1.0       1.0       0.0       0.0        0.0   \n25%         2006.0       4.0       8.0       7.0       0.0  490187.87   \n50%         2012.0       7.0      15.0      14.0       5.0  491569.91   \n75%         2018.0       9.0      23.0      18.0      30.0  493380.11   \nmax         2023.0      12.0      31.0      23.0      59.0   511303.0   \n\nvariable           Y  \ncount       879785.0  \nmean      4977853.25  \nstd       1544127.07  \nmin              0.0  \n25%       5454211.41  \n50%       5457169.69  \n75%       5458718.06  \nmax        5512579.0  "
     },
     "metadata": {
      "scrapbook": {
       "mime_prefix": "application/papermill.record/",
       "name": "data_description"
      }
     },
     "output_type": "display_data"
    },
    {
     "data": {
      "application/papermill.record/text/html": "<div>\n<style scoped>\n    .dataframe tbody tr th:only-of-type {\n        vertical-align: middle;\n    }\n\n    .dataframe tbody tr th {\n        vertical-align: top;\n    }\n\n    .dataframe thead th {\n        text-align: right;\n    }\n</style>\n<table border=\"1\" class=\"dataframe\">\n  <thead>\n    <tr style=\"text-align: right;\">\n      <th></th>\n      <th>variable</th>\n      <th>Zero Values</th>\n      <th>Missing Values</th>\n      <th>% of Total Values</th>\n      <th>Total Zero Missing Values</th>\n      <th>% Total Zero Missing Values</th>\n      <th>Data Type</th>\n    </tr>\n  </thead>\n  <tbody>\n    <tr>\n      <th>0</th>\n      <td>NEIGHBOURHOOD</td>\n      <td>0</td>\n      <td>144</td>\n      <td>0.0</td>\n      <td>144</td>\n      <td>0.0</td>\n      <td>object</td>\n    </tr>\n    <tr>\n      <th>1</th>\n      <td>X</td>\n      <td>77225</td>\n      <td>76</td>\n      <td>0.0</td>\n      <td>77301</td>\n      <td>8.8</td>\n      <td>float64</td>\n    </tr>\n    <tr>\n      <th>2</th>\n      <td>Y</td>\n      <td>77225</td>\n      <td>76</td>\n      <td>0.0</td>\n      <td>77301</td>\n      <td>8.8</td>\n      <td>float64</td>\n    </tr>\n    <tr>\n      <th>3</th>\n      <td>HUNDRED_BLOCK</td>\n      <td>0</td>\n      <td>12</td>\n      <td>0.0</td>\n      <td>12</td>\n      <td>0.0</td>\n      <td>object</td>\n    </tr>\n  </tbody>\n</table>\n</div>",
      "application/papermill.record/text/plain": "        variable Zero Values Missing Values % of Total Values  \\\n0  NEIGHBOURHOOD           0            144               0.0   \n1              X       77225             76               0.0   \n2              Y       77225             76               0.0   \n3  HUNDRED_BLOCK           0             12               0.0   \n\n  Total Zero Missing Values % Total Zero Missing Values Data Type  \n0                       144                         0.0    object  \n1                     77301                         8.8   float64  \n2                     77301                         8.8   float64  \n3                        12                         0.0    object  "
     },
     "metadata": {
      "scrapbook": {
       "mime_prefix": "application/papermill.record/",
       "name": "missing_values"
      }
     },
     "output_type": "display_data"
    },
    {
     "data": {
      "application/papermill.record/text/html": "<style type=\"text/css\">\n#T_c7295_row0_col0, #T_c7295_row1_col1, #T_c7295_row2_col2, #T_c7295_row3_col3, #T_c7295_row4_col4, #T_c7295_row5_col5, #T_c7295_row5_col6, #T_c7295_row6_col5, #T_c7295_row6_col6 {\n  background-color: #023858;\n  color: #f1f1f1;\n}\n#T_c7295_row0_col1 {\n  background-color: #fef6fa;\n  color: #000000;\n}\n#T_c7295_row0_col2, #T_c7295_row2_col1 {\n  background-color: #fef6fb;\n  color: #000000;\n}\n#T_c7295_row0_col3 {\n  background-color: #faf3f9;\n  color: #000000;\n}\n#T_c7295_row0_col4 {\n  background-color: #f7f0f7;\n  color: #000000;\n}\n#T_c7295_row0_col5, #T_c7295_row0_col6 {\n  background-color: #fcf4fa;\n  color: #000000;\n}\n#T_c7295_row1_col0, #T_c7295_row1_col2, #T_c7295_row1_col3, #T_c7295_row1_col4, #T_c7295_row1_col5, #T_c7295_row1_col6, #T_c7295_row2_col0, #T_c7295_row2_col3, #T_c7295_row2_col4, #T_c7295_row2_col5, #T_c7295_row2_col6, #T_c7295_row3_col1, #T_c7295_row3_col2, #T_c7295_row4_col1, #T_c7295_row4_col2, #T_c7295_row5_col1, #T_c7295_row5_col2, #T_c7295_row6_col1, #T_c7295_row6_col2 {\n  background-color: #fff7fb;\n  color: #000000;\n}\n#T_c7295_row3_col0 {\n  background-color: #fbf4f9;\n  color: #000000;\n}\n#T_c7295_row3_col4, #T_c7295_row4_col3 {\n  background-color: #eee9f3;\n  color: #000000;\n}\n#T_c7295_row3_col5, #T_c7295_row3_col6, #T_c7295_row5_col3, #T_c7295_row6_col3 {\n  background-color: #6fa7ce;\n  color: #f1f1f1;\n}\n#T_c7295_row4_col0 {\n  background-color: #f8f1f8;\n  color: #000000;\n}\n#T_c7295_row4_col5, #T_c7295_row4_col6, #T_c7295_row5_col4, #T_c7295_row6_col4 {\n  background-color: #cacee5;\n  color: #000000;\n}\n#T_c7295_row5_col0, #T_c7295_row6_col0 {\n  background-color: #fdf5fa;\n  color: #000000;\n}\n</style>\n<table id=\"T_c7295\">\n  <thead>\n    <tr>\n      <th class=\"blank level0\" >&nbsp;</th>\n      <th id=\"T_c7295_level0_col0\" class=\"col_heading level0 col0\" >YEAR</th>\n      <th id=\"T_c7295_level0_col1\" class=\"col_heading level0 col1\" >MONTH</th>\n      <th id=\"T_c7295_level0_col2\" class=\"col_heading level0 col2\" >DAY</th>\n      <th id=\"T_c7295_level0_col3\" class=\"col_heading level0 col3\" >HOUR</th>\n      <th id=\"T_c7295_level0_col4\" class=\"col_heading level0 col4\" >MINUTE</th>\n      <th id=\"T_c7295_level0_col5\" class=\"col_heading level0 col5\" >X</th>\n      <th id=\"T_c7295_level0_col6\" class=\"col_heading level0 col6\" >Y</th>\n    </tr>\n    <tr>\n      <th class=\"index_name level0\" >variable</th>\n      <th class=\"blank col0\" >&nbsp;</th>\n      <th class=\"blank col1\" >&nbsp;</th>\n      <th class=\"blank col2\" >&nbsp;</th>\n      <th class=\"blank col3\" >&nbsp;</th>\n      <th class=\"blank col4\" >&nbsp;</th>\n      <th class=\"blank col5\" >&nbsp;</th>\n      <th class=\"blank col6\" >&nbsp;</th>\n    </tr>\n  </thead>\n  <tbody>\n    <tr>\n      <th id=\"T_c7295_level0_row0\" class=\"row_heading level0 row0\" >YEAR</th>\n      <td id=\"T_c7295_row0_col0\" class=\"data row0 col0\" >1.00</td>\n      <td id=\"T_c7295_row0_col1\" class=\"data row0 col1\" >0.01</td>\n      <td id=\"T_c7295_row0_col2\" class=\"data row0 col2\" >0.01</td>\n      <td id=\"T_c7295_row0_col3\" class=\"data row0 col3\" >0.04</td>\n      <td id=\"T_c7295_row0_col4\" class=\"data row0 col4\" >0.06</td>\n      <td id=\"T_c7295_row0_col5\" class=\"data row0 col5\" >0.02</td>\n      <td id=\"T_c7295_row0_col6\" class=\"data row0 col6\" >0.02</td>\n    </tr>\n    <tr>\n      <th id=\"T_c7295_level0_row1\" class=\"row_heading level0 row1\" >MONTH</th>\n      <td id=\"T_c7295_row1_col0\" class=\"data row1 col0\" >0.01</td>\n      <td id=\"T_c7295_row1_col1\" class=\"data row1 col1\" >1.00</td>\n      <td id=\"T_c7295_row1_col2\" class=\"data row1 col2\" >0.01</td>\n      <td id=\"T_c7295_row1_col3\" class=\"data row1 col3\" >0.00</td>\n      <td id=\"T_c7295_row1_col4\" class=\"data row1 col4\" >0.00</td>\n      <td id=\"T_c7295_row1_col5\" class=\"data row1 col5\" >0.00</td>\n      <td id=\"T_c7295_row1_col6\" class=\"data row1 col6\" >0.00</td>\n    </tr>\n    <tr>\n      <th id=\"T_c7295_level0_row2\" class=\"row_heading level0 row2\" >DAY</th>\n      <td id=\"T_c7295_row2_col0\" class=\"data row2 col0\" >0.01</td>\n      <td id=\"T_c7295_row2_col1\" class=\"data row2 col1\" >0.01</td>\n      <td id=\"T_c7295_row2_col2\" class=\"data row2 col2\" >1.00</td>\n      <td id=\"T_c7295_row2_col3\" class=\"data row2 col3\" >0.00</td>\n      <td id=\"T_c7295_row2_col4\" class=\"data row2 col4\" >0.00</td>\n      <td id=\"T_c7295_row2_col5\" class=\"data row2 col5\" >0.00</td>\n      <td id=\"T_c7295_row2_col6\" class=\"data row2 col6\" >0.00</td>\n    </tr>\n    <tr>\n      <th id=\"T_c7295_level0_row3\" class=\"row_heading level0 row3\" >HOUR</th>\n      <td id=\"T_c7295_row3_col0\" class=\"data row3 col0\" >0.04</td>\n      <td id=\"T_c7295_row3_col1\" class=\"data row3 col1\" >0.00</td>\n      <td id=\"T_c7295_row3_col2\" class=\"data row3 col2\" >0.00</td>\n      <td id=\"T_c7295_row3_col3\" class=\"data row3 col3\" >1.00</td>\n      <td id=\"T_c7295_row3_col4\" class=\"data row3 col4\" >0.11</td>\n      <td id=\"T_c7295_row3_col5\" class=\"data row3 col5\" >0.51</td>\n      <td id=\"T_c7295_row3_col6\" class=\"data row3 col6\" >0.51</td>\n    </tr>\n    <tr>\n      <th id=\"T_c7295_level0_row4\" class=\"row_heading level0 row4\" >MINUTE</th>\n      <td id=\"T_c7295_row4_col0\" class=\"data row4 col0\" >0.06</td>\n      <td id=\"T_c7295_row4_col1\" class=\"data row4 col1\" >0.00</td>\n      <td id=\"T_c7295_row4_col2\" class=\"data row4 col2\" >0.00</td>\n      <td id=\"T_c7295_row4_col3\" class=\"data row4 col3\" >0.11</td>\n      <td id=\"T_c7295_row4_col4\" class=\"data row4 col4\" >1.00</td>\n      <td id=\"T_c7295_row4_col5\" class=\"data row4 col5\" >0.27</td>\n      <td id=\"T_c7295_row4_col6\" class=\"data row4 col6\" >0.27</td>\n    </tr>\n    <tr>\n      <th id=\"T_c7295_level0_row5\" class=\"row_heading level0 row5\" >X</th>\n      <td id=\"T_c7295_row5_col0\" class=\"data row5 col0\" >0.02</td>\n      <td id=\"T_c7295_row5_col1\" class=\"data row5 col1\" >0.00</td>\n      <td id=\"T_c7295_row5_col2\" class=\"data row5 col2\" >0.00</td>\n      <td id=\"T_c7295_row5_col3\" class=\"data row5 col3\" >0.51</td>\n      <td id=\"T_c7295_row5_col4\" class=\"data row5 col4\" >0.27</td>\n      <td id=\"T_c7295_row5_col5\" class=\"data row5 col5\" >1.00</td>\n      <td id=\"T_c7295_row5_col6\" class=\"data row5 col6\" >1.00</td>\n    </tr>\n    <tr>\n      <th id=\"T_c7295_level0_row6\" class=\"row_heading level0 row6\" >Y</th>\n      <td id=\"T_c7295_row6_col0\" class=\"data row6 col0\" >0.02</td>\n      <td id=\"T_c7295_row6_col1\" class=\"data row6 col1\" >0.00</td>\n      <td id=\"T_c7295_row6_col2\" class=\"data row6 col2\" >0.00</td>\n      <td id=\"T_c7295_row6_col3\" class=\"data row6 col3\" >0.51</td>\n      <td id=\"T_c7295_row6_col4\" class=\"data row6 col4\" >0.27</td>\n      <td id=\"T_c7295_row6_col5\" class=\"data row6 col5\" >1.00</td>\n      <td id=\"T_c7295_row6_col6\" class=\"data row6 col6\" >1.00</td>\n    </tr>\n  </tbody>\n</table>\n",
      "application/papermill.record/text/plain": "<pandas.io.formats.style.Styler at 0x16869d3d0>"
     },
     "metadata": {
      "scrapbook": {
       "mime_prefix": "application/papermill.record/",
       "name": "data_correlation"
      }
     },
     "output_type": "display_data"
    },
    {
     "data": {
      "application/papermill.record/text/html": "<div>\n<style scoped>\n    .dataframe tbody tr th:only-of-type {\n        vertical-align: middle;\n    }\n\n    .dataframe tbody tr th {\n        vertical-align: top;\n    }\n\n    .dataframe thead th {\n        text-align: right;\n    }\n</style>\n<table border=\"1\" class=\"dataframe\">\n  <thead>\n    <tr style=\"text-align: right;\">\n      <th></th>\n      <th>TYPE</th>\n      <th>YEAR</th>\n      <th>MONTH</th>\n      <th>Observations</th>\n      <th>YEAR-MONTH</th>\n    </tr>\n  </thead>\n  <tbody>\n    <tr>\n      <th>0</th>\n      <td>Break and Enter Commercial</td>\n      <td>2003</td>\n      <td>1</td>\n      <td>303</td>\n      <td>2003-01-01</td>\n    </tr>\n    <tr>\n      <th>1</th>\n      <td>Break and Enter Commercial</td>\n      <td>2003</td>\n      <td>2</td>\n      <td>254</td>\n      <td>2003-02-01</td>\n    </tr>\n    <tr>\n      <th>2</th>\n      <td>Break and Enter Commercial</td>\n      <td>2003</td>\n      <td>3</td>\n      <td>292</td>\n      <td>2003-03-01</td>\n    </tr>\n    <tr>\n      <th>3</th>\n      <td>Break and Enter Commercial</td>\n      <td>2003</td>\n      <td>4</td>\n      <td>266</td>\n      <td>2003-04-01</td>\n    </tr>\n    <tr>\n      <th>4</th>\n      <td>Break and Enter Commercial</td>\n      <td>2003</td>\n      <td>5</td>\n      <td>290</td>\n      <td>2003-05-01</td>\n    </tr>\n  </tbody>\n</table>\n</div>",
      "application/papermill.record/text/plain": "                         TYPE  YEAR  MONTH  Observations  YEAR-MONTH\n0  Break and Enter Commercial  2003      1           303  2003-01-01\n1  Break and Enter Commercial  2003      2           254  2003-02-01\n2  Break and Enter Commercial  2003      3           292  2003-03-01\n3  Break and Enter Commercial  2003      4           266  2003-04-01\n4  Break and Enter Commercial  2003      5           290  2003-05-01"
     },
     "metadata": {
      "scrapbook": {
       "mime_prefix": "application/papermill.record/",
       "name": "preprocessed_head"
      }
     },
     "output_type": "display_data"
    },
    {
     "data": {
      "application/papermill.record/text/plain": "250"
     },
     "metadata": {
      "scrapbook": {
       "mime_prefix": "application/papermill.record/",
       "name": "theft_from_vehicle_rows"
      }
     },
     "output_type": "display_data"
    },
    {
     "data": {
      "application/papermill.record/text/html": "<div>\n<style scoped>\n    .dataframe tbody tr th:only-of-type {\n        vertical-align: middle;\n    }\n\n    .dataframe tbody tr th {\n        vertical-align: top;\n    }\n\n    .dataframe thead th {\n        text-align: right;\n    }\n</style>\n<table border=\"1\" class=\"dataframe\">\n  <thead>\n    <tr style=\"text-align: right;\">\n      <th></th>\n      <th>TYPE</th>\n      <th>YEAR</th>\n      <th>MONTH</th>\n      <th>Observations</th>\n      <th>YEAR-MONTH</th>\n    </tr>\n  </thead>\n  <tbody>\n    <tr>\n      <th>0</th>\n      <td>Theft from Vehicle</td>\n      <td>2003</td>\n      <td>1</td>\n      <td>1438</td>\n      <td>2003-01-01</td>\n    </tr>\n    <tr>\n      <th>1</th>\n      <td>Theft from Vehicle</td>\n      <td>2003</td>\n      <td>2</td>\n      <td>1102</td>\n      <td>2003-02-01</td>\n    </tr>\n    <tr>\n      <th>2</th>\n      <td>Theft from Vehicle</td>\n      <td>2003</td>\n      <td>3</td>\n      <td>1251</td>\n      <td>2003-03-01</td>\n    </tr>\n    <tr>\n      <th>3</th>\n      <td>Theft from Vehicle</td>\n      <td>2003</td>\n      <td>4</td>\n      <td>1528</td>\n      <td>2003-04-01</td>\n    </tr>\n    <tr>\n      <th>4</th>\n      <td>Theft from Vehicle</td>\n      <td>2003</td>\n      <td>5</td>\n      <td>1873</td>\n      <td>2003-05-01</td>\n    </tr>\n  </tbody>\n</table>\n</div>",
      "application/papermill.record/text/plain": "                 TYPE  YEAR  MONTH  Observations  YEAR-MONTH\n0  Theft from Vehicle  2003      1          1438  2003-01-01\n1  Theft from Vehicle  2003      2          1102  2003-02-01\n2  Theft from Vehicle  2003      3          1251  2003-03-01\n3  Theft from Vehicle  2003      4          1528  2003-04-01\n4  Theft from Vehicle  2003      5          1873  2003-05-01"
     },
     "metadata": {
      "scrapbook": {
       "mime_prefix": "application/papermill.record/",
       "name": "theft_from_vehicle_head"
      }
     },
     "output_type": "display_data"
    },
    {
     "data": {
      "application/papermill.record/text/html": "<div>\n<style scoped>\n    .dataframe tbody tr th:only-of-type {\n        vertical-align: middle;\n    }\n\n    .dataframe tbody tr th {\n        vertical-align: top;\n    }\n\n    .dataframe thead th {\n        text-align: right;\n    }\n</style>\n<table border=\"1\" class=\"dataframe\">\n  <thead>\n    <tr style=\"text-align: right;\">\n      <th></th>\n      <th>Observations</th>\n      <th>SMA_Forecast</th>\n      <th>ES_Forecast</th>\n      <th>ARIMA_Forecast</th>\n    </tr>\n  </thead>\n  <tbody>\n    <tr>\n      <th>2003-01-01</th>\n      <td>1438.0</td>\n      <td>nan</td>\n      <td>nan</td>\n      <td>nan</td>\n    </tr>\n    <tr>\n      <th>2003-02-01</th>\n      <td>1102.0</td>\n      <td>nan</td>\n      <td>nan</td>\n      <td>nan</td>\n    </tr>\n    <tr>\n      <th>2003-03-01</th>\n      <td>1251.0</td>\n      <td>nan</td>\n      <td>nan</td>\n      <td>nan</td>\n    </tr>\n    <tr>\n      <th>2003-04-01</th>\n      <td>1528.0</td>\n      <td>nan</td>\n      <td>nan</td>\n      <td>nan</td>\n    </tr>\n    <tr>\n      <th>2003-05-01</th>\n      <td>1873.0</td>\n      <td>nan</td>\n      <td>nan</td>\n      <td>nan</td>\n    </tr>\n    <tr>\n      <th>2003-06-01</th>\n      <td>1695.0</td>\n      <td>nan</td>\n      <td>nan</td>\n      <td>nan</td>\n    </tr>\n    <tr>\n      <th>2003-07-01</th>\n      <td>1445.0</td>\n      <td>nan</td>\n      <td>nan</td>\n      <td>nan</td>\n    </tr>\n    <tr>\n      <th>2003-08-01</th>\n      <td>1634.0</td>\n      <td>nan</td>\n      <td>nan</td>\n      <td>nan</td>\n    </tr>\n    <tr>\n      <th>2003-09-01</th>\n      <td>1470.0</td>\n      <td>nan</td>\n      <td>nan</td>\n      <td>nan</td>\n    </tr>\n    <tr>\n      <th>2003-10-01</th>\n      <td>1554.0</td>\n      <td>nan</td>\n      <td>nan</td>\n      <td>nan</td>\n    </tr>\n    <tr>\n      <th>2003-11-01</th>\n      <td>1332.0</td>\n      <td>nan</td>\n      <td>nan</td>\n      <td>nan</td>\n    </tr>\n    <tr>\n      <th>2003-12-01</th>\n      <td>1422.0</td>\n      <td>nan</td>\n      <td>nan</td>\n      <td>nan</td>\n    </tr>\n    <tr>\n      <th>2004-01-01</th>\n      <td>1319.0</td>\n      <td>1478.67</td>\n      <td>1462.02</td>\n      <td>1338.04</td>\n    </tr>\n    <tr>\n      <th>2004-02-01</th>\n      <td>1276.0</td>\n      <td>1468.75</td>\n      <td>1414.46</td>\n      <td>1276.89</td>\n    </tr>\n    <tr>\n      <th>2004-03-01</th>\n      <td>1523.0</td>\n      <td>1483.25</td>\n      <td>1374.99</td>\n      <td>1489.31</td>\n    </tr>\n  </tbody>\n</table>\n</div>",
      "application/papermill.record/text/plain": "           Observations SMA_Forecast ES_Forecast ARIMA_Forecast\n2003-01-01       1438.0          nan         nan            nan\n2003-02-01       1102.0          nan         nan            nan\n2003-03-01       1251.0          nan         nan            nan\n2003-04-01       1528.0          nan         nan            nan\n2003-05-01       1873.0          nan         nan            nan\n2003-06-01       1695.0          nan         nan            nan\n2003-07-01       1445.0          nan         nan            nan\n2003-08-01       1634.0          nan         nan            nan\n2003-09-01       1470.0          nan         nan            nan\n2003-10-01       1554.0          nan         nan            nan\n2003-11-01       1332.0          nan         nan            nan\n2003-12-01       1422.0          nan         nan            nan\n2004-01-01       1319.0      1478.67     1462.02        1338.04\n2004-02-01       1276.0      1468.75     1414.46        1276.89\n2004-03-01       1523.0      1483.25     1374.99        1489.31"
     },
     "metadata": {
      "scrapbook": {
       "mime_prefix": "application/papermill.record/",
       "name": "all_predictions_head"
      }
     },
     "output_type": "display_data"
    },
    {
     "data": {
      "application/papermill.record/text/html": "<div>\n<style scoped>\n    .dataframe tbody tr th:only-of-type {\n        vertical-align: middle;\n    }\n\n    .dataframe tbody tr th {\n        vertical-align: top;\n    }\n\n    .dataframe thead th {\n        text-align: right;\n    }\n</style>\n<table border=\"1\" class=\"dataframe\">\n  <thead>\n    <tr style=\"text-align: right;\">\n      <th></th>\n      <th>Observations</th>\n      <th>SMA_Forecast</th>\n      <th>ES_Forecast</th>\n      <th>ARIMA_Forecast</th>\n    </tr>\n  </thead>\n  <tbody>\n    <tr>\n      <th>2023-07-01</th>\n      <td>684.0</td>\n      <td>594.08</td>\n      <td>603.75</td>\n      <td>665.15</td>\n    </tr>\n    <tr>\n      <th>2023-08-01</th>\n      <td>749.0</td>\n      <td>603.25</td>\n      <td>628.48</td>\n      <td>717.03</td>\n    </tr>\n    <tr>\n      <th>2023-09-01</th>\n      <td>651.0</td>\n      <td>613.92</td>\n      <td>665.45</td>\n      <td>701.82</td>\n    </tr>\n    <tr>\n      <th>2023-10-01</th>\n      <td>656.0</td>\n      <td>611.5</td>\n      <td>660.77</td>\n      <td>652.82</td>\n    </tr>\n    <tr>\n      <th>2023-11-01</th>\n      <td>nan</td>\n      <td>611.58</td>\n      <td>657.15</td>\n      <td>652.85</td>\n    </tr>\n  </tbody>\n</table>\n</div>",
      "application/papermill.record/text/plain": "           Observations SMA_Forecast ES_Forecast ARIMA_Forecast\n2023-07-01        684.0       594.08      603.75         665.15\n2023-08-01        749.0       603.25      628.48         717.03\n2023-09-01        651.0       613.92      665.45         701.82\n2023-10-01        656.0        611.5      660.77         652.82\n2023-11-01          nan       611.58      657.15         652.85"
     },
     "metadata": {
      "scrapbook": {
       "mime_prefix": "application/papermill.record/",
       "name": "all_predictions_tail"
      }
     },
     "output_type": "display_data"
    },
    {
     "data": {
      "application/papermill.record/text/html": "<div>\n<style scoped>\n    .dataframe tbody tr th:only-of-type {\n        vertical-align: middle;\n    }\n\n    .dataframe tbody tr th {\n        vertical-align: top;\n    }\n\n    .dataframe thead th {\n        text-align: right;\n    }\n</style>\n<table border=\"1\" class=\"dataframe\">\n  <thead>\n    <tr style=\"text-align: right;\">\n      <th></th>\n      <th>Forecast_Column</th>\n      <th>MAE</th>\n      <th>MSE</th>\n    </tr>\n  </thead>\n  <tbody>\n    <tr>\n      <th>0</th>\n      <td>SMA_Forecast</td>\n      <td>121.22</td>\n      <td>27239.95</td>\n    </tr>\n    <tr>\n      <th>1</th>\n      <td>ES_Forecast</td>\n      <td>98.64</td>\n      <td>16240.44</td>\n    </tr>\n    <tr>\n      <th>2</th>\n      <td>ARIMA_Forecast</td>\n      <td>26.86</td>\n      <td>1940.87</td>\n    </tr>\n  </tbody>\n</table>\n</div>",
      "application/papermill.record/text/plain": "  Forecast_Column     MAE       MSE\n0    SMA_Forecast  121.22  27239.95\n1     ES_Forecast   98.64  16240.44\n2  ARIMA_Forecast   26.86   1940.87"
     },
     "metadata": {
      "scrapbook": {
       "mime_prefix": "application/papermill.record/",
       "name": "observations"
      }
     },
     "output_type": "display_data"
    },
    {
     "data": {
      "application/papermill.record/text/plain": "'26.86'"
     },
     "metadata": {
      "scrapbook": {
       "mime_prefix": "application/papermill.record/",
       "name": "arima_mae"
      }
     },
     "output_type": "display_data"
    }
   ],
   "source": [
    "data = pd.read_csv(\"../data/raw/crimedata_csv_AllNeighbourhoods_AllYears.csv\", encoding=\"utf-8\").round(2).fillna('nan').astype(\"string\")\n",
    "\n",
    "#format the preview of dataset\n",
    "data_head = data.head()\n",
    "                                     \n",
    "glue(\"data_head\", data_head.T, display=False)\n",
    "glue(\"data_no_cols\", data.shape[1], display=False)\n",
    "glue(\"data_no_rows\", data.shape[0], display=False)\n",
    "glue(\"no_year_unique\", max(data[\"YEAR\"].astype(\"float\")) - min(data[\"YEAR\"].astype(\"float\")), display=False)\n",
    "\n",
    "data_description = pd.read_csv(\"../results/tables/description.csv\", encoding=\"utf-8\", index_col=0).round(2).astype(\"string\")\n",
    "glue(\"data_description\", data_description.T, display=False)\n",
    "\n",
    "missing_data = pd.read_csv(\"../results/tables/missing_values.csv\", encoding=\"utf-8\").round(2).astype(\"string\")\n",
    "glue(\"missing_values\", missing_data, display=False)\n",
    "\n",
    "correlation = pd.read_csv(\"../results/tables/correlation.csv\", encoding=\"utf-8\", index_col=0)\n",
    "glue(\"data_correlation\", correlation.style.background_gradient(), display=False)\n",
    "\n",
    "preprocessed_head = pd.read_csv(\"../data/processed/preprocessed_data_head.csv\", encoding=\"utf-8\").round(2)\n",
    "glue(\"preprocessed_head\", preprocessed_head, display=False)\n",
    "\n",
    "theft_from_vehicle_full = pd.read_csv(\"../data/processed/preprocessed_theft_from_vehicle_full.csv\", encoding=\"utf-8\")\n",
    "glue(\"theft_from_vehicle_rows\", theft_from_vehicle_full.shape[0], display=False)\n",
    "\n",
    "theft_from_vehicle_head = pd.read_csv(\"../data/processed/preprocessed_theft_from_vehicle_head.csv\", encoding=\"utf-8\")\n",
    "glue(\"theft_from_vehicle_head\", theft_from_vehicle_head, display=False)\n",
    "\n",
    "all_predictions = pd.read_csv(\"../results/tables/all_predictions.csv\", encoding=\"utf-8\", index_col=0).round(2).fillna('nan').astype(\"string\")\n",
    "glue(\"all_predictions_head\", all_predictions.head(15), display=False)\n",
    "glue(\"all_predictions_tail\", all_predictions.tail(5), display=False)\n",
    "\n",
    "observations = pd.read_csv(\"../results/tables/observations.csv\", encoding=\"utf-8\", index_col=0).round(2).astype(\"string\")\n",
    "glue(\"observations\", observations, display=False)\n",
    "glue(\"arima_mae\", observations.query(\"Forecast_Column == 'ARIMA_Forecast'\")[\"MAE\"].squeeze(), display=False)\n"
   ]
  },
  {
   "cell_type": "markdown",
   "id": "30a99e74-48a4-4b1d-975c-c5e71aa56f68",
   "metadata": {},
   "source": [
    "## Summary\n",
    "\n",
    "In this notebook, our focus revolved around constructing a time-series forecasting model tailored to predict crime incidents in Vancouver, using \"Month\" as the temporal unit. Our primary emphasis centered on one of the most prevalent crime types in Vancouver over the past two decades: theft from vehicles. We evaluated the efficacy of three fundamental forecasting models—simple moving average, exponential smoothing, and ARIMA(1,1,0). Notably, the ARIMA(1,1,0) model emerged as the most effective, yielding a Mean Absolute Error (MAE) of {glue:text}`arima_mae`. Considering that the occurrences of \"theft from a vehicle\" crimes per month often range in the hundreds to thousands, achieving a forecast performance of this caliber is notably commendable. It's worth highlighting that further refinement through comprehensive parameter tuning and integration of additional external variables holds the potential to cultivate even more accurate forecasting models.\n",
    "\n",
    "Moreover, the ARIMA(1,1,0) model's performance suggests promising potential for practical deployment in crime prevention strategies by law enforcement agencies. However, it's important to acknowledge the limitations inherent in solely relying on historical crime data; external socio-economic factors, seasonal fluctuations, and policy changes might significantly impact future crime trends, necessitating continual model adaptation and refinement for robust predictive accuracy."
   ]
  },
  {
   "cell_type": "markdown",
   "id": "9ba2394c-91d1-41c3-9e34-ca7690cc7534",
   "metadata": {},
   "source": [
    "## Introduction\n",
    "\n",
    "Vehicle-related theft remains an ongoing concern nationwide in Canada, with statistics revealing a staggering incident of vehicle theft occurring every six minutes across the country {cite}`CTVnews`. This pervasive issue extends into Vancouver, presenting formidable challenges to both community safety and law enforcement efforts. Theft from vehicles, a prevalent form of this crime, significantly affects neighborhoods, inflicting distress and substantial financial losses on local residents. In response to this pressing concern, this project is dedicated to forecasting occurrences of theft from vehicles specifically within Vancouver.\n",
    "\n",
    "The primary objective of this project is to forecast instances of theft from vehicles in Vancouver by analyzing historical data. Leveraging a comprehensive dataset sourced from the Vancouver Police Department, encompassing diverse crime records in Vancouver over the past {glue:text}`no_year_unique` years alongside incident locations, our goal is to construct a reliable predictive model. This model aims to anticipate the frequency and patterns specific to theft from vehicles. An accurate forecast holds the potential to empower the City of Vancouver to proactively allocate law enforcement resources, thereby curbing the occurrence of such crimes and enhancing community safety."
   ]
  },
  {
   "cell_type": "markdown",
   "id": "55ac292b-34d3-4455-adef-9827f87e3b27",
   "metadata": {},
   "source": [
    "## Methods\n",
    "\n",
    "### Data\n",
    "\n",
    "The dataset utilized for this project originates from the Vancouver Police Department, available through the following link: https://geodash.vpd.ca/opendata/ {cite}`crimedata2023`. It comprises {glue:text}`data_no_cols` columns/variables and encompasses a substantial volume of data, totaling {glue:text}`data_no_rows` rows. Each row corresponds to a distinct crime incident recorded within the dataset. The available information includes details about the crime type, the corresponding date of occurrence, and the specific location or neighborhood where the crime took place. These data points serve as crucial elements for our analysis and forecasting efforts.\n",
    "\n",
    "### Analysis\n",
    "\n",
    "We're deploying three distinct time-series forecasting models—Simple Moving Average (SMA), Exponential Smoothing (ES), and Autoregressive Integrated Moving Average (ARIMA). These models rely solely on the timestamp and the targeted forecasted value. Despite having location data, which holds potential value, we've deferred its utilization in this phase of the project. Employing a rolling window approach, we'll predict and assess model performance across a {glue:text}`no_year_unique`-year duration, setting the window size to 12 months. This configuration ensures that forecasts leverage the preceding year's data for accuracy. Specifically for ARIMA, the hyperparameters (p, d, q) are set at (1, 1, 0). This specification signifies that the model factors in the most recent lagged observations of the differenced series to predict the subsequent value. Our analysis was executed using Python, leveraging various libraries: numpy {cite}`harris2020`, Pandas {cite}`mckinney2010`, Altair {cite}`vanderplas2018`, scikit-learn {cite}`pedregosa`, Matplotlib {cite}`hunter2007`, Seaborn {cite}`seaborn`, and Statsmodels {cite}`seabold2010`."
   ]
  },
  {
   "cell_type": "markdown",
   "id": "41d505cb-54b3-4627-9ea6-c37fa0be785c",
   "metadata": {},
   "source": [
    "## Results & Discussions\n",
    "\n",
    "First, we'll take a brief look into the dataset that we have at hand. We can take a sneak peak into our dataset ({numref}`Figure {number} <data_head>`) and identify the variables and datatypes that we are dealing with. A summary statistics ({numref}`Figure {number} <data_description>`) is displayed below and we can see that we also have some missing values ({numref}`Figure {number} <missing_values>`) in our dataset. "
   ]
  },
  {
   "cell_type": "markdown",
   "id": "36259402",
   "metadata": {},
   "source": [
    "### Data Preview and Summary"
   ]
  },
  {
   "cell_type": "markdown",
   "id": "e9630679",
   "metadata": {},
   "source": [
    "```{glue:figure} data_head\n",
    ":name: \"data_head\"\n",
    "\n",
    "A preview of the dataset.\n",
    "```"
   ]
  },
  {
   "cell_type": "markdown",
   "id": "65cd3a81",
   "metadata": {},
   "source": [
    "```{glue:figure} data_description\n",
    ":name: \"data_description\"\n",
    "\n",
    "The summary statistics of the dataset.\n",
    "```"
   ]
  },
  {
   "cell_type": "markdown",
   "id": "f5c906ed-24c8-4558-9a37-84f6d4c7f8b7",
   "metadata": {},
   "source": [
    "### Missing values\n",
    "\n",
    "From the missing value table below ({numref}`Figure {number} <missing_values>`), we can see that we have missing values in four variables: `NEIGHBORHOOD`, `X`, `Y` and `HUNDRED_BLOCK`. Considering the immense size of our dataset, these missing values only take up a small proprotion. In a future analysis, when we want to incorporate geographical information into our model, we could potentially impute these missing values (or just drop them). However, since we are applying a pure time-series model that depend only on lagged values at this stage of the project, the missing values will not affect our forecasting models. We can ignore them for now."
   ]
  },
  {
   "cell_type": "markdown",
   "id": "52cda855",
   "metadata": {},
   "source": [
    "```{glue:figure} missing_values\n",
    ":name: \"missing_values\"\n",
    "\n",
    "Missing value in the dataset.\n",
    "```"
   ]
  },
  {
   "cell_type": "markdown",
   "id": "94c0b04c-7bb5-4442-861e-3f47ad5b5521",
   "metadata": {},
   "source": [
    "### Distribution\n",
    "\n",
    "Upon conducting exploratory data analysis (EDA), conspicuous anomalies surface in the dataset. The `HOUR` and `MINUTE` columns exhibit an unusual frequency of zero values, along with a disproportionate occurrence of '30' in the `MINUTE` column. Additionally, the `DAY` column prominently features an excessive number of records logged on the 31st of the month ({numref}`Figure {number} <numeric_dist>`). These irregularities likely stem from convenience in data recording, casting uncertainty on the accuracy of these three columns. In light of these inconsistencies, the most prudent approach is to exclude the `DAY`, `HOUR`, and `MINUTE` columns from analysis and focus solely on forecasting crime occurrences based on the `MONTH` variable. Moreover, from the two bar graphs displaying the distribution of `TYPE` and `NEIGHBORHOOD` ({numref}`Figure {number} <categ_dist>`), we get a good idea of the types of crime happening in Vancouver as well as the location in which they're concentrated in. "
   ]
  },
  {
   "cell_type": "markdown",
   "id": "94b2a741",
   "metadata": {},
   "source": [
    "```{figure} ../results/figures/numeric_dist.png\n",
    "---\n",
    "width: 800px\n",
    "name: numeric_dist\n",
    "---\n",
    "The distribution of numerical variables.\n",
    "```"
   ]
  },
  {
   "cell_type": "markdown",
   "id": "5f20b24f",
   "metadata": {},
   "source": [
    "```{figure} ../results/figures/categ_dist.png\n",
    "---\n",
    "width: 600px\n",
    "name: categ_dist\n",
    "---\n",
    "The distribution of categorical variables.\n",
    "```"
   ]
  },
  {
   "cell_type": "markdown",
   "id": "de18aa19-6b35-4274-b2d8-e0b04b5cbc72",
   "metadata": {},
   "source": [
    "### Correlation"
   ]
  },
  {
   "cell_type": "markdown",
   "id": "d29ad27a",
   "metadata": {},
   "source": [
    "```{glue:figure} data_correlation\n",
    ":name: \"data_correlation\"\n",
    "\n",
    "Correlation of numerical variables.\n",
    "```"
   ]
  },
  {
   "cell_type": "markdown",
   "id": "2c163e01-c110-40a1-81b8-54b147316bf1",
   "metadata": {},
   "source": [
    "### Preprocessing\n",
    "\n",
    "We'll start the data preprocessing phase by grouping the rows according to the `TYPE`, `YEAR`, and `MONTH` columns to aggregate the counts of specific crimes occurring in each month. Additionally, we'll adjust the datetime variable format for consistency. However, as the latest month (November 2023) is incomplete, we'll exclude this month from the dataset ({numref}`Figure {number} <preprocessed_head>`). Finally, we'll filter the data so that we focus only on `Theft from Vehicle` crimes, the most common crime in Vancouver in the past {glue:text}`no_year_unique` years ({numref}`Figure {number} <theft_from_vehicle_head>`). This initial processing sets the groundwork for our subsequent time-series forecasting models."
   ]
  },
  {
   "cell_type": "markdown",
   "id": "3447ae79",
   "metadata": {},
   "source": [
    "```{glue:figure} preprocessed_head\n",
    ":name: \"preprocessed_head\"\n",
    "A preview of the preprocessed data.\n",
    "```"
   ]
  },
  {
   "cell_type": "markdown",
   "id": "cc8cf24c",
   "metadata": {},
   "source": [
    "```{glue:figure} theft_from_vehicle_head\n",
    ":name: \"theft_from_vehicle_head\"\n",
    "\n",
    "Filtered data of theft from vehicle crimes.\n",
    "```"
   ]
  },
  {
   "cell_type": "markdown",
   "id": "ac4d1c8a",
   "metadata": {},
   "source": [
    "Looking into our preprocessed and filtered data, we see that we have {glue:text}`theft_from_vehicle_rows` months of data. We can also see that the trend for the counts of `Theft from Vehicle` crimes actually fluctuated quite a lot over the years ({numref}`Figure {number} <original_plot>`)."
   ]
  },
  {
   "cell_type": "markdown",
   "id": "d1a435a3",
   "metadata": {},
   "source": [
    "```{figure} ../results/figures/original_plot.png\n",
    "---\n",
    "width: 600px\n",
    "name: original_plot\n",
    "---\n",
    "The time-series trend of theft from vehicle crimes in Vancouver.\n",
    "```"
   ]
  },
  {
   "cell_type": "markdown",
   "id": "5cab059f-ba58-4dbc-ba16-0004ef9eda02",
   "metadata": {},
   "source": [
    "### Simple Moving Average & Exponential Smoothing\n",
    "\n",
    "As mentioned in the beginning, we will be applying three time-series model (Simple Moving Average, Exponential Smoothing and ARIMA(1,1,0)) with a rolling-window of 12 months to forecast the count of `Theft from Vehicle` crimes in a monthly basis. We do not have a forecasted value for the first 12 time units due to the size of the rolling window ({numref}`Figure {number} <all_predictions_head>`), but we will be forecasting one time unit into the future ({numref}`Figure {number} <all_predictions_tail>`)."
   ]
  },
  {
   "cell_type": "markdown",
   "id": "ea9bc040",
   "metadata": {},
   "source": [
    "```{glue:figure} all_predictions_head\n",
    ":name: \"all_predictions_head\"\n",
    "\n",
    "A preview (head) of the predicted values.\n",
    "```"
   ]
  },
  {
   "cell_type": "markdown",
   "id": "6bbc3c79",
   "metadata": {},
   "source": [
    "```{glue:figure} all_predictions_tail\n",
    ":name: \"all_predictions_tail\"\n",
    "\n",
    "A preview (tail) of the predicted values.\n",
    "```"
   ]
  },
  {
   "cell_type": "markdown",
   "id": "a8f971d9",
   "metadata": {},
   "source": [
    "Based on a visual assessment of the Simple Moving Average (SMA) ({numref}`Figure {number} <sma_prediction_plot>`) and Exponential Smoothing (ES) ({numref}`Figure {number} <es_prediction_plot>`) forecasts, it's evident that both methods broadly capture the general trend of the actual values. However, neither forecast method appears to be highly accurate. The Exponential Smoothing approach demonstrates a slightly improved performance compared to SMA."
   ]
  },
  {
   "cell_type": "markdown",
   "id": "4943959d",
   "metadata": {},
   "source": [
    "```{figure} ../results/figures/sma_prediction_plot.png\n",
    "---\n",
    "width: 600px\n",
    "name: sma_prediction_plot\n",
    "---\n",
    "SMA predictions to actual values.\n",
    "```"
   ]
  },
  {
   "cell_type": "markdown",
   "id": "fd393337",
   "metadata": {},
   "source": [
    "```{figure} ../results/figures/es_prediction_plot.png\n",
    "---\n",
    "width: 600px\n",
    "name: es_prediction_plot\n",
    "---\n",
    "ES predictions to actual values.\n",
    "```"
   ]
  },
  {
   "cell_type": "markdown",
   "id": "f8baf9ab-0ef9-43cb-95c7-1e0a779c9e97",
   "metadata": {},
   "source": [
    "### ARIMA(1,1,0)"
   ]
  },
  {
   "cell_type": "markdown",
   "id": "587d9aef",
   "metadata": {},
   "source": [
    "Before fitting ARIMA, we first have to check the assumption of stationarity. In the autocorrelation plot of our data ({numref}`Figure {number} <autocorrelation_plot>`), the assumption is not met, so we have to applying differencing to make the data stationary. After applying 1st order differencing, the assumption appears to be largely met ({numref}`Figure {number} <autocorrelation_with_diff_plot>`)."
   ]
  },
  {
   "cell_type": "markdown",
   "id": "968d05b1",
   "metadata": {},
   "source": [
    "```{figure} ../results/figures/autocorrelation_plot.png\n",
    "---\n",
    "width: 600px\n",
    "name: autocorrelation_plot\n",
    "---\n",
    "Autocorrelation plot for the observations.\n",
    "```"
   ]
  },
  {
   "cell_type": "markdown",
   "id": "6e486a29",
   "metadata": {},
   "source": [
    "```{figure} ../results/figures/autocorrelation_with_diff_plot.png\n",
    "---\n",
    "width: 600px\n",
    "name: autocorrelation_with_diff_plot\n",
    "---\n",
    "Autocorrelation plot with 1st order differencing for the observations.\n",
    "```"
   ]
  },
  {
   "cell_type": "markdown",
   "id": "f62f38f0",
   "metadata": {},
   "source": [
    "The forecast from the ARIMA model looks much better ({numref}`Figure {number} <arima_prediction_plot>`)! We can see some clear overlaps between the forecasted value and the original value."
   ]
  },
  {
   "cell_type": "markdown",
   "id": "f0fa8815",
   "metadata": {},
   "source": [
    "```{figure} ../results/figures/arima_prediction_plot.png\n",
    "---\n",
    "width: 600px\n",
    "name: arima_prediction_plot\n",
    "---\n",
    "ARIMA predictions to actual values.\n",
    "```"
   ]
  },
  {
   "cell_type": "markdown",
   "id": "91b8bb30",
   "metadata": {},
   "source": [
    "Finally, we'll compare the performances of the three models in terms of mean absolute error (MAE) and mean squared error (MSE). Notably, there's a discernible pattern showcasing a marked enhancement in performance, progressing from Simple Moving Average (SMA) to Exponential Smoothing Approach (ESA) and ultimately to ARIMA. The final MAE achieved by the ARIMA model is {glue:text}`arima_mae`. Given that crime incidents per month often range in the hundreds to thousands, an MAE of {glue:text}`arima_mae` could be considered within an acceptable range, especially considering the complexities inherent in forecasting crime data. This consistent trend aligns with the observations gleaned from the visualizations crafted earlier, affirming the gradual improvement in forecasting accuracy across the models."
   ]
  },
  {
   "cell_type": "markdown",
   "id": "323422ed-dd58-4914-80e8-d2dfd5994e6c",
   "metadata": {},
   "source": [
    "```{glue:figure} observations\n",
    ":name: \"observations\"\n",
    "\n",
    "The observed error terms from different forecasting methods.\n",
    "```"
   ]
  },
  {
   "cell_type": "markdown",
   "id": "cf91be82-91b3-40dc-9167-94327c2657df",
   "metadata": {},
   "source": [
    "## Conclusion\n",
    "\n",
    "In this notebook, we created an accurate forecasting model that forecasts (in the next Month) the number of theft from vehicle crimes in Vancouver. Our accurate forecast holds the potential to enable the City of Vancouver to preemptively utilize law enforcement resources in preparation for any upcoming surge in crimes. This early warning system will be crucial in ensuring the safety of the people of Vancouver.\n",
    "\n",
    "Our analysis of three distinct forecasting models sheds light on the nature of predicting theft from vehicle crimes in Vancouver. Interestingly, our ARIMA model, relying solely on the most recent lagged differenced observation, outperformed both the Simple Moving Average (SMA) and Exponential Smoothing (ES) models, which incorporate information from all lagged observations over the past 12 months. This suggests that historical values from further back in time might not contribute significantly to the predictive accuracy of theft from vehicle crime forecasts. The superiority of the ARIMA model, despite its simplicity, underscores the importance of prioritizing recent data for more accurate and effective crime forecasting.\n",
    "\n",
    "While the ARIMA model stands out as the most effective among the three forecasting models—simple moving average and exponential smoothing—it's crucial to acknowledge the room for enhancement in our predictive capabilities. Future advancements could entail fine-tuning the ARIMA hyperparameters or exploring alternative models to ascertain if further accuracy gains are attainable. Additionally, integrating exogenous variables, such as socioeconomic indicators or weather data, might augment the predictive power of our models, offering a more comprehensive understanding of crime dynamics. Furthermore, this analysis prompts future inquiries, including investigating the influence of specific external factors on crime occurrences or exploring spatial-temporal models to predict crime hotspots within Vancouver. These prospective avenues aim to refine our forecasting precision and deepen our insights into crime trends, paving the way for more informed law enforcement strategies and proactive crime prevention measures."
   ]
  },
  {
   "cell_type": "markdown",
   "id": "ee2e9682-814f-4f79-8fca-d7473410402a",
   "metadata": {},
   "source": [
    "## References"
   ]
  },
  {
   "cell_type": "markdown",
   "id": "5f7c1965",
   "metadata": {},
   "source": [
    "```{bibliography}\n",
    "```"
   ]
  }
 ],
 "metadata": {
  "kernelspec": {
   "display_name": "Python 3 (ipykernel)",
   "language": "python",
   "name": "python3"
  },
  "language_info": {
   "codemirror_mode": {
    "name": "ipython",
    "version": 3
   },
   "file_extension": ".py",
   "mimetype": "text/x-python",
   "name": "python",
   "nbconvert_exporter": "python",
   "pygments_lexer": "ipython3",
   "version": "3.11.6"
  }
 },
 "nbformat": 4,
 "nbformat_minor": 5
}
