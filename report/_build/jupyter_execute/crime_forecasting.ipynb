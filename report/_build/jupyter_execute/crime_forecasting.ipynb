{
 "cells": [
  {
   "cell_type": "markdown",
   "id": "50864542-41e7-487c-8907-3b901ed6cdb1",
   "metadata": {},
   "source": [
    "## Envrionment Setup"
   ]
  },
  {
   "cell_type": "markdown",
   "id": "3bc3a860-3f5f-4869-bfd0-0115385e42e4",
   "metadata": {},
   "source": [
    "- Run `conda env create --name avalon --file=environment.yaml`\n",
    "- Then switch to the environment by clicking the `avalon` item of the drop-down in the top right corner of Jupyter Notebook."
   ]
  },
  {
   "cell_type": "markdown",
   "id": "69293354-1852-4df2-938e-1b7b83c87399",
   "metadata": {},
   "source": [
    "# Crime Forecast in Vancouver"
   ]
  },
  {
   "cell_type": "markdown",
   "id": "66b3dbf0-2158-4bc2-a0dd-b2685d8dfc48",
   "metadata": {},
   "source": [
    "by Ben Chen, Mo Norouzi, Orix Au Yeung, Yiwei Zhang"
   ]
  },
  {
   "cell_type": "code",
   "execution_count": 1,
   "id": "0bc1fadf-357e-4aac-8345-1c5322d2bdab",
   "metadata": {
    "tags": [
     "remove-input"
    ]
   },
   "outputs": [],
   "source": [
    "import altair as alt\n",
    "import matplotlib.pyplot as plt\n",
    "import numpy as np\n",
    "import pandas as pd\n",
    "import seaborn as sns\n",
    "from pandas.plotting import autocorrelation_plot\n",
    "from statsmodels.tsa.arima.model import ARIMA\n",
    "from sklearn.metrics import mean_absolute_error, mean_squared_error\n",
    "import warnings\n",
    "import sys\n",
    "from myst_nb import glue\n",
    "warnings.filterwarnings(\"ignore\")\n",
    "sys.path.append('../src') \n",
    "\n",
    "from get_metrics_from_df import get_metrics_from_df\n",
    "from missing_value import missing_zero_values_table\n",
    "from numeric_cols import create_numeric_cols_chart\n",
    "from merge_forecast_values import merge_forecast_values\n",
    "from arima_forecasting import arima_prediction\n",
    "from correlation import get_redundant_pairs, get_top_abs_correlations"
   ]
  },
  {
   "cell_type": "markdown",
   "id": "30a99e74-48a4-4b1d-975c-c5e71aa56f68",
   "metadata": {},
   "source": [
    "# Summary\n",
    "\n",
    "In this notebook, our focus revolved around constructing a time-series forecasting model tailored to predict crime incidents in Vancouver, using \"Month\" as the temporal unit. Our primary emphasis centered on one of the most prevalent crime types in Vancouver over the past two decades: theft from vehicles. We evaluated the efficacy of three fundamental forecasting models—simple moving average, exponential smoothing, and ARIMA(1,1,0). Notably, the ARIMA(1,1,0) model emerged as the most effective, yielding a Mean Absolute Error (MAE) of 26.856890. Considering that the occurrences of \"theft from a vehicle\" crimes per month often range in the hundreds to thousands, achieving a forecast performance of this caliber is notably commendable. It's worth highlighting that further refinement through comprehensive parameter tuning and integration of additional external variables holds the potential to cultivate even more accurate forecasting models."
   ]
  },
  {
   "cell_type": "markdown",
   "id": "9ba2394c-91d1-41c3-9e34-ca7690cc7534",
   "metadata": {},
   "source": [
    "# Introduction\n",
    "\n",
    "Vehicle-related theft remains an ongoing concern nationwide in Canada, with statistics revealing a staggering incident of vehicle theft occurring every six minutes across the country {cite}`CTVnews`. This pervasive issue extends into Vancouver, presenting formidable challenges to both community safety and law enforcement efforts. Theft from vehicles, a prevalent form of this crime, significantly affects neighborhoods, inflicting distress and substantial financial losses on local residents. In response to this pressing concern, this project is dedicated to forecasting occurrences of theft from vehicles specifically within Vancouver.\n",
    "\n",
    "The primary objective of this project is to forecast instances of theft from vehicles in Vancouver by analyzing historical data. Leveraging a comprehensive dataset sourced from the Vancouver Police Department, encompassing diverse crime records in Vancouver over the past 20 years alongside incident locations, our goal is to construct a reliable predictive model. This model aims to anticipate the frequency and patterns specific to theft from vehicles. An accurate forecast holds the potential to empower the City of Vancouver to proactively allocate law enforcement resources, thereby curbing the occurrence of such crimes and enhancing community safety."
   ]
  },
  {
   "cell_type": "markdown",
   "id": "55ac292b-34d3-4455-adef-9827f87e3b27",
   "metadata": {},
   "source": [
    "# Methods\n",
    "\n",
    "## Data\n",
    "\n",
    "The dataset utilized for this project originates from the Vancouver Police Department, available through the following link: https://geodash.vpd.ca/opendata/ {cite}`crimedata2023`. It comprises 10 columns/variables and encompasses a substantial volume of data, totaling 879,861 rows. Each row corresponds to a distinct crime incident recorded within the dataset. The available information includes details about the crime type, the corresponding date of occurrence, and the specific location or neighborhood where the crime took place. These data points serve as crucial elements for our analysis and forecasting efforts.\n",
    "\n",
    "## Analysis\n",
    "\n",
    "We're deploying three distinct time-series forecasting models—Simple Moving Average (SMA), Exponential Smoothing (ES), and Autoregressive Integrated Moving Average (ARIMA). These models rely solely on the timestamp and the targeted forecasted value. Despite having location data, which holds potential value, we've deferred its utilization in this phase of the project. Employing a rolling window approach, we'll predict and assess model performance across a 20-year duration, setting the window size to 12 months. This configuration ensures that forecasts leverage the preceding year's data for accuracy. Specifically for ARIMA, the hyperparameters (p, d, q) are set at (1, 1, 0). This specification signifies that the model factors in the most recent lagged observations of the differenced series to predict the subsequent value. Our analysis was executed using Python, leveraging various libraries: numpy {cite}`harris2020`, Pandas {cite}`mckinney2010`, Altair {cite}`vanderplas2018`, scikit-learn {cite}`pedregosa`, Matplotlib {cite}`hunter2007`, Seaborn {cite}`seaborn`, and Statsmodels {cite}`seabold2010`."
   ]
  },
  {
   "cell_type": "markdown",
   "id": "41d505cb-54b3-4627-9ea6-c37fa0be785c",
   "metadata": {},
   "source": [
    "# Results & Discussions\n",
    "\n",
    "Upon conducting exploratory data analysis (EDA), conspicuous anomalies surface in the dataset. The HOUR and MINUTE columns exhibit an unusual frequency of zero values, along with a disproportionate occurrence of '30' in the MINUTE column. Additionally, the DAY column prominently features an excessive number of records logged on the 31st of the month. These irregularities likely stem from convenience in data recording, casting uncertainty on the accuracy of these three columns. In light of these inconsistencies, the most prudent approach is to exclude the DAY, HOUR, and MINUTE columns from analysis and focus solely on forecasting crime occurrences based on the MONTH variable."
   ]
  },
  {
   "cell_type": "code",
   "execution_count": 2,
   "id": "cb951ea4",
   "metadata": {
    "tags": [
     "output_scroll",
     "remove-input"
    ]
   },
   "outputs": [
    {
     "data": {
      "text/html": [
       "<div>\n",
       "<style scoped>\n",
       "    .dataframe tbody tr th:only-of-type {\n",
       "        vertical-align: middle;\n",
       "    }\n",
       "\n",
       "    .dataframe tbody tr th {\n",
       "        vertical-align: top;\n",
       "    }\n",
       "\n",
       "    .dataframe thead th {\n",
       "        text-align: right;\n",
       "    }\n",
       "</style>\n",
       "<table border=\"1\" class=\"dataframe\">\n",
       "  <thead>\n",
       "    <tr style=\"text-align: right;\">\n",
       "      <th></th>\n",
       "      <th>TYPE</th>\n",
       "      <th>YEAR</th>\n",
       "      <th>MONTH</th>\n",
       "      <th>DAY</th>\n",
       "      <th>HOUR</th>\n",
       "      <th>MINUTE</th>\n",
       "      <th>HUNDRED_BLOCK</th>\n",
       "      <th>NEIGHBOURHOOD</th>\n",
       "      <th>X</th>\n",
       "      <th>Y</th>\n",
       "    </tr>\n",
       "  </thead>\n",
       "  <tbody>\n",
       "    <tr>\n",
       "      <th>0</th>\n",
       "      <td>Break and Enter Commercial</td>\n",
       "      <td>2012</td>\n",
       "      <td>12</td>\n",
       "      <td>14</td>\n",
       "      <td>8</td>\n",
       "      <td>52</td>\n",
       "      <td>NaN</td>\n",
       "      <td>Oakridge</td>\n",
       "      <td>491285.0000</td>\n",
       "      <td>5.453433e+06</td>\n",
       "    </tr>\n",
       "    <tr>\n",
       "      <th>1</th>\n",
       "      <td>Break and Enter Commercial</td>\n",
       "      <td>2019</td>\n",
       "      <td>3</td>\n",
       "      <td>7</td>\n",
       "      <td>2</td>\n",
       "      <td>6</td>\n",
       "      <td>10XX SITKA SQ</td>\n",
       "      <td>Fairview</td>\n",
       "      <td>490612.9648</td>\n",
       "      <td>5.457110e+06</td>\n",
       "    </tr>\n",
       "    <tr>\n",
       "      <th>2</th>\n",
       "      <td>Break and Enter Commercial</td>\n",
       "      <td>2019</td>\n",
       "      <td>8</td>\n",
       "      <td>27</td>\n",
       "      <td>4</td>\n",
       "      <td>12</td>\n",
       "      <td>10XX ALBERNI ST</td>\n",
       "      <td>West End</td>\n",
       "      <td>491007.7798</td>\n",
       "      <td>5.459174e+06</td>\n",
       "    </tr>\n",
       "    <tr>\n",
       "      <th>3</th>\n",
       "      <td>Break and Enter Commercial</td>\n",
       "      <td>2021</td>\n",
       "      <td>4</td>\n",
       "      <td>26</td>\n",
       "      <td>4</td>\n",
       "      <td>44</td>\n",
       "      <td>10XX ALBERNI ST</td>\n",
       "      <td>West End</td>\n",
       "      <td>491007.7798</td>\n",
       "      <td>5.459174e+06</td>\n",
       "    </tr>\n",
       "    <tr>\n",
       "      <th>4</th>\n",
       "      <td>Break and Enter Commercial</td>\n",
       "      <td>2014</td>\n",
       "      <td>8</td>\n",
       "      <td>8</td>\n",
       "      <td>5</td>\n",
       "      <td>13</td>\n",
       "      <td>10XX ALBERNI ST</td>\n",
       "      <td>West End</td>\n",
       "      <td>491015.9434</td>\n",
       "      <td>5.459166e+06</td>\n",
       "    </tr>\n",
       "  </tbody>\n",
       "</table>\n",
       "</div>"
      ],
      "text/plain": [
       "                         TYPE  YEAR  MONTH  DAY  HOUR  MINUTE  \\\n",
       "0  Break and Enter Commercial  2012     12   14     8      52   \n",
       "1  Break and Enter Commercial  2019      3    7     2       6   \n",
       "2  Break and Enter Commercial  2019      8   27     4      12   \n",
       "3  Break and Enter Commercial  2021      4   26     4      44   \n",
       "4  Break and Enter Commercial  2014      8    8     5      13   \n",
       "\n",
       "     HUNDRED_BLOCK NEIGHBOURHOOD            X             Y  \n",
       "0              NaN      Oakridge  491285.0000  5.453433e+06  \n",
       "1    10XX SITKA SQ      Fairview  490612.9648  5.457110e+06  \n",
       "2  10XX ALBERNI ST      West End  491007.7798  5.459174e+06  \n",
       "3  10XX ALBERNI ST      West End  491007.7798  5.459174e+06  \n",
       "4  10XX ALBERNI ST      West End  491015.9434  5.459166e+06  "
      ]
     },
     "execution_count": 2,
     "metadata": {},
     "output_type": "execute_result"
    }
   ],
   "source": [
    "data = pd.read_csv(\"../data/raw/crimedata_csv_AllNeighbourhoods_AllYears.csv\", encoding=\"utf-8\")\n",
    "data.head()"
   ]
  },
  {
   "cell_type": "code",
   "execution_count": 3,
   "id": "fbe2464b-e796-4cae-a397-c96cb26f1b93",
   "metadata": {
    "tags": [
     "remove-input"
    ]
   },
   "outputs": [
    {
     "name": "stdout",
     "output_type": "stream",
     "text": [
      "<class 'pandas.core.frame.DataFrame'>\n",
      "RangeIndex: 879861 entries, 0 to 879860\n",
      "Data columns (total 10 columns):\n",
      " #   Column         Non-Null Count   Dtype  \n",
      "---  ------         --------------   -----  \n",
      " 0   TYPE           879861 non-null  object \n",
      " 1   YEAR           879861 non-null  int64  \n",
      " 2   MONTH          879861 non-null  int64  \n",
      " 3   DAY            879861 non-null  int64  \n",
      " 4   HOUR           879861 non-null  int64  \n",
      " 5   MINUTE         879861 non-null  int64  \n",
      " 6   HUNDRED_BLOCK  879849 non-null  object \n",
      " 7   NEIGHBOURHOOD  879717 non-null  object \n",
      " 8   X              879785 non-null  float64\n",
      " 9   Y              879785 non-null  float64\n",
      "dtypes: float64(2), int64(5), object(3)\n",
      "memory usage: 67.1+ MB\n"
     ]
    }
   ],
   "source": [
    "data.info()"
   ]
  },
  {
   "cell_type": "code",
   "execution_count": 4,
   "id": "e67d35b2-7027-48e3-8281-4a515e849547",
   "metadata": {
    "tags": [
     "remove-input",
     "output_scroll"
    ]
   },
   "outputs": [
    {
     "data": {
      "text/html": [
       "<div>\n",
       "<style scoped>\n",
       "    .dataframe tbody tr th:only-of-type {\n",
       "        vertical-align: middle;\n",
       "    }\n",
       "\n",
       "    .dataframe tbody tr th {\n",
       "        vertical-align: top;\n",
       "    }\n",
       "\n",
       "    .dataframe thead th {\n",
       "        text-align: right;\n",
       "    }\n",
       "</style>\n",
       "<table border=\"1\" class=\"dataframe\">\n",
       "  <thead>\n",
       "    <tr style=\"text-align: right;\">\n",
       "      <th></th>\n",
       "      <th>count</th>\n",
       "      <th>mean</th>\n",
       "      <th>std</th>\n",
       "      <th>min</th>\n",
       "      <th>25%</th>\n",
       "      <th>50%</th>\n",
       "      <th>75%</th>\n",
       "      <th>max</th>\n",
       "    </tr>\n",
       "  </thead>\n",
       "  <tbody>\n",
       "    <tr>\n",
       "      <th>YEAR</th>\n",
       "      <td>879861.0</td>\n",
       "      <td>2.012265e+03</td>\n",
       "      <td>6.183902e+00</td>\n",
       "      <td>2003.0</td>\n",
       "      <td>2.006000e+03</td>\n",
       "      <td>2.012000e+03</td>\n",
       "      <td>2.018000e+03</td>\n",
       "      <td>2023.0</td>\n",
       "    </tr>\n",
       "    <tr>\n",
       "      <th>MONTH</th>\n",
       "      <td>879861.0</td>\n",
       "      <td>6.516683e+00</td>\n",
       "      <td>3.391857e+00</td>\n",
       "      <td>1.0</td>\n",
       "      <td>4.000000e+00</td>\n",
       "      <td>7.000000e+00</td>\n",
       "      <td>9.000000e+00</td>\n",
       "      <td>12.0</td>\n",
       "    </tr>\n",
       "    <tr>\n",
       "      <th>DAY</th>\n",
       "      <td>879861.0</td>\n",
       "      <td>1.538500e+01</td>\n",
       "      <td>8.757135e+00</td>\n",
       "      <td>1.0</td>\n",
       "      <td>8.000000e+00</td>\n",
       "      <td>1.500000e+01</td>\n",
       "      <td>2.300000e+01</td>\n",
       "      <td>31.0</td>\n",
       "    </tr>\n",
       "    <tr>\n",
       "      <th>HOUR</th>\n",
       "      <td>879861.0</td>\n",
       "      <td>1.231342e+01</td>\n",
       "      <td>7.463913e+00</td>\n",
       "      <td>0.0</td>\n",
       "      <td>7.000000e+00</td>\n",
       "      <td>1.400000e+01</td>\n",
       "      <td>1.800000e+01</td>\n",
       "      <td>23.0</td>\n",
       "    </tr>\n",
       "    <tr>\n",
       "      <th>MINUTE</th>\n",
       "      <td>879861.0</td>\n",
       "      <td>1.586139e+01</td>\n",
       "      <td>1.836042e+01</td>\n",
       "      <td>0.0</td>\n",
       "      <td>0.000000e+00</td>\n",
       "      <td>5.000000e+00</td>\n",
       "      <td>3.000000e+01</td>\n",
       "      <td>59.0</td>\n",
       "    </tr>\n",
       "    <tr>\n",
       "      <th>X</th>\n",
       "      <td>879785.0</td>\n",
       "      <td>4.490074e+05</td>\n",
       "      <td>1.393043e+05</td>\n",
       "      <td>0.0</td>\n",
       "      <td>4.901879e+05</td>\n",
       "      <td>4.915699e+05</td>\n",
       "      <td>4.933801e+05</td>\n",
       "      <td>511303.0</td>\n",
       "    </tr>\n",
       "    <tr>\n",
       "      <th>Y</th>\n",
       "      <td>879785.0</td>\n",
       "      <td>4.977853e+06</td>\n",
       "      <td>1.544127e+06</td>\n",
       "      <td>0.0</td>\n",
       "      <td>5.454211e+06</td>\n",
       "      <td>5.457170e+06</td>\n",
       "      <td>5.458718e+06</td>\n",
       "      <td>5512579.0</td>\n",
       "    </tr>\n",
       "  </tbody>\n",
       "</table>\n",
       "</div>"
      ],
      "text/plain": [
       "           count          mean           std     min           25%  \\\n",
       "YEAR    879861.0  2.012265e+03  6.183902e+00  2003.0  2.006000e+03   \n",
       "MONTH   879861.0  6.516683e+00  3.391857e+00     1.0  4.000000e+00   \n",
       "DAY     879861.0  1.538500e+01  8.757135e+00     1.0  8.000000e+00   \n",
       "HOUR    879861.0  1.231342e+01  7.463913e+00     0.0  7.000000e+00   \n",
       "MINUTE  879861.0  1.586139e+01  1.836042e+01     0.0  0.000000e+00   \n",
       "X       879785.0  4.490074e+05  1.393043e+05     0.0  4.901879e+05   \n",
       "Y       879785.0  4.977853e+06  1.544127e+06     0.0  5.454211e+06   \n",
       "\n",
       "                 50%           75%        max  \n",
       "YEAR    2.012000e+03  2.018000e+03     2023.0  \n",
       "MONTH   7.000000e+00  9.000000e+00       12.0  \n",
       "DAY     1.500000e+01  2.300000e+01       31.0  \n",
       "HOUR    1.400000e+01  1.800000e+01       23.0  \n",
       "MINUTE  5.000000e+00  3.000000e+01       59.0  \n",
       "X       4.915699e+05  4.933801e+05   511303.0  \n",
       "Y       5.457170e+06  5.458718e+06  5512579.0  "
      ]
     },
     "execution_count": 4,
     "metadata": {},
     "output_type": "execute_result"
    }
   ],
   "source": [
    "data.describe().T"
   ]
  },
  {
   "cell_type": "markdown",
   "id": "f5c906ed-24c8-4558-9a37-84f6d4c7f8b7",
   "metadata": {},
   "source": [
    "### Missing values"
   ]
  },
  {
   "cell_type": "code",
   "execution_count": 5,
   "id": "50033277",
   "metadata": {
    "tags": [
     "remove-input",
     "output_scroll"
    ]
   },
   "outputs": [
    {
     "name": "stdout",
     "output_type": "stream",
     "text": [
      "Your selected dataframe has 10 columns and 879861 Rows.\n",
      "There are 4 columns that have missing values.\n"
     ]
    },
    {
     "data": {
      "text/html": [
       "<div>\n",
       "<style scoped>\n",
       "    .dataframe tbody tr th:only-of-type {\n",
       "        vertical-align: middle;\n",
       "    }\n",
       "\n",
       "    .dataframe tbody tr th {\n",
       "        vertical-align: top;\n",
       "    }\n",
       "\n",
       "    .dataframe thead th {\n",
       "        text-align: right;\n",
       "    }\n",
       "</style>\n",
       "<table border=\"1\" class=\"dataframe\">\n",
       "  <thead>\n",
       "    <tr style=\"text-align: right;\">\n",
       "      <th></th>\n",
       "      <th>Zero Values</th>\n",
       "      <th>Missing Values</th>\n",
       "      <th>% of Total Values</th>\n",
       "      <th>Total Zero Missing Values</th>\n",
       "      <th>% Total Zero Missing Values</th>\n",
       "      <th>Data Type</th>\n",
       "    </tr>\n",
       "  </thead>\n",
       "  <tbody>\n",
       "    <tr>\n",
       "      <th>NEIGHBOURHOOD</th>\n",
       "      <td>0</td>\n",
       "      <td>144</td>\n",
       "      <td>0.0</td>\n",
       "      <td>144</td>\n",
       "      <td>0.0</td>\n",
       "      <td>object</td>\n",
       "    </tr>\n",
       "    <tr>\n",
       "      <th>X</th>\n",
       "      <td>77225</td>\n",
       "      <td>76</td>\n",
       "      <td>0.0</td>\n",
       "      <td>77301</td>\n",
       "      <td>8.8</td>\n",
       "      <td>float64</td>\n",
       "    </tr>\n",
       "    <tr>\n",
       "      <th>Y</th>\n",
       "      <td>77225</td>\n",
       "      <td>76</td>\n",
       "      <td>0.0</td>\n",
       "      <td>77301</td>\n",
       "      <td>8.8</td>\n",
       "      <td>float64</td>\n",
       "    </tr>\n",
       "    <tr>\n",
       "      <th>HUNDRED_BLOCK</th>\n",
       "      <td>0</td>\n",
       "      <td>12</td>\n",
       "      <td>0.0</td>\n",
       "      <td>12</td>\n",
       "      <td>0.0</td>\n",
       "      <td>object</td>\n",
       "    </tr>\n",
       "  </tbody>\n",
       "</table>\n",
       "</div>"
      ],
      "text/plain": [
       "               Zero Values  Missing Values  % of Total Values  \\\n",
       "NEIGHBOURHOOD            0             144                0.0   \n",
       "X                    77225              76                0.0   \n",
       "Y                    77225              76                0.0   \n",
       "HUNDRED_BLOCK            0              12                0.0   \n",
       "\n",
       "               Total Zero Missing Values  % Total Zero Missing Values  \\\n",
       "NEIGHBOURHOOD                        144                          0.0   \n",
       "X                                  77301                          8.8   \n",
       "Y                                  77301                          8.8   \n",
       "HUNDRED_BLOCK                         12                          0.0   \n",
       "\n",
       "              Data Type  \n",
       "NEIGHBOURHOOD    object  \n",
       "X               float64  \n",
       "Y               float64  \n",
       "HUNDRED_BLOCK    object  "
      ]
     },
     "execution_count": 5,
     "metadata": {},
     "output_type": "execute_result"
    }
   ],
   "source": [
    "missing_zero_values_table(data)"
   ]
  },
  {
   "cell_type": "markdown",
   "id": "94c0b04c-7bb5-4442-861e-3f47ad5b5521",
   "metadata": {},
   "source": [
    "### Distribution"
   ]
  },
  {
   "cell_type": "markdown",
   "id": "94b2a741",
   "metadata": {},
   "source": [
    "```{figure} ../results/figures/numeric_dist.png\n",
    "---\n",
    "width: 800px\n",
    "name: numeric_dist\n",
    "---\n",
    "The distribution of numerical variables.\n",
    "```"
   ]
  },
  {
   "cell_type": "markdown",
   "id": "5f20b24f",
   "metadata": {},
   "source": [
    "```{figure} ../results/figures/categ_dist.png\n",
    "---\n",
    "width: 600px\n",
    "name: categ_dist\n",
    "---\n",
    "The distribution of categorical variables.\n",
    "```"
   ]
  },
  {
   "cell_type": "markdown",
   "id": "de18aa19-6b35-4274-b2d8-e0b04b5cbc72",
   "metadata": {},
   "source": [
    "### Correlation"
   ]
  },
  {
   "cell_type": "code",
   "execution_count": 6,
   "id": "09f32376-9a14-404d-aad5-0a69f6f79ee9",
   "metadata": {},
   "outputs": [
    {
     "name": "stdout",
     "output_type": "stream",
     "text": [
      "Top Absolute Correlations !\n",
      "HOUR   MINUTE    0.114717\n",
      "YEAR   MINUTE    0.056099\n",
      "       HOUR      0.035971\n",
      "       MONTH     0.010681\n",
      "       DAY       0.009736\n",
      "MONTH  DAY       0.006062\n",
      "DAY    HOUR      0.004696\n",
      "MONTH  MINUTE    0.003963\n",
      "DAY    MINUTE    0.003185\n",
      "MONTH  HOUR      0.002013\n",
      "dtype: float64\n"
     ]
    }
   ],
   "source": [
    "print(\"Top Absolute Correlations !\")\n",
    "print(get_top_abs_correlations(data.select_dtypes(include=['int32','int64']), 10))"
   ]
  },
  {
   "cell_type": "markdown",
   "id": "2c163e01-c110-40a1-81b8-54b147316bf1",
   "metadata": {},
   "source": [
    "### Preprocessing\n",
    "\n",
    "We'll start the data preprocessing phase by grouping the rows according to the TYPE, YEAR, and MONTH columns to aggregate the counts of specific crimes occurring in each month. Additionally, we'll adjust the datetime variable format for consistency. However, as the latest month (2023-11) is incomplete, we'll exclude this month from the dataset. Finally, we'll filter the data so that we focus only on `Theft from Vehicle` crimes, the most common crime in Vancouver in the past 20 years. This initial processing sets the groundwork for our subsequent time-series forecasting models."
   ]
  },
  {
   "cell_type": "code",
   "execution_count": 7,
   "id": "c2036df6-26b2-413c-be83-307c88c2429f",
   "metadata": {},
   "outputs": [
    {
     "data": {
      "text/html": [
       "<div>\n",
       "<style scoped>\n",
       "    .dataframe tbody tr th:only-of-type {\n",
       "        vertical-align: middle;\n",
       "    }\n",
       "\n",
       "    .dataframe tbody tr th {\n",
       "        vertical-align: top;\n",
       "    }\n",
       "\n",
       "    .dataframe thead th {\n",
       "        text-align: right;\n",
       "    }\n",
       "</style>\n",
       "<table border=\"1\" class=\"dataframe\">\n",
       "  <thead>\n",
       "    <tr style=\"text-align: right;\">\n",
       "      <th></th>\n",
       "      <th>TYPE</th>\n",
       "      <th>YEAR</th>\n",
       "      <th>MONTH</th>\n",
       "      <th>Observations</th>\n",
       "      <th>YEAR-MONTH</th>\n",
       "    </tr>\n",
       "  </thead>\n",
       "  <tbody>\n",
       "    <tr>\n",
       "      <th>0</th>\n",
       "      <td>Break and Enter Commercial</td>\n",
       "      <td>2003</td>\n",
       "      <td>1</td>\n",
       "      <td>303</td>\n",
       "      <td>2003-01-01</td>\n",
       "    </tr>\n",
       "    <tr>\n",
       "      <th>1</th>\n",
       "      <td>Break and Enter Commercial</td>\n",
       "      <td>2003</td>\n",
       "      <td>2</td>\n",
       "      <td>254</td>\n",
       "      <td>2003-02-01</td>\n",
       "    </tr>\n",
       "    <tr>\n",
       "      <th>2</th>\n",
       "      <td>Break and Enter Commercial</td>\n",
       "      <td>2003</td>\n",
       "      <td>3</td>\n",
       "      <td>292</td>\n",
       "      <td>2003-03-01</td>\n",
       "    </tr>\n",
       "    <tr>\n",
       "      <th>3</th>\n",
       "      <td>Break and Enter Commercial</td>\n",
       "      <td>2003</td>\n",
       "      <td>4</td>\n",
       "      <td>266</td>\n",
       "      <td>2003-04-01</td>\n",
       "    </tr>\n",
       "    <tr>\n",
       "      <th>4</th>\n",
       "      <td>Break and Enter Commercial</td>\n",
       "      <td>2003</td>\n",
       "      <td>5</td>\n",
       "      <td>290</td>\n",
       "      <td>2003-05-01</td>\n",
       "    </tr>\n",
       "  </tbody>\n",
       "</table>\n",
       "</div>"
      ],
      "text/plain": [
       "                         TYPE  YEAR  MONTH  Observations  YEAR-MONTH\n",
       "0  Break and Enter Commercial  2003      1           303  2003-01-01\n",
       "1  Break and Enter Commercial  2003      2           254  2003-02-01\n",
       "2  Break and Enter Commercial  2003      3           292  2003-03-01\n",
       "3  Break and Enter Commercial  2003      4           266  2003-04-01\n",
       "4  Break and Enter Commercial  2003      5           290  2003-05-01"
      ]
     },
     "execution_count": 7,
     "metadata": {},
     "output_type": "execute_result"
    }
   ],
   "source": [
    "preprocessed_data_full = pd.read_csv(\"../data/processed/preprocessed_data_full.csv\", encoding=\"utf-8\")\n",
    "preprocessed_data_full.head()"
   ]
  },
  {
   "cell_type": "code",
   "execution_count": 8,
   "id": "10b9d537-9f09-4d72-b3b3-5afb1352e957",
   "metadata": {},
   "outputs": [
    {
     "data": {
      "text/html": [
       "<div>\n",
       "<style scoped>\n",
       "    .dataframe tbody tr th:only-of-type {\n",
       "        vertical-align: middle;\n",
       "    }\n",
       "\n",
       "    .dataframe tbody tr th {\n",
       "        vertical-align: top;\n",
       "    }\n",
       "\n",
       "    .dataframe thead th {\n",
       "        text-align: right;\n",
       "    }\n",
       "</style>\n",
       "<table border=\"1\" class=\"dataframe\">\n",
       "  <thead>\n",
       "    <tr style=\"text-align: right;\">\n",
       "      <th></th>\n",
       "      <th>TYPE</th>\n",
       "      <th>YEAR</th>\n",
       "      <th>MONTH</th>\n",
       "      <th>Observations</th>\n",
       "      <th>YEAR-MONTH</th>\n",
       "    </tr>\n",
       "  </thead>\n",
       "  <tbody>\n",
       "    <tr>\n",
       "      <th>0</th>\n",
       "      <td>Theft from Vehicle</td>\n",
       "      <td>2003</td>\n",
       "      <td>1</td>\n",
       "      <td>1438</td>\n",
       "      <td>2003-01-01</td>\n",
       "    </tr>\n",
       "    <tr>\n",
       "      <th>1</th>\n",
       "      <td>Theft from Vehicle</td>\n",
       "      <td>2003</td>\n",
       "      <td>2</td>\n",
       "      <td>1102</td>\n",
       "      <td>2003-02-01</td>\n",
       "    </tr>\n",
       "    <tr>\n",
       "      <th>2</th>\n",
       "      <td>Theft from Vehicle</td>\n",
       "      <td>2003</td>\n",
       "      <td>3</td>\n",
       "      <td>1251</td>\n",
       "      <td>2003-03-01</td>\n",
       "    </tr>\n",
       "    <tr>\n",
       "      <th>3</th>\n",
       "      <td>Theft from Vehicle</td>\n",
       "      <td>2003</td>\n",
       "      <td>4</td>\n",
       "      <td>1528</td>\n",
       "      <td>2003-04-01</td>\n",
       "    </tr>\n",
       "    <tr>\n",
       "      <th>4</th>\n",
       "      <td>Theft from Vehicle</td>\n",
       "      <td>2003</td>\n",
       "      <td>5</td>\n",
       "      <td>1873</td>\n",
       "      <td>2003-05-01</td>\n",
       "    </tr>\n",
       "  </tbody>\n",
       "</table>\n",
       "</div>"
      ],
      "text/plain": [
       "                 TYPE  YEAR  MONTH  Observations  YEAR-MONTH\n",
       "0  Theft from Vehicle  2003      1          1438  2003-01-01\n",
       "1  Theft from Vehicle  2003      2          1102  2003-02-01\n",
       "2  Theft from Vehicle  2003      3          1251  2003-03-01\n",
       "3  Theft from Vehicle  2003      4          1528  2003-04-01\n",
       "4  Theft from Vehicle  2003      5          1873  2003-05-01"
      ]
     },
     "execution_count": 8,
     "metadata": {},
     "output_type": "execute_result"
    }
   ],
   "source": [
    "theft_from_vehicle = pd.read_csv(\"../data/processed/preprocessed_theft_from_vehicle_full.csv\", encoding=\"utf-8\")\n",
    "theft_from_vehicle.head()"
   ]
  },
  {
   "cell_type": "code",
   "execution_count": 9,
   "id": "3641e454-d7b5-43f7-bfb6-761a5d009b9a",
   "metadata": {},
   "outputs": [
    {
     "name": "stdout",
     "output_type": "stream",
     "text": [
      "<class 'pandas.core.frame.DataFrame'>\n",
      "RangeIndex: 250 entries, 0 to 249\n",
      "Data columns (total 5 columns):\n",
      " #   Column        Non-Null Count  Dtype \n",
      "---  ------        --------------  ----- \n",
      " 0   TYPE          250 non-null    object\n",
      " 1   YEAR          250 non-null    int64 \n",
      " 2   MONTH         250 non-null    int64 \n",
      " 3   Observations  250 non-null    int64 \n",
      " 4   YEAR-MONTH    250 non-null    object\n",
      "dtypes: int64(3), object(2)\n",
      "memory usage: 9.9+ KB\n"
     ]
    }
   ],
   "source": [
    "theft_from_vehicle.info()"
   ]
  },
  {
   "cell_type": "code",
   "execution_count": 10,
   "id": "67254cd9-5c98-49cd-ad14-b976c888eb70",
   "metadata": {},
   "outputs": [
    {
     "data": {
      "text/plain": [
       "<Axes: xlabel='YEAR-MONTH', ylabel='Observations'>"
      ]
     },
     "execution_count": 10,
     "metadata": {},
     "output_type": "execute_result"
    },
    {
     "data": {
      "image/png": "[encoded data removed]",
      "text/plain": [
       "<Figure size 640x480 with 1 Axes>"
      ]
     },
     "metadata": {},
     "output_type": "display_data"
    }
   ],
   "source": [
    "sns.lineplot(data=theft_from_vehicle, x='YEAR-MONTH', y='Observations')"
   ]
  },
  {
   "cell_type": "code",
   "execution_count": 11,
   "id": "eef689a1-9e29-4570-aec3-7bb1b72e73f9",
   "metadata": {},
   "outputs": [
    {
     "data": {
      "text/html": [
       "<div>\n",
       "<style scoped>\n",
       "    .dataframe tbody tr th:only-of-type {\n",
       "        vertical-align: middle;\n",
       "    }\n",
       "\n",
       "    .dataframe tbody tr th {\n",
       "        vertical-align: top;\n",
       "    }\n",
       "\n",
       "    .dataframe thead th {\n",
       "        text-align: right;\n",
       "    }\n",
       "</style>\n",
       "<table border=\"1\" class=\"dataframe\">\n",
       "  <thead>\n",
       "    <tr style=\"text-align: right;\">\n",
       "      <th></th>\n",
       "      <th>Observations</th>\n",
       "    </tr>\n",
       "    <tr>\n",
       "      <th>YEAR-MONTH</th>\n",
       "      <th></th>\n",
       "    </tr>\n",
       "  </thead>\n",
       "  <tbody>\n",
       "    <tr>\n",
       "      <th>2003-01-01</th>\n",
       "      <td>1438</td>\n",
       "    </tr>\n",
       "    <tr>\n",
       "      <th>2003-02-01</th>\n",
       "      <td>1102</td>\n",
       "    </tr>\n",
       "    <tr>\n",
       "      <th>2003-03-01</th>\n",
       "      <td>1251</td>\n",
       "    </tr>\n",
       "    <tr>\n",
       "      <th>2003-04-01</th>\n",
       "      <td>1528</td>\n",
       "    </tr>\n",
       "    <tr>\n",
       "      <th>2003-05-01</th>\n",
       "      <td>1873</td>\n",
       "    </tr>\n",
       "  </tbody>\n",
       "</table>\n",
       "</div>"
      ],
      "text/plain": [
       "            Observations\n",
       "YEAR-MONTH              \n",
       "2003-01-01          1438\n",
       "2003-02-01          1102\n",
       "2003-03-01          1251\n",
       "2003-04-01          1528\n",
       "2003-05-01          1873"
      ]
     },
     "execution_count": 11,
     "metadata": {},
     "output_type": "execute_result"
    }
   ],
   "source": [
    "theft_from_vehicle_filtered = theft_from_vehicle[['YEAR-MONTH','Observations']]\n",
    "theft_from_vehicle_filtered.set_index('YEAR-MONTH', inplace=True)\n",
    "theft_from_vehicle_filtered.head()"
   ]
  },
  {
   "cell_type": "markdown",
   "id": "5cab059f-ba58-4dbc-ba16-0004ef9eda02",
   "metadata": {},
   "source": [
    "### Simple Moving Average & Exponential Smoothing"
   ]
  },
  {
   "cell_type": "code",
   "execution_count": 12,
   "id": "0314f41f",
   "metadata": {},
   "outputs": [
    {
     "ename": "ValueError",
     "evalue": "Index of the DataFrame must be a DatetimeIndex for ARIMA prediction.",
     "output_type": "error",
     "traceback": [
      "\u001b[0;31m---------------------------------------------------------------------------\u001b[0m",
      "\u001b[0;31mValueError\u001b[0m                                Traceback (most recent call last)",
      "Cell \u001b[0;32mIn[12], line 21\u001b[0m\n\u001b[1;32m     18\u001b[0m     smoothed_val \u001b[38;5;241m=\u001b[39m window\u001b[38;5;241m.\u001b[39mewm(alpha\u001b[38;5;241m=\u001b[39malpha, adjust\u001b[38;5;241m=\u001b[39m\u001b[38;5;28;01mFalse\u001b[39;00m)\u001b[38;5;241m.\u001b[39mmean()\u001b[38;5;241m.\u001b[39miloc[\u001b[38;5;241m-\u001b[39m\u001b[38;5;241m1\u001b[39m]\n\u001b[1;32m     19\u001b[0m     smoothed_values\u001b[38;5;241m.\u001b[39mappend(smoothed_val)\n\u001b[0;32m---> 21\u001b[0m sma_merged \u001b[38;5;241m=\u001b[39m \u001b[43mmerge_forecast_values\u001b[49m\u001b[43m(\u001b[49m\u001b[43mtheft_from_vehicle_filtered\u001b[49m\u001b[43m,\u001b[49m\u001b[43m \u001b[49m\u001b[43msma_values\u001b[49m\u001b[43m,\u001b[49m\u001b[43m \u001b[49m\u001b[38;5;124;43m\"\u001b[39;49m\u001b[38;5;124;43mSMA_Forecast\u001b[39;49m\u001b[38;5;124;43m\"\u001b[39;49m\u001b[43m)\u001b[49m\n\u001b[1;32m     22\u001b[0m es_merged \u001b[38;5;241m=\u001b[39m merge_forecast_values(theft_from_vehicle_filtered, smoothed_values, \u001b[38;5;124m\"\u001b[39m\u001b[38;5;124mES_Forecast\u001b[39m\u001b[38;5;124m\"\u001b[39m)\n",
      "File \u001b[0;32m~/git/522/project-avalon/report/../src/merge_forecast_values.py:26\u001b[0m, in \u001b[0;36mmerge_forecast_values\u001b[0;34m(original_df, forecasted_values, col_name)\u001b[0m\n\u001b[1;32m     24\u001b[0m \u001b[38;5;66;03m# Check if the index of original df is a DatetimeIndex\u001b[39;00m\n\u001b[1;32m     25\u001b[0m \u001b[38;5;28;01mif\u001b[39;00m \u001b[38;5;129;01mnot\u001b[39;00m \u001b[38;5;28misinstance\u001b[39m(original_df\u001b[38;5;241m.\u001b[39mindex, pd\u001b[38;5;241m.\u001b[39mDatetimeIndex):\n\u001b[0;32m---> 26\u001b[0m     \u001b[38;5;28;01mraise\u001b[39;00m \u001b[38;5;167;01mValueError\u001b[39;00m(\u001b[38;5;124m\"\u001b[39m\u001b[38;5;124mIndex of the DataFrame must be a DatetimeIndex for ARIMA prediction.\u001b[39m\u001b[38;5;124m\"\u001b[39m)\n\u001b[1;32m     28\u001b[0m \u001b[38;5;66;03m# Check if all columns in original df is numerical\u001b[39;00m\n\u001b[1;32m     29\u001b[0m \u001b[38;5;28;01mif\u001b[39;00m \u001b[38;5;129;01mnot\u001b[39;00m \u001b[38;5;28mall\u001b[39m(pd\u001b[38;5;241m.\u001b[39mapi\u001b[38;5;241m.\u001b[39mtypes\u001b[38;5;241m.\u001b[39mis_numeric_dtype(original_df\u001b[38;5;241m.\u001b[39mloc[:, col]) \u001b[38;5;28;01mfor\u001b[39;00m col \u001b[38;5;129;01min\u001b[39;00m original_df\u001b[38;5;241m.\u001b[39mcolumns):\n",
      "\u001b[0;31mValueError\u001b[0m: Index of the DataFrame must be a DatetimeIndex for ARIMA prediction."
     ]
    }
   ],
   "source": [
    "# Define the size of the sliding window\n",
    "window_size = 12\n",
    "# Define alpha (smoothing parameter in ES)\n",
    "alpha=0.3\n",
    "\n",
    "# Perform Simple Moving Average (SMA) and Exponential Smoothing (ES)\n",
    "sma_values = []\n",
    "smoothed_values = []\n",
    "for i in range(len(theft_from_vehicle_filtered) - window_size + 1):\n",
    "    \n",
    "    window = theft_from_vehicle_filtered['Observations'].iloc[i:i+window_size]\n",
    "\n",
    "    # SMA\n",
    "    window_mean = window.mean()\n",
    "    sma_values.append(window_mean)\n",
    "\n",
    "    # ES\n",
    "    smoothed_val = window.ewm(alpha=alpha, adjust=False).mean().iloc[-1]\n",
    "    smoothed_values.append(smoothed_val)\n",
    "\n",
    "sma_merged = merge_forecast_values(theft_from_vehicle_filtered, sma_values, \"SMA_Forecast\")\n",
    "es_merged = merge_forecast_values(theft_from_vehicle_filtered, smoothed_values, \"ES_Forecast\")"
   ]
  },
  {
   "cell_type": "markdown",
   "id": "4943959d",
   "metadata": {},
   "source": [
    "```{figure} ../results/figures/sma_prediction_plot.png\n",
    "---\n",
    "width: 600px\n",
    "name: sma_prediction_plot\n",
    "---\n",
    "The plot that compares the original value and the predictions made by simple moving average.\n",
    "```"
   ]
  },
  {
   "cell_type": "markdown",
   "id": "fd393337",
   "metadata": {},
   "source": [
    "```{figure} ../results/figures/es_prediction_plot.png\n",
    "---\n",
    "width: 600px\n",
    "name: es_prediction_plot\n",
    "---\n",
    "The plot that compares the original value and the predictions made by exponential smoothing."
   ]
  },
  {
   "cell_type": "markdown",
   "id": "1d4b93d7-b58f-4de5-a4b3-eac785c8e11b",
   "metadata": {},
   "source": [
    "Based on a visual assessment of the Simple Moving Average (SMA) and Exponential Smoothing (ES) forecasts, it's evident that both methods broadly capture the general trend of the actual values. However, neither forecast method appears to be highly accurate. The Exponential Smoothing approach demonstrates a slightly improved performance compared to SMA."
   ]
  },
  {
   "cell_type": "markdown",
   "id": "f8baf9ab-0ef9-43cb-95c7-1e0a779c9e97",
   "metadata": {},
   "source": [
    "### ARIMA(1,1,0)"
   ]
  },
  {
   "cell_type": "markdown",
   "id": "968d05b1",
   "metadata": {},
   "source": [
    "```{figure} ../results/figures/autocorrelation_plot.png\n",
    "---\n",
    "width: 600px\n",
    "name: autocorrelation_plot\n",
    "---\n",
    "The autocorrelation plot for the time-series observations in our preprocessed data."
   ]
  },
  {
   "cell_type": "markdown",
   "id": "6e486a29",
   "metadata": {},
   "source": [
    "```{figure} ../results/figures/autocorrelation_with_diff_plot.png\n",
    "---\n",
    "width: 600px\n",
    "name: autocorrelation_with_diff_plot\n",
    "---\n",
    "The autocorrelation plot for the time-series observations in our preprocessed data with 1-time differencing."
   ]
  },
  {
   "cell_type": "code",
   "execution_count": 18,
   "id": "01764671",
   "metadata": {},
   "outputs": [
    {
     "data": {
      "text/html": [
       "<div>\n",
       "<style scoped>\n",
       "    .dataframe tbody tr th:only-of-type {\n",
       "        vertical-align: middle;\n",
       "    }\n",
       "\n",
       "    .dataframe tbody tr th {\n",
       "        vertical-align: top;\n",
       "    }\n",
       "\n",
       "    .dataframe thead th {\n",
       "        text-align: right;\n",
       "    }\n",
       "</style>\n",
       "<table border=\"1\" class=\"dataframe\">\n",
       "  <thead>\n",
       "    <tr style=\"text-align: right;\">\n",
       "      <th></th>\n",
       "      <th>Observations</th>\n",
       "      <th>ARIMA_Forecast</th>\n",
       "    </tr>\n",
       "  </thead>\n",
       "  <tbody>\n",
       "    <tr>\n",
       "      <th>2003-01-01</th>\n",
       "      <td>1438.0</td>\n",
       "      <td>NaN</td>\n",
       "    </tr>\n",
       "    <tr>\n",
       "      <th>2003-02-01</th>\n",
       "      <td>1102.0</td>\n",
       "      <td>NaN</td>\n",
       "    </tr>\n",
       "    <tr>\n",
       "      <th>2003-03-01</th>\n",
       "      <td>1251.0</td>\n",
       "      <td>NaN</td>\n",
       "    </tr>\n",
       "    <tr>\n",
       "      <th>2003-04-01</th>\n",
       "      <td>1528.0</td>\n",
       "      <td>NaN</td>\n",
       "    </tr>\n",
       "    <tr>\n",
       "      <th>2003-05-01</th>\n",
       "      <td>1873.0</td>\n",
       "      <td>NaN</td>\n",
       "    </tr>\n",
       "  </tbody>\n",
       "</table>\n",
       "</div>"
      ],
      "text/plain": [
       "            Observations  ARIMA_Forecast\n",
       "2003-01-01        1438.0             NaN\n",
       "2003-02-01        1102.0             NaN\n",
       "2003-03-01        1251.0             NaN\n",
       "2003-04-01        1528.0             NaN\n",
       "2003-05-01        1873.0             NaN"
      ]
     },
     "execution_count": 18,
     "metadata": {},
     "output_type": "execute_result"
    }
   ],
   "source": [
    "arima_pred_values = arima_prediction(theft_from_vehicle_filtered)\n",
    "arima_merged = merge_forecast_values(theft_from_vehicle_filtered, arima_pred_values, \"ARIMA_Forecast\")\n",
    "arima_merged.head()"
   ]
  },
  {
   "cell_type": "markdown",
   "id": "f0fa8815",
   "metadata": {},
   "source": [
    "```{figure} ../results/figures/arima_prediction_plot.png\n",
    "---\n",
    "width: 600px\n",
    "name: arima_prediction_plot\n",
    "---\n",
    "The plot that compares the original value and the predictions made by arima model.\n",
    "```"
   ]
  },
  {
   "cell_type": "markdown",
   "id": "f1a52772-9503-46d7-8ff6-5aa8f549fd79",
   "metadata": {},
   "source": [
    "The forecast from the ARIMA model looks much better! We can see some clear overlaps between the forecasted value and the original value."
   ]
  },
  {
   "cell_type": "code",
   "execution_count": 20,
   "id": "96f4c027",
   "metadata": {},
   "outputs": [
    {
     "data": {
      "text/html": [
       "<div>\n",
       "<style scoped>\n",
       "    .dataframe tbody tr th:only-of-type {\n",
       "        vertical-align: middle;\n",
       "    }\n",
       "\n",
       "    .dataframe tbody tr th {\n",
       "        vertical-align: top;\n",
       "    }\n",
       "\n",
       "    .dataframe thead th {\n",
       "        text-align: right;\n",
       "    }\n",
       "</style>\n",
       "<table border=\"1\" class=\"dataframe\">\n",
       "  <thead>\n",
       "    <tr style=\"text-align: right;\">\n",
       "      <th></th>\n",
       "      <th>Observations</th>\n",
       "      <th>SMA_Forecast</th>\n",
       "      <th>ES_Forecast</th>\n",
       "      <th>ARIMA_Forecast</th>\n",
       "    </tr>\n",
       "  </thead>\n",
       "  <tbody>\n",
       "    <tr>\n",
       "      <th>2003-01-01</th>\n",
       "      <td>1438.0</td>\n",
       "      <td>NaN</td>\n",
       "      <td>NaN</td>\n",
       "      <td>NaN</td>\n",
       "    </tr>\n",
       "    <tr>\n",
       "      <th>2003-02-01</th>\n",
       "      <td>1102.0</td>\n",
       "      <td>NaN</td>\n",
       "      <td>NaN</td>\n",
       "      <td>NaN</td>\n",
       "    </tr>\n",
       "    <tr>\n",
       "      <th>2003-03-01</th>\n",
       "      <td>1251.0</td>\n",
       "      <td>NaN</td>\n",
       "      <td>NaN</td>\n",
       "      <td>NaN</td>\n",
       "    </tr>\n",
       "    <tr>\n",
       "      <th>2003-04-01</th>\n",
       "      <td>1528.0</td>\n",
       "      <td>NaN</td>\n",
       "      <td>NaN</td>\n",
       "      <td>NaN</td>\n",
       "    </tr>\n",
       "    <tr>\n",
       "      <th>2003-05-01</th>\n",
       "      <td>1873.0</td>\n",
       "      <td>NaN</td>\n",
       "      <td>NaN</td>\n",
       "      <td>NaN</td>\n",
       "    </tr>\n",
       "  </tbody>\n",
       "</table>\n",
       "</div>"
      ],
      "text/plain": [
       "            Observations  SMA_Forecast  ES_Forecast  ARIMA_Forecast\n",
       "2003-01-01        1438.0           NaN          NaN             NaN\n",
       "2003-02-01        1102.0           NaN          NaN             NaN\n",
       "2003-03-01        1251.0           NaN          NaN             NaN\n",
       "2003-04-01        1528.0           NaN          NaN             NaN\n",
       "2003-05-01        1873.0           NaN          NaN             NaN"
      ]
     },
     "execution_count": 20,
     "metadata": {},
     "output_type": "execute_result"
    }
   ],
   "source": [
    "merged_df = pd.concat([sma_merged, es_merged[\"ES_Forecast\"], arima_merged[\"ARIMA_Forecast\"]], axis=1)\n",
    "merged_df.head()"
   ]
  },
  {
   "cell_type": "code",
   "execution_count": 21,
   "id": "ebf88c7b-f2eb-424d-989a-64f5cce84d71",
   "metadata": {},
   "outputs": [
    {
     "data": {
      "text/html": [
       "<div>\n",
       "<style scoped>\n",
       "    .dataframe tbody tr th:only-of-type {\n",
       "        vertical-align: middle;\n",
       "    }\n",
       "\n",
       "    .dataframe tbody tr th {\n",
       "        vertical-align: top;\n",
       "    }\n",
       "\n",
       "    .dataframe thead th {\n",
       "        text-align: right;\n",
       "    }\n",
       "</style>\n",
       "<table border=\"1\" class=\"dataframe\">\n",
       "  <thead>\n",
       "    <tr style=\"text-align: right;\">\n",
       "      <th></th>\n",
       "      <th>Forecast_Column</th>\n",
       "      <th>MAE</th>\n",
       "      <th>MSE</th>\n",
       "    </tr>\n",
       "  </thead>\n",
       "  <tbody>\n",
       "    <tr>\n",
       "      <th>0</th>\n",
       "      <td>SMA_Forecast</td>\n",
       "      <td>121.216737</td>\n",
       "      <td>27239.951827</td>\n",
       "    </tr>\n",
       "    <tr>\n",
       "      <th>1</th>\n",
       "      <td>ES_Forecast</td>\n",
       "      <td>98.641493</td>\n",
       "      <td>16240.436389</td>\n",
       "    </tr>\n",
       "    <tr>\n",
       "      <th>2</th>\n",
       "      <td>ARIMA_Forecast</td>\n",
       "      <td>26.856890</td>\n",
       "      <td>1940.870649</td>\n",
       "    </tr>\n",
       "  </tbody>\n",
       "</table>\n",
       "</div>"
      ],
      "text/plain": [
       "  Forecast_Column         MAE           MSE\n",
       "0    SMA_Forecast  121.216737  27239.951827\n",
       "1     ES_Forecast   98.641493  16240.436389\n",
       "2  ARIMA_Forecast   26.856890   1940.870649"
      ]
     },
     "execution_count": 21,
     "metadata": {},
     "output_type": "execute_result"
    }
   ],
   "source": [
    "# Drop NA values to evaluate performance\n",
    "\n",
    "merged_df_drop = merged_df.dropna()\n",
    "\n",
    "results_df = get_metrics_from_df(merged_df_drop, \"Observations\")\n",
    "results_df"
   ]
  },
  {
   "cell_type": "markdown",
   "id": "cf91be82-91b3-40dc-9167-94327c2657df",
   "metadata": {},
   "source": [
    "The displayed dataframe outlines the performance metrics, specifically the mean absolute error (MAE) and mean squared error (MSE), for the three models. Notably, there's a discernible pattern showcasing a marked enhancement in performance, progressing from Simple Moving Average (SMA) to Exponential Smoothing Approach (ESA) and ultimately to ARIMA. This consistent trend aligns with the observations gleaned from the visualizations crafted earlier, affirming the gradual improvement in forecasting accuracy across the models.\n",
    "\n",
    "While the ARIMA model stands out as the most effective among the three forecasting models—simple moving average and exponential smoothing—it's crucial to acknowledge the room for enhancement in our predictive capabilities. Future advancements could entail fine-tuning the ARIMA hyperparameters or exploring alternative models to ascertain if further accuracy gains are attainable. Additionally, integrating exogenous variables, such as socioeconomic indicators or weather data, might augment the predictive power of our models, offering a more comprehensive understanding of crime dynamics. Furthermore, this analysis prompts future inquiries, including investigating the influence of specific external factors on crime occurrences or exploring spatial-temporal models to predict crime hotspots within Vancouver. These prospective avenues aim to refine our forecasting precision and deepen our insights into crime trends, paving the way for more informed law enforcement strategies and proactive crime prevention measures."
   ]
  },
  {
   "cell_type": "markdown",
   "id": "ee2e9682-814f-4f79-8fca-d7473410402a",
   "metadata": {},
   "source": [
    "# References"
   ]
  },
  {
   "cell_type": "markdown",
   "id": "5f7c1965",
   "metadata": {},
   "source": [
    "```{bibliography}\n",
    "```"
   ]
  }
 ],
 "metadata": {
  "kernelspec": {
   "display_name": "Python [conda env:avalon]",
   "language": "python",
   "name": "python3"
  },
  "language_info": {
   "codemirror_mode": {
    "name": "ipython",
    "version": 3
   },
   "file_extension": ".py",
   "mimetype": "text/x-python",
   "name": "python",
   "nbconvert_exporter": "python",
   "pygments_lexer": "ipython3",
   "version": "3.11.6"
  }
 },
 "nbformat": 4,
 "nbformat_minor": 5
}