{
 "cells": [
  {
   "cell_type": "markdown",
   "id": "69293354-1852-4df2-938e-1b7b83c87399",
   "metadata": {},
   "source": [
    "# Crime Forecast in Vancouver"
   ]
  },
  {
   "cell_type": "markdown",
   "id": "66b3dbf0-2158-4bc2-a0dd-b2685d8dfc48",
   "metadata": {},
   "source": [
    "by Ben Chen, Mo Norouzi, Orix Au Yeung, Yiwei Zhang"
   ]
  },
  {
   "cell_type": "code",
   "execution_count": 1,
   "id": "0bc1fadf-357e-4aac-8345-1c5322d2bdab",
   "metadata": {
    "tags": [
     "remove-input"
    ]
   },
   "outputs": [],
   "source": [
    "import altair as alt\n",
    "import matplotlib.pyplot as plt\n",
    "import numpy as np\n",
    "import pandas as pd\n",
    "import seaborn as sns\n",
    "from pandas.plotting import autocorrelation_plot\n",
    "from statsmodels.tsa.arima.model import ARIMA\n",
    "from sklearn.metrics import mean_absolute_error, mean_squared_error\n",
    "import warnings\n",
    "import sys\n",
    "from myst_nb import glue\n",
    "warnings.filterwarnings(\"ignore\")\n",
    "sys.path.append('../src') \n",
    "\n",
    "from get_metrics_from_df import get_metrics_from_df\n",
    "from missing_value import missing_zero_values_table\n",
    "from numeric_cols import create_numeric_cols_chart\n",
    "from merge_forecast_values import merge_forecast_values\n",
    "from arima_forecasting import arima_prediction\n",
    "from correlation import get_redundant_pairs, get_top_abs_correlations"
   ]
  },
  {
   "cell_type": "code",
   "execution_count": null,
   "id": "913eebc4",
   "metadata": {
    "tags": [
     "remove-input"
    ]
   },
   "outputs": [],
   "source": [
    "data = pd.read_csv(\"../data/raw/crimedata_csv_AllNeighbourhoods_AllYears.csv\", encoding=\"utf-8\").round(2)\n",
    "glue(\"data_head\", data.head().style.format().hide(), display=False)\n",
    "\n",
    "data_description = pd.read_csv(\"../results/tables/description.csv\", encoding=\"utf-8\").round(2)\n",
    "glue(\"data_description\", data_description.style.format().hide(), display=False)\n",
    "\n",
    "missing_data = pd.read_csv(\"../results/tables/missing_values.csv\", encoding=\"utf-8\").round(2)\n",
    "glue(\"missing_values\", missing_data.style.format().hide(), display=False)\n",
    "\n",
    "correlation = pd.read_csv(\"../results/tables/correlation.csv\", encoding=\"utf-8\").round(2)\n",
    "glue(\"data_correlation\", correlation.style.format().hide(), display=False)\n",
    "\n",
    "preprocessed_head = pd.read_csv(\"../data/processed/preprocessed_data_head.csv\", encoding=\"utf-8\").round(2)\n",
    "glue(\"preprocessed_head\", preprocessed_head.style.format().hide(), display=False)\n",
    "\n",
    "theft_from_vehicle_head = pd.read_csv(\"../data/processed/preprocessed_theft_from_vehicle_head.csv\", encoding=\"utf-8\").round(2)\n",
    "glue(\"theft_from_vehicle_head\", theft_from_vehicle_head.style.format().hide(), display=False)\n",
    "\n",
    "all_predictions = pd.read_csv(\"../results/tables/all_predictions.csv\", encoding=\"utf-8\").round(2)\n",
    "glue(\"all_predictions_head\", all_predictions.head(15).style.format().hide(), display=False)\n",
    "glue(\"all_predictions_tail\", all_predictions.tail(5).style.format().hide(), display=False)"
   ]
  },
  {
   "cell_type": "markdown",
   "id": "30a99e74-48a4-4b1d-975c-c5e71aa56f68",
   "metadata": {},
   "source": [
    "## Summary\n",
    "\n",
    "In this notebook, our focus revolved around constructing a time-series forecasting model tailored to predict crime incidents in Vancouver, using \"Month\" as the temporal unit. Our primary emphasis centered on one of the most prevalent crime types in Vancouver over the past two decades: theft from vehicles. We evaluated the efficacy of three fundamental forecasting models—simple moving average, exponential smoothing, and ARIMA(1,1,0). Notably, the ARIMA(1,1,0) model emerged as the most effective, yielding a Mean Absolute Error (MAE) of 26.856890. Considering that the occurrences of \"theft from a vehicle\" crimes per month often range in the hundreds to thousands, achieving a forecast performance of this caliber is notably commendable. It's worth highlighting that further refinement through comprehensive parameter tuning and integration of additional external variables holds the potential to cultivate even more accurate forecasting models."
   ]
  },
  {
   "cell_type": "markdown",
   "id": "9ba2394c-91d1-41c3-9e34-ca7690cc7534",
   "metadata": {},
   "source": [
    "## Introduction\n",
    "\n",
    "Vehicle-related theft remains an ongoing concern nationwide in Canada, with statistics revealing a staggering incident of vehicle theft occurring every six minutes across the country {cite}`CTVnews`. This pervasive issue extends into Vancouver, presenting formidable challenges to both community safety and law enforcement efforts. Theft from vehicles, a prevalent form of this crime, significantly affects neighborhoods, inflicting distress and substantial financial losses on local residents. In response to this pressing concern, this project is dedicated to forecasting occurrences of theft from vehicles specifically within Vancouver.\n",
    "\n",
    "The primary objective of this project is to forecast instances of theft from vehicles in Vancouver by analyzing historical data. Leveraging a comprehensive dataset sourced from the Vancouver Police Department, encompassing diverse crime records in Vancouver over the past 20 years alongside incident locations, our goal is to construct a reliable predictive model. This model aims to anticipate the frequency and patterns specific to theft from vehicles. An accurate forecast holds the potential to empower the City of Vancouver to proactively allocate law enforcement resources, thereby curbing the occurrence of such crimes and enhancing community safety."
   ]
  },
  {
   "cell_type": "markdown",
   "id": "55ac292b-34d3-4455-adef-9827f87e3b27",
   "metadata": {},
   "source": [
    "## Methods\n",
    "\n",
    "### Data\n",
    "\n",
    "The dataset utilized for this project originates from the Vancouver Police Department, available through the following link: https://geodash.vpd.ca/opendata/ {cite}`crimedata2023`. It comprises 10 columns/variables and encompasses a substantial volume of data, totaling 879,861 rows. Each row corresponds to a distinct crime incident recorded within the dataset. The available information includes details about the crime type, the corresponding date of occurrence, and the specific location or neighborhood where the crime took place. These data points serve as crucial elements for our analysis and forecasting efforts.\n",
    "\n",
    "### Analysis\n",
    "\n",
    "We're deploying three distinct time-series forecasting models—Simple Moving Average (SMA), Exponential Smoothing (ES), and Autoregressive Integrated Moving Average (ARIMA). These models rely solely on the timestamp and the targeted forecasted value. Despite having location data, which holds potential value, we've deferred its utilization in this phase of the project. Employing a rolling window approach, we'll predict and assess model performance across a 20-year duration, setting the window size to 12 months. This configuration ensures that forecasts leverage the preceding year's data for accuracy. Specifically for ARIMA, the hyperparameters (p, d, q) are set at (1, 1, 0). This specification signifies that the model factors in the most recent lagged observations of the differenced series to predict the subsequent value. Our analysis was executed using Python, leveraging various libraries: numpy {cite}`harris2020`, Pandas {cite}`mckinney2010`, Altair {cite}`vanderplas2018`, scikit-learn {cite}`pedregosa`, Matplotlib {cite}`hunter2007`, Seaborn {cite}`seaborn`, and Statsmodels {cite}`seabold2010`."
   ]
  },
  {
   "cell_type": "markdown",
   "id": "41d505cb-54b3-4627-9ea6-c37fa0be785c",
   "metadata": {},
   "source": [
    "## Results & Discussions\n",
    "\n",
    "Upon conducting exploratory data analysis (EDA), conspicuous anomalies surface in the dataset. The HOUR and MINUTE columns exhibit an unusual frequency of zero values, along with a disproportionate occurrence of '30' in the MINUTE column. Additionally, the DAY column prominently features an excessive number of records logged on the 31st of the month. These irregularities likely stem from convenience in data recording, casting uncertainty on the accuracy of these three columns. In light of these inconsistencies, the most prudent approach is to exclude the DAY, HOUR, and MINUTE columns from analysis and focus solely on forecasting crime occurrences based on the MONTH variable."
   ]
  },
  {
   "cell_type": "markdown",
   "id": "e9630679",
   "metadata": {},
   "source": [
    "```{glue:figure} data_head\n",
    ":name: \"data_head\"\n",
    "\n",
    "Data Preview\n",
    "```"
   ]
  },
  {
   "cell_type": "code",
   "execution_count": 3,
   "id": "fbe2464b-e796-4cae-a397-c96cb26f1b93",
   "metadata": {
    "tags": [
     "remove-input"
    ]
   },
   "outputs": [
    {
     "name": "stdout",
     "output_type": "stream",
     "text": [
      "<class 'pandas.core.frame.DataFrame'>\n",
      "RangeIndex: 879861 entries, 0 to 879860\n",
      "Data columns (total 10 columns):\n",
      " #   Column         Non-Null Count   Dtype  \n",
      "---  ------         --------------   -----  \n",
      " 0   TYPE           879861 non-null  object \n",
      " 1   YEAR           879861 non-null  int64  \n",
      " 2   MONTH          879861 non-null  int64  \n",
      " 3   DAY            879861 non-null  int64  \n",
      " 4   HOUR           879861 non-null  int64  \n",
      " 5   MINUTE         879861 non-null  int64  \n",
      " 6   HUNDRED_BLOCK  879849 non-null  object \n",
      " 7   NEIGHBOURHOOD  879717 non-null  object \n",
      " 8   X              879785 non-null  float64\n",
      " 9   Y              879785 non-null  float64\n",
      "dtypes: float64(2), int64(5), object(3)\n",
      "memory usage: 67.1+ MB\n"
     ]
    }
   ],
   "source": [
    "data.info()"
   ]
  },
  {
   "cell_type": "markdown",
   "id": "65cd3a81",
   "metadata": {},
   "source": [
    "```{glue:figure} data_description\n",
    ":name: \"data_description\"\n",
    "\n",
    "Data Summary Statistics\n",
    "```"
   ]
  },
  {
   "cell_type": "markdown",
   "id": "f5c906ed-24c8-4558-9a37-84f6d4c7f8b7",
   "metadata": {},
   "source": [
    "### Missing values"
   ]
  },
  {
   "cell_type": "markdown",
   "id": "52cda855",
   "metadata": {},
   "source": [
    "```{glue:figure} missing_values\n",
    ":name: \"missing_values\"\n",
    "\n",
    "Missing value in Data\n",
    "```"
   ]
  },
  {
   "cell_type": "markdown",
   "id": "94c0b04c-7bb5-4442-861e-3f47ad5b5521",
   "metadata": {},
   "source": [
    "### Distribution"
   ]
  },
  {
   "cell_type": "markdown",
   "id": "94b2a741",
   "metadata": {},
   "source": [
    "```{figure} ../results/figures/numeric_dist.png\n",
    "---\n",
    "width: 800px\n",
    "name: numeric_dist\n",
    "---\n",
    "The distribution of numerical variables.\n",
    "```"
   ]
  },
  {
   "cell_type": "markdown",
   "id": "5f20b24f",
   "metadata": {},
   "source": [
    "```{figure} ../results/figures/categ_dist.png\n",
    "---\n",
    "width: 600px\n",
    "name: categ_dist\n",
    "---\n",
    "The distribution of categorical variables.\n",
    "```"
   ]
  },
  {
   "cell_type": "markdown",
   "id": "de18aa19-6b35-4274-b2d8-e0b04b5cbc72",
   "metadata": {},
   "source": [
    "### Correlation"
   ]
  },
  {
   "cell_type": "markdown",
   "id": "d29ad27a",
   "metadata": {},
   "source": [
    "```{glue:figure} data_correlation\n",
    ":name: \"data_correlation\"\n",
    "\n",
    "Correlation of Numerical Variables\n",
    "```"
   ]
  },
  {
   "cell_type": "markdown",
   "id": "2c163e01-c110-40a1-81b8-54b147316bf1",
   "metadata": {},
   "source": [
    "### Preprocessing\n",
    "\n",
    "We'll start the data preprocessing phase by grouping the rows according to the TYPE, YEAR, and MONTH columns to aggregate the counts of specific crimes occurring in each month. Additionally, we'll adjust the datetime variable format for consistency. However, as the latest month (2023-11) is incomplete, we'll exclude this month from the dataset. Finally, we'll filter the data so that we focus only on `Theft from Vehicle` crimes, the most common crime in Vancouver in the past 20 years. This initial processing sets the groundwork for our subsequent time-series forecasting models."
   ]
  },
  {
   "cell_type": "markdown",
   "id": "3447ae79",
   "metadata": {},
   "source": [
    "```{glue:figure} preprocessed_head\n",
    ":name: \"preprocessed_head\"\n",
    "\n",
    "Preview of Preprocessed Data.\n",
    "```"
   ]
  },
  {
   "cell_type": "markdown",
   "id": "cc8cf24c",
   "metadata": {},
   "source": [
    "```{glue:figure} theft_from_vehicle_head\n",
    ":name: \"theft_from_vehicle_head\"\n",
    "\n",
    "Preview of Theft From Vehicle Data.\n",
    "```"
   ]
  },
  {
   "cell_type": "code",
   "execution_count": 11,
   "id": "3641e454-d7b5-43f7-bfb6-761a5d009b9a",
   "metadata": {
    "tags": [
     "remove-input"
    ]
   },
   "outputs": [
    {
     "name": "stdout",
     "output_type": "stream",
     "text": [
      "<class 'pandas.core.frame.DataFrame'>\n",
      "Index: 250 entries, 1433 to 1682\n",
      "Data columns (total 5 columns):\n",
      " #   Column        Non-Null Count  Dtype         \n",
      "---  ------        --------------  -----         \n",
      " 0   TYPE          250 non-null    object        \n",
      " 1   YEAR          250 non-null    int64         \n",
      " 2   MONTH         250 non-null    int64         \n",
      " 3   Observations  250 non-null    int64         \n",
      " 4   YEAR-MONTH    250 non-null    datetime64[ns]\n",
      "dtypes: datetime64[ns](1), int64(3), object(1)\n",
      "memory usage: 11.7+ KB\n"
     ]
    }
   ],
   "source": [
    "theft_from_vehicle_head.info()"
   ]
  },
  {
   "cell_type": "markdown",
   "id": "d1a435a3",
   "metadata": {},
   "source": [
    "```{figure} ../results/figures/original_plot.png\n",
    "---\n",
    "width: 600px\n",
    "name: original_plot\n",
    "---\n",
    "The time-series trend of \"Theft from Vehicle\" in Vancouver.\n",
    "```"
   ]
  },
  {
   "cell_type": "markdown",
   "id": "5cab059f-ba58-4dbc-ba16-0004ef9eda02",
   "metadata": {},
   "source": [
    "### Simple Moving Average & Exponential Smoothing"
   ]
  },
  {
   "cell_type": "markdown",
   "id": "ea9bc040",
   "metadata": {},
   "source": [
    "```{glue:figure} all_predictions_head\n",
    ":name: \"all_predictions_head\"\n",
    "\n",
    "Head Preview of Predictions.\n",
    "```"
   ]
  },
  {
   "cell_type": "markdown",
   "id": "6bbc3c79",
   "metadata": {},
   "source": [
    "```{glue:figure} all_predictions_tail\n",
    ":name: \"all_predictions_tail\"\n",
    "\n",
    "Tail Preview of Predictions.\n",
    "```"
   ]
  },
  {
   "cell_type": "markdown",
   "id": "4943959d",
   "metadata": {},
   "source": [
    "```{figure} ../results/figures/sma_prediction_plot.png\n",
    "---\n",
    "width: 600px\n",
    "name: sma_prediction_plot\n",
    "---\n",
    "The plot that compares the original value and the predictions made by simple moving average.\n",
    "```"
   ]
  },
  {
   "cell_type": "markdown",
   "id": "fd393337",
   "metadata": {},
   "source": [
    "```{figure} ../results/figures/es_prediction_plot.png\n",
    "---\n",
    "width: 600px\n",
    "name: es_prediction_plot\n",
    "---\n",
    "The plot that compares the original value and the predictions made by exponential smoothing."
   ]
  },
  {
   "cell_type": "markdown",
   "id": "1d4b93d7-b58f-4de5-a4b3-eac785c8e11b",
   "metadata": {},
   "source": [
    "Based on a visual assessment of the Simple Moving Average (SMA) and Exponential Smoothing (ES) forecasts, it's evident that both methods broadly capture the general trend of the actual values. However, neither forecast method appears to be highly accurate. The Exponential Smoothing approach demonstrates a slightly improved performance compared to SMA."
   ]
  },
  {
   "cell_type": "markdown",
   "id": "f8baf9ab-0ef9-43cb-95c7-1e0a779c9e97",
   "metadata": {},
   "source": [
    "### ARIMA(1,1,0)"
   ]
  },
  {
   "cell_type": "markdown",
   "id": "968d05b1",
   "metadata": {},
   "source": [
    "```{figure} ../results/figures/autocorrelation_plot.png\n",
    "---\n",
    "width: 600px\n",
    "name: autocorrelation_plot\n",
    "---\n",
    "The autocorrelation plot for the time-series observations in our preprocessed data."
   ]
  },
  {
   "cell_type": "markdown",
   "id": "6e486a29",
   "metadata": {},
   "source": [
    "```{figure} ../results/figures/autocorrelation_with_diff_plot.png\n",
    "---\n",
    "width: 600px\n",
    "name: autocorrelation_with_diff_plot\n",
    "---\n",
    "The autocorrelation plot for the time-series observations in our preprocessed data with 1-time differencing."
   ]
  },
  {
   "cell_type": "markdown",
   "id": "f0fa8815",
   "metadata": {},
   "source": [
    "```{figure} ../results/figures/arima_prediction_plot.png\n",
    "---\n",
    "width: 600px\n",
    "name: arima_prediction_plot\n",
    "---\n",
    "The plot that compares the original value and the predictions made by arima model.\n",
    "```"
   ]
  },
  {
   "cell_type": "markdown",
   "id": "f1a52772-9503-46d7-8ff6-5aa8f549fd79",
   "metadata": {},
   "source": [
    "The forecast from the ARIMA model looks much better! We can see some clear overlaps between the forecasted value and the original value."
   ]
  },
  {
   "cell_type": "code",
   "execution_count": 21,
   "id": "ebf88c7b-f2eb-424d-989a-64f5cce84d71",
   "metadata": {},
   "outputs": [
    {
     "data": {
      "text/html": [
       "<div>\n",
       "<style scoped>\n",
       "    .dataframe tbody tr th:only-of-type {\n",
       "        vertical-align: middle;\n",
       "    }\n",
       "\n",
       "    .dataframe tbody tr th {\n",
       "        vertical-align: top;\n",
       "    }\n",
       "\n",
       "    .dataframe thead th {\n",
       "        text-align: right;\n",
       "    }\n",
       "</style>\n",
       "<table border=\"1\" class=\"dataframe\">\n",
       "  <thead>\n",
       "    <tr style=\"text-align: right;\">\n",
       "      <th></th>\n",
       "      <th>Forecast_Column</th>\n",
       "      <th>MAE</th>\n",
       "      <th>MSE</th>\n",
       "    </tr>\n",
       "  </thead>\n",
       "  <tbody>\n",
       "    <tr>\n",
       "      <th>0</th>\n",
       "      <td>SMA_Forecast</td>\n",
       "      <td>121.216737</td>\n",
       "      <td>27239.951827</td>\n",
       "    </tr>\n",
       "    <tr>\n",
       "      <th>1</th>\n",
       "      <td>ES_Forecast</td>\n",
       "      <td>98.641493</td>\n",
       "      <td>16240.436389</td>\n",
       "    </tr>\n",
       "    <tr>\n",
       "      <th>2</th>\n",
       "      <td>ARIMA_Forecast</td>\n",
       "      <td>26.856890</td>\n",
       "      <td>1940.870649</td>\n",
       "    </tr>\n",
       "  </tbody>\n",
       "</table>\n",
       "</div>"
      ],
      "text/plain": [
       "  Forecast_Column         MAE           MSE\n",
       "0    SMA_Forecast  121.216737  27239.951827\n",
       "1     ES_Forecast   98.641493  16240.436389\n",
       "2  ARIMA_Forecast   26.856890   1940.870649"
      ]
     },
     "execution_count": 21,
     "metadata": {},
     "output_type": "execute_result"
    }
   ],
   "source": [
    "# Drop NA values to evaluate performance\n",
    "\n",
    "prediction_drop_na = prediction.dropna()\n",
    "\n",
    "results_df = get_metrics_from_df(prediction_drop_na, \"Observations\")\n",
    "results_df"
   ]
  },
  {
   "cell_type": "markdown",
   "id": "cf91be82-91b3-40dc-9167-94327c2657df",
   "metadata": {},
   "source": [
    "The displayed dataframe outlines the performance metrics, specifically the mean absolute error (MAE) and mean squared error (MSE), for the three models. Notably, there's a discernible pattern showcasing a marked enhancement in performance, progressing from Simple Moving Average (SMA) to Exponential Smoothing Approach (ESA) and ultimately to ARIMA. This consistent trend aligns with the observations gleaned from the visualizations crafted earlier, affirming the gradual improvement in forecasting accuracy across the models.\n",
    "\n",
    "While the ARIMA model stands out as the most effective among the three forecasting models—simple moving average and exponential smoothing—it's crucial to acknowledge the room for enhancement in our predictive capabilities. Future advancements could entail fine-tuning the ARIMA hyperparameters or exploring alternative models to ascertain if further accuracy gains are attainable. Additionally, integrating exogenous variables, such as socioeconomic indicators or weather data, might augment the predictive power of our models, offering a more comprehensive understanding of crime dynamics. Furthermore, this analysis prompts future inquiries, including investigating the influence of specific external factors on crime occurrences or exploring spatial-temporal models to predict crime hotspots within Vancouver. These prospective avenues aim to refine our forecasting precision and deepen our insights into crime trends, paving the way for more informed law enforcement strategies and proactive crime prevention measures."
   ]
  },
  {
   "cell_type": "markdown",
   "id": "ee2e9682-814f-4f79-8fca-d7473410402a",
   "metadata": {},
   "source": [
    "## References"
   ]
  },
  {
   "cell_type": "markdown",
   "id": "5f7c1965",
   "metadata": {},
   "source": [
    "```{bibliography}\n",
    "```"
   ]
  }
 ],
 "metadata": {
  "kernelspec": {
   "display_name": "Python [conda env:avalon]",
   "language": "python",
   "name": "python3"
  },
  "language_info": {
   "codemirror_mode": {
    "name": "ipython",
    "version": 3
   },
   "file_extension": ".py",
   "mimetype": "text/x-python",
   "name": "python",
   "nbconvert_exporter": "python",
   "pygments_lexer": "ipython3",
   "version": "3.11.6"
  }
 },
 "nbformat": 4,
 "nbformat_minor": 5
}
